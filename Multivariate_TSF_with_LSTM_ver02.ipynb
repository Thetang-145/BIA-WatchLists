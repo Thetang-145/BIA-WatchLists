{
 "cells": [
  {
   "cell_type": "markdown",
   "metadata": {},
   "source": [
    "# Preparing"
   ]
  },
  {
   "cell_type": "code",
   "execution_count": 2,
   "metadata": {},
   "outputs": [],
   "source": [
    "# !nvidia-smi"
   ]
  },
  {
   "cell_type": "markdown",
   "metadata": {},
   "source": [
    "## Install library"
   ]
  },
  {
   "cell_type": "code",
   "execution_count": 3,
   "metadata": {},
   "outputs": [],
   "source": [
    "# !pip install --quiet pytorch-lightning==1.2.5\n",
    "# !pip install --quiet tqdm==4.59.0"
   ]
  },
  {
   "cell_type": "markdown",
   "metadata": {},
   "source": [
    "## Import libraries"
   ]
  },
  {
   "cell_type": "code",
   "execution_count": 4,
   "metadata": {},
   "outputs": [
    {
     "name": "stdout",
     "output_type": "stream",
     "text": [
      "4.61.2\n",
      "1.2.5\n"
     ]
    }
   ],
   "source": [
    "import seaborn as sns\n",
    "import matplotlib.pyplot as plt\n",
    "import matplotlib\n",
    "from matplotlib import rc, rcParams\n",
    "import math\n",
    "\n",
    "import pandas as pd\n",
    "import numpy as np\n",
    "import tqdm\n",
    "print(tqdm.__version__)\n",
    "from tqdm.notebook import tqdm\n",
    "import pytorch_lightning as pl\n",
    "print(pl.__version__)\n",
    "from pytorch_lightning.callbacks import ModelCheckpoint, EarlyStopping\n",
    "from pytorch_lightning.loggers import TensorBoardLogger\n",
    "from sklearn.preprocessing import MinMaxScaler\n",
    "\n",
    "import torch\n",
    "from torch import autograd, nn, optim\n",
    "import torch.nn.functional as F\n",
    "from torch.utils.data import Dataset, DataLoader\n",
    "from collections import defaultdict"
   ]
  },
  {
   "cell_type": "code",
   "execution_count": 5,
   "metadata": {},
   "outputs": [],
   "source": [
    "%matplotlib inline\n",
    "%config InlineBackend.figure_format='retina'\n",
    "\n",
    "sns.set(style='whitegrid', palette='muted', font_scale=1.2)\n",
    "\n",
    "HAPPY_COLORS_PALLETE = [\"#01BEFE\", \"#FFDD00\", \"#FF7D00\", \"#FF006D\", \"#ADFF02\", \"#8F00FF\"]\n",
    "\n",
    "sns.set_palette(sns.color_palette(HAPPY_COLORS_PALLETE))\n",
    "\n",
    "rcParams['figure.figsize'] = 12, 8\n",
    "\n",
    "tqdm.pandas()"
   ]
  },
  {
   "cell_type": "code",
   "execution_count": 6,
   "metadata": {},
   "outputs": [
    {
     "name": "stderr",
     "output_type": "stream",
     "text": [
      "Global seed set to 42\n"
     ]
    },
    {
     "data": {
      "text/plain": [
       "42"
      ]
     },
     "execution_count": 6,
     "metadata": {},
     "output_type": "execute_result"
    }
   ],
   "source": [
    "pl.seed_everything(42)"
   ]
  },
  {
   "cell_type": "markdown",
   "metadata": {},
   "source": [
    "# Data"
   ]
  },
  {
   "cell_type": "code",
   "execution_count": 7,
   "metadata": {},
   "outputs": [],
   "source": [
    "Data_list = []\n",
    "Column_names = []"
   ]
  },
  {
   "cell_type": "markdown",
   "metadata": {},
   "source": [
    "### Load watch price"
   ]
  },
  {
   "cell_type": "code",
   "execution_count": 8,
   "metadata": {},
   "outputs": [
    {
     "data": {
      "text/html": [
       "<div>\n",
       "<style scoped>\n",
       "    .dataframe tbody tr th:only-of-type {\n",
       "        vertical-align: middle;\n",
       "    }\n",
       "\n",
       "    .dataframe tbody tr th {\n",
       "        vertical-align: top;\n",
       "    }\n",
       "\n",
       "    .dataframe thead th {\n",
       "        text-align: right;\n",
       "    }\n",
       "</style>\n",
       "<table border=\"1\" class=\"dataframe\">\n",
       "  <thead>\n",
       "    <tr style=\"text-align: right;\">\n",
       "      <th></th>\n",
       "      <th>Price</th>\n",
       "    </tr>\n",
       "    <tr>\n",
       "      <th>Date</th>\n",
       "      <th></th>\n",
       "    </tr>\n",
       "  </thead>\n",
       "  <tbody>\n",
       "    <tr>\n",
       "      <th>2019-03-10</th>\n",
       "      <td>50931.0</td>\n",
       "    </tr>\n",
       "    <tr>\n",
       "      <th>2019-03-11</th>\n",
       "      <td>50931.0</td>\n",
       "    </tr>\n",
       "    <tr>\n",
       "      <th>2019-03-12</th>\n",
       "      <td>50931.0</td>\n",
       "    </tr>\n",
       "    <tr>\n",
       "      <th>2019-03-13</th>\n",
       "      <td>50931.0</td>\n",
       "    </tr>\n",
       "    <tr>\n",
       "      <th>2019-03-14</th>\n",
       "      <td>50931.0</td>\n",
       "    </tr>\n",
       "  </tbody>\n",
       "</table>\n",
       "</div>"
      ],
      "text/plain": [
       "              Price\n",
       "Date               \n",
       "2019-03-10  50931.0\n",
       "2019-03-11  50931.0\n",
       "2019-03-12  50931.0\n",
       "2019-03-13  50931.0\n",
       "2019-03-14  50931.0"
      ]
     },
     "execution_count": 8,
     "metadata": {},
     "output_type": "execute_result"
    }
   ],
   "source": [
    "path = 'Datasets\\Price_chart_Game\\A. Lange & Söhne\\A. Lange & Söhne 140.029\\price.csv'\n",
    "watch = pd.read_csv(path, index_col=0)\n",
    "watch['Price'] = pd.to_numeric(watch['Price'])\n",
    "watch.index = pd.to_datetime(watch.index, dayfirst=True)\n",
    "watch = watch.resample('D', convention='s').mean()\n",
    "watch.fillna(method='ffill', inplace=True)\n",
    "\n",
    "Data_list.append(watch)\n",
    "Column_names.append('watch_price')\n",
    "\n",
    "watch.head()"
   ]
  },
  {
   "cell_type": "code",
   "execution_count": null,
   "metadata": {},
   "outputs": [],
   "source": []
  },
  {
   "cell_type": "markdown",
   "metadata": {},
   "source": [
    "### Load gold price"
   ]
  },
  {
   "cell_type": "code",
   "execution_count": 40,
   "metadata": {},
   "outputs": [
    {
     "name": "stdout",
     "output_type": "stream",
     "text": [
      "(1895, 1)\n"
     ]
    },
    {
     "data": {
      "text/html": [
       "<div>\n",
       "<style scoped>\n",
       "    .dataframe tbody tr th:only-of-type {\n",
       "        vertical-align: middle;\n",
       "    }\n",
       "\n",
       "    .dataframe tbody tr th {\n",
       "        vertical-align: top;\n",
       "    }\n",
       "\n",
       "    .dataframe thead th {\n",
       "        text-align: right;\n",
       "    }\n",
       "</style>\n",
       "<table border=\"1\" class=\"dataframe\">\n",
       "  <thead>\n",
       "    <tr style=\"text-align: right;\">\n",
       "      <th></th>\n",
       "      <th>Value</th>\n",
       "    </tr>\n",
       "    <tr>\n",
       "      <th>Date</th>\n",
       "      <th></th>\n",
       "    </tr>\n",
       "  </thead>\n",
       "  <tbody>\n",
       "    <tr>\n",
       "      <th>2017-01-02</th>\n",
       "      <td>1145.9</td>\n",
       "    </tr>\n",
       "    <tr>\n",
       "      <th>2017-01-03</th>\n",
       "      <td>1151.0</td>\n",
       "    </tr>\n",
       "    <tr>\n",
       "      <th>2017-01-04</th>\n",
       "      <td>1164.3</td>\n",
       "    </tr>\n",
       "    <tr>\n",
       "      <th>2017-01-05</th>\n",
       "      <td>1176.7</td>\n",
       "    </tr>\n",
       "    <tr>\n",
       "      <th>2017-01-06</th>\n",
       "      <td>1175.9</td>\n",
       "    </tr>\n",
       "  </tbody>\n",
       "</table>\n",
       "</div>"
      ],
      "text/plain": [
       "             Value\n",
       "Date              \n",
       "2017-01-02  1145.9\n",
       "2017-01-03  1151.0\n",
       "2017-01-04  1164.3\n",
       "2017-01-05  1176.7\n",
       "2017-01-06  1175.9"
      ]
     },
     "execution_count": 40,
     "metadata": {},
     "output_type": "execute_result"
    }
   ],
   "source": [
    "gold = pd.read_csv(\"Datasets\\Gold_price.csv\", index_col=0)\n",
    "gold['Value'] = gold['Value'].str.replace(',','')\n",
    "gold['Value'] = pd.to_numeric(gold['Value'])\n",
    "gold.index = pd.to_datetime(gold.index, dayfirst=True)\n",
    "gold = gold.resample('D', convention='s').mean()\n",
    "gold.fillna(method='ffill', inplace=True)\n",
    "print(gold.shape)\n",
    "\n",
    "Data_list.append(gold)\n",
    "Column_names.append('gold_price')\n",
    "\n",
    "gold.head()"
   ]
  },
  {
   "cell_type": "markdown",
   "metadata": {},
   "source": [
    "### Load Inflation rate"
   ]
  },
  {
   "cell_type": "code",
   "execution_count": 41,
   "metadata": {},
   "outputs": [
    {
     "name": "stdout",
     "output_type": "stream",
     "text": [
      "(1825, 1)\n"
     ]
    },
    {
     "data": {
      "text/html": [
       "<div>\n",
       "<style scoped>\n",
       "    .dataframe tbody tr th:only-of-type {\n",
       "        vertical-align: middle;\n",
       "    }\n",
       "\n",
       "    .dataframe tbody tr th {\n",
       "        vertical-align: top;\n",
       "    }\n",
       "\n",
       "    .dataframe thead th {\n",
       "        text-align: right;\n",
       "    }\n",
       "</style>\n",
       "<table border=\"1\" class=\"dataframe\">\n",
       "  <thead>\n",
       "    <tr style=\"text-align: right;\">\n",
       "      <th></th>\n",
       "      <th>Value</th>\n",
       "    </tr>\n",
       "    <tr>\n",
       "      <th>DATE</th>\n",
       "      <th></th>\n",
       "    </tr>\n",
       "  </thead>\n",
       "  <tbody>\n",
       "    <tr>\n",
       "      <th>2017-03-13</th>\n",
       "      <td>2.16</td>\n",
       "    </tr>\n",
       "    <tr>\n",
       "      <th>2017-03-14</th>\n",
       "      <td>2.10</td>\n",
       "    </tr>\n",
       "    <tr>\n",
       "      <th>2017-03-15</th>\n",
       "      <td>2.18</td>\n",
       "    </tr>\n",
       "    <tr>\n",
       "      <th>2017-03-16</th>\n",
       "      <td>2.17</td>\n",
       "    </tr>\n",
       "    <tr>\n",
       "      <th>2017-03-17</th>\n",
       "      <td>2.13</td>\n",
       "    </tr>\n",
       "  </tbody>\n",
       "</table>\n",
       "</div>"
      ],
      "text/plain": [
       "            Value\n",
       "DATE             \n",
       "2017-03-13   2.16\n",
       "2017-03-14   2.10\n",
       "2017-03-15   2.18\n",
       "2017-03-16   2.17\n",
       "2017-03-17   2.13"
      ]
     },
     "execution_count": 41,
     "metadata": {},
     "output_type": "execute_result"
    }
   ],
   "source": [
    "IR = pd.read_csv(\"Datasets\\Inflation_rate.csv\", index_col=0)\n",
    "IR['Value'] = IR['Value'].str.replace(',','')\n",
    "for _, item in IR.iterrows():\n",
    "    if item[0] == '.': item[0] = np.nan\n",
    "IR['Value'] = pd.to_numeric(IR['Value'])\n",
    "IR.index = pd.to_datetime(IR.index, dayfirst=True)\n",
    "IR = IR.resample('D', convention='s').mean()\n",
    "IR.fillna(method='ffill', inplace=True)\n",
    "print(IR.shape)\n",
    "IR.head()"
   ]
  },
  {
   "cell_type": "markdown",
   "metadata": {},
   "source": [
    "### Load stock data"
   ]
  },
  {
   "cell_type": "code",
   "execution_count": 42,
   "metadata": {},
   "outputs": [
    {
     "name": "stdout",
     "output_type": "stream",
     "text": [
      "(1795, 5)\n"
     ]
    },
    {
     "data": {
      "text/html": [
       "<div>\n",
       "<style scoped>\n",
       "    .dataframe tbody tr th:only-of-type {\n",
       "        vertical-align: middle;\n",
       "    }\n",
       "\n",
       "    .dataframe tbody tr th {\n",
       "        vertical-align: top;\n",
       "    }\n",
       "\n",
       "    .dataframe thead th {\n",
       "        text-align: right;\n",
       "    }\n",
       "</style>\n",
       "<table border=\"1\" class=\"dataframe\">\n",
       "  <thead>\n",
       "    <tr style=\"text-align: right;\">\n",
       "      <th></th>\n",
       "      <th>Price</th>\n",
       "      <th>Open</th>\n",
       "      <th>High</th>\n",
       "      <th>Low</th>\n",
       "      <th>Change %</th>\n",
       "    </tr>\n",
       "    <tr>\n",
       "      <th>Date</th>\n",
       "      <th></th>\n",
       "      <th></th>\n",
       "      <th></th>\n",
       "      <th></th>\n",
       "      <th></th>\n",
       "    </tr>\n",
       "  </thead>\n",
       "  <tbody>\n",
       "    <tr>\n",
       "      <th>2017-04-11</th>\n",
       "      <td>2138.81</td>\n",
       "      <td>2138.81</td>\n",
       "      <td>2138.81</td>\n",
       "      <td>2138.81</td>\n",
       "      <td>0.21</td>\n",
       "    </tr>\n",
       "    <tr>\n",
       "      <th>2017-04-12</th>\n",
       "      <td>2140.47</td>\n",
       "      <td>2140.47</td>\n",
       "      <td>2140.47</td>\n",
       "      <td>2140.47</td>\n",
       "      <td>0.08</td>\n",
       "    </tr>\n",
       "    <tr>\n",
       "      <th>2017-04-13</th>\n",
       "      <td>2137.98</td>\n",
       "      <td>2137.98</td>\n",
       "      <td>2137.98</td>\n",
       "      <td>2137.98</td>\n",
       "      <td>-0.12</td>\n",
       "    </tr>\n",
       "    <tr>\n",
       "      <th>2017-04-14</th>\n",
       "      <td>2137.31</td>\n",
       "      <td>2137.31</td>\n",
       "      <td>2137.31</td>\n",
       "      <td>2137.31</td>\n",
       "      <td>-0.03</td>\n",
       "    </tr>\n",
       "    <tr>\n",
       "      <th>2017-04-15</th>\n",
       "      <td>2137.31</td>\n",
       "      <td>2137.31</td>\n",
       "      <td>2137.31</td>\n",
       "      <td>2137.31</td>\n",
       "      <td>-0.03</td>\n",
       "    </tr>\n",
       "  </tbody>\n",
       "</table>\n",
       "</div>"
      ],
      "text/plain": [
       "              Price     Open     High      Low  Change %\n",
       "Date                                                    \n",
       "2017-04-11  2138.81  2138.81  2138.81  2138.81      0.21\n",
       "2017-04-12  2140.47  2140.47  2140.47  2140.47      0.08\n",
       "2017-04-13  2137.98  2137.98  2137.98  2137.98     -0.12\n",
       "2017-04-14  2137.31  2137.31  2137.31  2137.31     -0.03\n",
       "2017-04-15  2137.31  2137.31  2137.31  2137.31     -0.03"
      ]
     },
     "execution_count": 42,
     "metadata": {},
     "output_type": "execute_result"
    }
   ],
   "source": [
    "GLG = pd.read_csv(\"Datasets\\S&P Global Luxury Goods.csv\", index_col=0)\n",
    "for col in GLG.columns:\n",
    "    GLG[col] = GLG[col].str.replace(',','')\n",
    "    GLG[col] = GLG[col].str.replace('%','')\n",
    "    GLG[col] = pd.to_numeric(GLG[col])\n",
    "    Column_names.append('GLG_'+col)\n",
    "GLG.index = pd.to_datetime(GLG.index, dayfirst=True)\n",
    "GLG = GLG.resample('D', convention='s').mean()\n",
    "GLG.fillna(method='ffill', inplace=True)\n",
    "print(GLG.shape)\n",
    "Data_list.append(GLG)\n",
    "GLG.head()"
   ]
  },
  {
   "cell_type": "markdown",
   "metadata": {},
   "source": [
    "## Concat all"
   ]
  },
  {
   "cell_type": "code",
   "execution_count": 43,
   "metadata": {},
   "outputs": [
    {
     "name": "stdout",
     "output_type": "stream",
     "text": [
      "(1162, 7)\n"
     ]
    },
    {
     "data": {
      "text/html": [
       "<div>\n",
       "<style scoped>\n",
       "    .dataframe tbody tr th:only-of-type {\n",
       "        vertical-align: middle;\n",
       "    }\n",
       "\n",
       "    .dataframe tbody tr th {\n",
       "        vertical-align: top;\n",
       "    }\n",
       "\n",
       "    .dataframe thead th {\n",
       "        text-align: right;\n",
       "    }\n",
       "</style>\n",
       "<table border=\"1\" class=\"dataframe\">\n",
       "  <thead>\n",
       "    <tr style=\"text-align: right;\">\n",
       "      <th></th>\n",
       "      <th>watch_price</th>\n",
       "      <th>gold_price</th>\n",
       "      <th>GLG_Price</th>\n",
       "      <th>GLG_Open</th>\n",
       "      <th>GLG_High</th>\n",
       "      <th>GLG_Low</th>\n",
       "      <th>GLG_Change %</th>\n",
       "    </tr>\n",
       "    <tr>\n",
       "      <th>Date</th>\n",
       "      <th></th>\n",
       "      <th></th>\n",
       "      <th></th>\n",
       "      <th></th>\n",
       "      <th></th>\n",
       "      <th></th>\n",
       "      <th></th>\n",
       "    </tr>\n",
       "  </thead>\n",
       "  <tbody>\n",
       "    <tr>\n",
       "      <th>2019-01-04</th>\n",
       "      <td>50931.0</td>\n",
       "      <td>1279.9</td>\n",
       "      <td>2328.02</td>\n",
       "      <td>2328.02</td>\n",
       "      <td>2328.02</td>\n",
       "      <td>2328.02</td>\n",
       "      <td>3.19</td>\n",
       "    </tr>\n",
       "    <tr>\n",
       "      <th>2019-01-05</th>\n",
       "      <td>50931.0</td>\n",
       "      <td>1279.9</td>\n",
       "      <td>2328.02</td>\n",
       "      <td>2328.02</td>\n",
       "      <td>2328.02</td>\n",
       "      <td>2328.02</td>\n",
       "      <td>3.19</td>\n",
       "    </tr>\n",
       "    <tr>\n",
       "      <th>2019-01-06</th>\n",
       "      <td>50931.0</td>\n",
       "      <td>1279.9</td>\n",
       "      <td>2328.02</td>\n",
       "      <td>2328.02</td>\n",
       "      <td>2328.02</td>\n",
       "      <td>2328.02</td>\n",
       "      <td>3.19</td>\n",
       "    </tr>\n",
       "    <tr>\n",
       "      <th>2019-01-07</th>\n",
       "      <td>50931.0</td>\n",
       "      <td>1292.2</td>\n",
       "      <td>2353.99</td>\n",
       "      <td>2353.99</td>\n",
       "      <td>2353.99</td>\n",
       "      <td>2353.99</td>\n",
       "      <td>1.12</td>\n",
       "    </tr>\n",
       "    <tr>\n",
       "      <th>2019-01-08</th>\n",
       "      <td>50931.0</td>\n",
       "      <td>1286.5</td>\n",
       "      <td>2384.28</td>\n",
       "      <td>2384.28</td>\n",
       "      <td>2384.28</td>\n",
       "      <td>2384.28</td>\n",
       "      <td>1.29</td>\n",
       "    </tr>\n",
       "  </tbody>\n",
       "</table>\n",
       "</div>"
      ],
      "text/plain": [
       "            watch_price  gold_price  GLG_Price  GLG_Open  GLG_High  GLG_Low  \\\n",
       "Date                                                                          \n",
       "2019-01-04      50931.0      1279.9    2328.02   2328.02   2328.02  2328.02   \n",
       "2019-01-05      50931.0      1279.9    2328.02   2328.02   2328.02  2328.02   \n",
       "2019-01-06      50931.0      1279.9    2328.02   2328.02   2328.02  2328.02   \n",
       "2019-01-07      50931.0      1292.2    2353.99   2353.99   2353.99  2353.99   \n",
       "2019-01-08      50931.0      1286.5    2384.28   2384.28   2384.28  2384.28   \n",
       "\n",
       "            GLG_Change %  \n",
       "Date                      \n",
       "2019-01-04          3.19  \n",
       "2019-01-05          3.19  \n",
       "2019-01-06          3.19  \n",
       "2019-01-07          1.12  \n",
       "2019-01-08          1.29  "
      ]
     },
     "execution_count": 43,
     "metadata": {},
     "output_type": "execute_result"
    }
   ],
   "source": [
    "df = pd.concat(Data_list, axis=1, join='inner')\n",
    "df.columns = Column_names\n",
    "print(df.shape)\n",
    "df.head()"
   ]
  },
  {
   "cell_type": "code",
   "execution_count": 55,
   "metadata": {},
   "outputs": [
    {
     "data": {
      "text/html": [
       "<div>\n",
       "<style scoped>\n",
       "    .dataframe tbody tr th:only-of-type {\n",
       "        vertical-align: middle;\n",
       "    }\n",
       "\n",
       "    .dataframe tbody tr th {\n",
       "        vertical-align: top;\n",
       "    }\n",
       "\n",
       "    .dataframe thead th {\n",
       "        text-align: right;\n",
       "    }\n",
       "</style>\n",
       "<table border=\"1\" class=\"dataframe\">\n",
       "  <thead>\n",
       "    <tr style=\"text-align: right;\">\n",
       "      <th></th>\n",
       "      <th>watch_price</th>\n",
       "      <th>gold_price</th>\n",
       "      <th>GLG_Price</th>\n",
       "      <th>GLG_Open</th>\n",
       "      <th>GLG_High</th>\n",
       "      <th>GLG_Low</th>\n",
       "      <th>GLG_Change %</th>\n",
       "      <th>Date</th>\n",
       "    </tr>\n",
       "    <tr>\n",
       "      <th>Date</th>\n",
       "      <th></th>\n",
       "      <th></th>\n",
       "      <th></th>\n",
       "      <th></th>\n",
       "      <th></th>\n",
       "      <th></th>\n",
       "      <th></th>\n",
       "      <th></th>\n",
       "    </tr>\n",
       "  </thead>\n",
       "  <tbody>\n",
       "    <tr>\n",
       "      <th>2019-01-04</th>\n",
       "      <td>50931.0</td>\n",
       "      <td>1279.9</td>\n",
       "      <td>2328.02</td>\n",
       "      <td>2328.02</td>\n",
       "      <td>2328.02</td>\n",
       "      <td>2328.02</td>\n",
       "      <td>3.19</td>\n",
       "      <td>2019-01-04</td>\n",
       "    </tr>\n",
       "    <tr>\n",
       "      <th>2019-01-05</th>\n",
       "      <td>50931.0</td>\n",
       "      <td>1279.9</td>\n",
       "      <td>2328.02</td>\n",
       "      <td>2328.02</td>\n",
       "      <td>2328.02</td>\n",
       "      <td>2328.02</td>\n",
       "      <td>3.19</td>\n",
       "      <td>2019-01-05</td>\n",
       "    </tr>\n",
       "    <tr>\n",
       "      <th>2019-01-06</th>\n",
       "      <td>50931.0</td>\n",
       "      <td>1279.9</td>\n",
       "      <td>2328.02</td>\n",
       "      <td>2328.02</td>\n",
       "      <td>2328.02</td>\n",
       "      <td>2328.02</td>\n",
       "      <td>3.19</td>\n",
       "      <td>2019-01-06</td>\n",
       "    </tr>\n",
       "    <tr>\n",
       "      <th>2019-01-07</th>\n",
       "      <td>50931.0</td>\n",
       "      <td>1292.2</td>\n",
       "      <td>2353.99</td>\n",
       "      <td>2353.99</td>\n",
       "      <td>2353.99</td>\n",
       "      <td>2353.99</td>\n",
       "      <td>1.12</td>\n",
       "      <td>2019-01-07</td>\n",
       "    </tr>\n",
       "    <tr>\n",
       "      <th>2019-01-08</th>\n",
       "      <td>50931.0</td>\n",
       "      <td>1286.5</td>\n",
       "      <td>2384.28</td>\n",
       "      <td>2384.28</td>\n",
       "      <td>2384.28</td>\n",
       "      <td>2384.28</td>\n",
       "      <td>1.29</td>\n",
       "      <td>2019-01-08</td>\n",
       "    </tr>\n",
       "  </tbody>\n",
       "</table>\n",
       "</div>"
      ],
      "text/plain": [
       "            watch_price  gold_price  GLG_Price  GLG_Open  GLG_High  GLG_Low  \\\n",
       "Date                                                                          \n",
       "2019-01-04      50931.0      1279.9    2328.02   2328.02   2328.02  2328.02   \n",
       "2019-01-05      50931.0      1279.9    2328.02   2328.02   2328.02  2328.02   \n",
       "2019-01-06      50931.0      1279.9    2328.02   2328.02   2328.02  2328.02   \n",
       "2019-01-07      50931.0      1292.2    2353.99   2353.99   2353.99  2353.99   \n",
       "2019-01-08      50931.0      1286.5    2384.28   2384.28   2384.28  2384.28   \n",
       "\n",
       "            GLG_Change %       Date  \n",
       "Date                                 \n",
       "2019-01-04          3.19 2019-01-04  \n",
       "2019-01-05          3.19 2019-01-05  \n",
       "2019-01-06          3.19 2019-01-06  \n",
       "2019-01-07          1.12 2019-01-07  \n",
       "2019-01-08          1.29 2019-01-08  "
      ]
     },
     "execution_count": 55,
     "metadata": {},
     "output_type": "execute_result"
    }
   ],
   "source": [
    "df['Date'] = df.index\n",
    "df.head()"
   ]
  },
  {
   "cell_type": "code",
   "execution_count": 44,
   "metadata": {},
   "outputs": [],
   "source": [
    "# watch[\"Prev_Price\"] = watch.shift(1)[\"Price\"]\n",
    "# watch.head()\n",
    "# print(type(watch))"
   ]
  },
  {
   "cell_type": "code",
   "execution_count": 45,
   "metadata": {},
   "outputs": [],
   "source": [
    "# watch[\"Price_Change\"] = watch.progress_apply(\n",
    "#     lambda row: 0 if np.isnan(row[\"Prev_Price\"]) else row[\"Price\"] - row[\"Prev_Price\"],\n",
    "#     axis = 1\n",
    "# )\n",
    "# watch.head()"
   ]
  },
  {
   "cell_type": "markdown",
   "metadata": {},
   "source": [
    "## Loading other data"
   ]
  },
  {
   "cell_type": "code",
   "execution_count": 46,
   "metadata": {},
   "outputs": [],
   "source": [
    "# gold = pd.read_csv(\"Datasets\\Gold_price.csv\")\n",
    "# gold['Value'] = gold['Value'].str.replace(',','')\n",
    "# gold['Date'] = pd.to_datetime(gold['Date'], dayfirst=True)\n",
    "# gold['Value'] = pd.to_numeric(gold['Value'])\n",
    "# mask = (gold.Date >= watch.iloc[0]['Date']) & (gold.Date <= watch.iloc[-1]['Date'])\n",
    "# gold = gold.loc[mask]\n",
    "\n",
    "# gold = gold.resample('D', on='Date', convention='s').mean()\n",
    "# gold.fillna(method='ffill', inplace=True)\n",
    "\n",
    "# print(gold.shape)\n",
    "# gold.head()"
   ]
  },
  {
   "cell_type": "code",
   "execution_count": 47,
   "metadata": {},
   "outputs": [],
   "source": [
    "# IR = pd.read_csv(\"Datasets\\Inflation_rate.csv\")\n",
    "# IR['Value'] = IR['Value'].str.replace(',','')\n",
    "# IR['Date'] = pd.to_datetime(IR['Date'], dayfirst=True)\n",
    "# IR['Value'] = pd.to_numeric(IR['Value'])\n",
    "# IR = (IR.Date >= watch.iloc[0]['Date']) & (IR.Date <= watch.iloc[-1]['Date'])\n",
    "# IR = IR.loc[mask]\n",
    "\n",
    "# IR = IR.resample('D', on='Date', convention='s').mean()\n",
    "# IR.fillna(method='ffill', inplace=True)\n",
    "\n",
    "# print(IR.shape)\n",
    "# IR.head()"
   ]
  },
  {
   "cell_type": "markdown",
   "metadata": {},
   "source": [
    "## Create feature df"
   ]
  },
  {
   "cell_type": "code",
   "execution_count": 56,
   "metadata": {},
   "outputs": [
    {
     "data": {
      "application/vnd.jupyter.widget-view+json": {
       "model_id": "4830d50a653f4e2b8989cd6984ecf46d",
       "version_major": 2,
       "version_minor": 0
      },
      "text/plain": [
       "  0%|          | 0/1162 [00:00<?, ?it/s]"
      ]
     },
     "metadata": {},
     "output_type": "display_data"
    }
   ],
   "source": [
    "rows = []\n",
    "\n",
    "for _, row in tqdm(df.iterrows(), total=df.shape[0]):\n",
    "    row_data = dict(\n",
    "        day_of_week = row.Date.dayofweek,\n",
    "        day_of_month = row.Date.day,\n",
    "        week_of_year = row.Date.week,\n",
    "        month = row.Date.month,\n",
    "        watch_price = row.watch_price,\n",
    "        gold_price = row.gold_price,\n",
    "        GLG_Price = row.GLG_Price,\n",
    "        GLG_Open = row.GLG_Open,\n",
    "        GLG_High = row.GLG_High,\n",
    "        GLG_Low = row.GLG_Low,\n",
    "        GLG_Change = row['GLG_Change %']\n",
    "        \n",
    "    )\n",
    "    rows.append(row_data)\n",
    "\n",
    "features_df = pd.DataFrame(rows)"
   ]
  },
  {
   "cell_type": "code",
   "execution_count": 57,
   "metadata": {},
   "outputs": [],
   "source": [
    "# print(features_df.shape)\n",
    "# features_df.head()"
   ]
  },
  {
   "cell_type": "markdown",
   "metadata": {},
   "source": [
    "## Set TRAIN_RATIO"
   ]
  },
  {
   "cell_type": "code",
   "execution_count": 58,
   "metadata": {},
   "outputs": [
    {
     "name": "stdout",
     "output_type": "stream",
     "text": [
      "697\n"
     ]
    }
   ],
   "source": [
    "TRAIN_RATIO = 0.6\n",
    "\n",
    "train_size = int(len(features_df) * TRAIN_RATIO)\n",
    "print(train_size)"
   ]
  },
  {
   "cell_type": "code",
   "execution_count": 59,
   "metadata": {},
   "outputs": [
    {
     "name": "stdout",
     "output_type": "stream",
     "text": [
      "(697, 11) (465, 11)\n"
     ]
    }
   ],
   "source": [
    "train_df, test_df = features_df[:train_size], features_df[train_size:]\n",
    "print(train_df.shape, test_df.shape)"
   ]
  },
  {
   "cell_type": "code",
   "execution_count": 60,
   "metadata": {},
   "outputs": [],
   "source": [
    "scaler = MinMaxScaler(feature_range=(-1, 1))\n",
    "scaler = scaler.fit(train_df)"
   ]
  },
  {
   "cell_type": "code",
   "execution_count": 61,
   "metadata": {},
   "outputs": [],
   "source": [
    "train_df = pd.DataFrame(\n",
    "    scaler.transform(train_df),\n",
    "    index=train_df.index,\n",
    "    columns=train_df.columns\n",
    ")"
   ]
  },
  {
   "cell_type": "code",
   "execution_count": 62,
   "metadata": {},
   "outputs": [],
   "source": [
    "test_df = pd.DataFrame(\n",
    "    scaler.transform(test_df),\n",
    "    index=test_df.index,\n",
    "    columns=test_df.columns\n",
    ")"
   ]
  },
  {
   "cell_type": "code",
   "execution_count": 63,
   "metadata": {},
   "outputs": [
    {
     "data": {
      "text/html": [
       "<div>\n",
       "<style scoped>\n",
       "    .dataframe tbody tr th:only-of-type {\n",
       "        vertical-align: middle;\n",
       "    }\n",
       "\n",
       "    .dataframe tbody tr th {\n",
       "        vertical-align: top;\n",
       "    }\n",
       "\n",
       "    .dataframe thead th {\n",
       "        text-align: right;\n",
       "    }\n",
       "</style>\n",
       "<table border=\"1\" class=\"dataframe\">\n",
       "  <thead>\n",
       "    <tr style=\"text-align: right;\">\n",
       "      <th></th>\n",
       "      <th>day_of_week</th>\n",
       "      <th>day_of_month</th>\n",
       "      <th>week_of_year</th>\n",
       "      <th>month</th>\n",
       "      <th>watch_price</th>\n",
       "      <th>gold_price</th>\n",
       "      <th>GLG_Price</th>\n",
       "      <th>GLG_Open</th>\n",
       "      <th>GLG_High</th>\n",
       "      <th>GLG_Low</th>\n",
       "      <th>GLG_Change</th>\n",
       "    </tr>\n",
       "  </thead>\n",
       "  <tbody>\n",
       "    <tr>\n",
       "      <th>697</th>\n",
       "      <td>-0.666667</td>\n",
       "      <td>-1.000000</td>\n",
       "      <td>0.882353</td>\n",
       "      <td>1.0</td>\n",
       "      <td>-1.0</td>\n",
       "      <td>0.357152</td>\n",
       "      <td>1.009622</td>\n",
       "      <td>1.009622</td>\n",
       "      <td>1.009622</td>\n",
       "      <td>1.009622</td>\n",
       "      <td>0.153846</td>\n",
       "    </tr>\n",
       "    <tr>\n",
       "      <th>698</th>\n",
       "      <td>-0.333333</td>\n",
       "      <td>-0.933333</td>\n",
       "      <td>0.882353</td>\n",
       "      <td>1.0</td>\n",
       "      <td>-1.0</td>\n",
       "      <td>0.386737</td>\n",
       "      <td>1.011749</td>\n",
       "      <td>1.011749</td>\n",
       "      <td>1.011749</td>\n",
       "      <td>1.011749</td>\n",
       "      <td>0.022727</td>\n",
       "    </tr>\n",
       "    <tr>\n",
       "      <th>699</th>\n",
       "      <td>0.000000</td>\n",
       "      <td>-0.866667</td>\n",
       "      <td>0.882353</td>\n",
       "      <td>1.0</td>\n",
       "      <td>-1.0</td>\n",
       "      <td>0.411308</td>\n",
       "      <td>1.066426</td>\n",
       "      <td>1.066426</td>\n",
       "      <td>1.066426</td>\n",
       "      <td>1.066426</td>\n",
       "      <td>0.145105</td>\n",
       "    </tr>\n",
       "    <tr>\n",
       "      <th>700</th>\n",
       "      <td>0.333333</td>\n",
       "      <td>-0.800000</td>\n",
       "      <td>0.882353</td>\n",
       "      <td>1.0</td>\n",
       "      <td>-1.0</td>\n",
       "      <td>0.437884</td>\n",
       "      <td>1.081614</td>\n",
       "      <td>1.081614</td>\n",
       "      <td>1.081614</td>\n",
       "      <td>1.081614</td>\n",
       "      <td>0.052448</td>\n",
       "    </tr>\n",
       "    <tr>\n",
       "      <th>701</th>\n",
       "      <td>0.666667</td>\n",
       "      <td>-0.733333</td>\n",
       "      <td>0.882353</td>\n",
       "      <td>1.0</td>\n",
       "      <td>-1.0</td>\n",
       "      <td>0.437884</td>\n",
       "      <td>1.081614</td>\n",
       "      <td>1.081614</td>\n",
       "      <td>1.081614</td>\n",
       "      <td>1.081614</td>\n",
       "      <td>0.052448</td>\n",
       "    </tr>\n",
       "  </tbody>\n",
       "</table>\n",
       "</div>"
      ],
      "text/plain": [
       "     day_of_week  day_of_month  week_of_year  month  watch_price  gold_price  \\\n",
       "697    -0.666667     -1.000000      0.882353    1.0         -1.0    0.357152   \n",
       "698    -0.333333     -0.933333      0.882353    1.0         -1.0    0.386737   \n",
       "699     0.000000     -0.866667      0.882353    1.0         -1.0    0.411308   \n",
       "700     0.333333     -0.800000      0.882353    1.0         -1.0    0.437884   \n",
       "701     0.666667     -0.733333      0.882353    1.0         -1.0    0.437884   \n",
       "\n",
       "     GLG_Price  GLG_Open  GLG_High   GLG_Low  GLG_Change  \n",
       "697   1.009622  1.009622  1.009622  1.009622    0.153846  \n",
       "698   1.011749  1.011749  1.011749  1.011749    0.022727  \n",
       "699   1.066426  1.066426  1.066426  1.066426    0.145105  \n",
       "700   1.081614  1.081614  1.081614  1.081614    0.052448  \n",
       "701   1.081614  1.081614  1.081614  1.081614    0.052448  "
      ]
     },
     "execution_count": 63,
     "metadata": {},
     "output_type": "execute_result"
    }
   ],
   "source": [
    "test_df.head()"
   ]
  },
  {
   "cell_type": "code",
   "execution_count": 64,
   "metadata": {},
   "outputs": [],
   "source": [
    "def create_sequences(input_data: pd.DataFrame, target_column, sequence_length, days_pred):\n",
    "\n",
    "    sequences = []\n",
    "    data_size = len(input_data)\n",
    "\n",
    "    for i in tqdm(range(data_size - sequence_length - days_pred)):\n",
    "\n",
    "        sequence = input_data[i:i+sequence_length]\n",
    "\n",
    "        label_position = i + sequence_length + days_pred\n",
    "        label = input_data.iloc[label_position][target_column]\n",
    "        \n",
    "        sequences.append((sequence, label))\n",
    "\n",
    "    return sequences"
   ]
  },
  {
   "cell_type": "markdown",
   "metadata": {},
   "source": [
    "## Set SEQUENCE_LENGTH and Created sequences"
   ]
  },
  {
   "cell_type": "code",
   "execution_count": 66,
   "metadata": {},
   "outputs": [
    {
     "data": {
      "application/vnd.jupyter.widget-view+json": {
       "model_id": "1aecd8489b344290a13a812e298bb206",
       "version_major": 2,
       "version_minor": 0
      },
      "text/plain": [
       "  0%|          | 0/637 [00:00<?, ?it/s]"
      ]
     },
     "metadata": {},
     "output_type": "display_data"
    },
    {
     "data": {
      "application/vnd.jupyter.widget-view+json": {
       "model_id": "7840add3088141cda72017521ef0ec38",
       "version_major": 2,
       "version_minor": 0
      },
      "text/plain": [
       "  0%|          | 0/405 [00:00<?, ?it/s]"
      ]
     },
     "metadata": {},
     "output_type": "display_data"
    }
   ],
   "source": [
    "SEQUENCE_LENGTH = 30\n",
    "DAYS_PREDICTION = 30\n",
    "\n",
    "train_sequences = create_sequences(train_df, \"watch_price\", SEQUENCE_LENGTH, DAYS_PREDICTION)\n",
    "test_sequences = create_sequences(test_df, \"watch_price\", SEQUENCE_LENGTH, DAYS_PREDICTION)"
   ]
  },
  {
   "cell_type": "code",
   "execution_count": 67,
   "metadata": {},
   "outputs": [
    {
     "name": "stdout",
     "output_type": "stream",
     "text": [
      "Sequence shape: (30, 11)\n",
      "Train length: 637\n",
      "Test length: 405\n",
      "Test length: -0.2634979233964021\n"
     ]
    },
    {
     "data": {
      "text/html": [
       "<div>\n",
       "<style scoped>\n",
       "    .dataframe tbody tr th:only-of-type {\n",
       "        vertical-align: middle;\n",
       "    }\n",
       "\n",
       "    .dataframe tbody tr th {\n",
       "        vertical-align: top;\n",
       "    }\n",
       "\n",
       "    .dataframe thead th {\n",
       "        text-align: right;\n",
       "    }\n",
       "</style>\n",
       "<table border=\"1\" class=\"dataframe\">\n",
       "  <thead>\n",
       "    <tr style=\"text-align: right;\">\n",
       "      <th></th>\n",
       "      <th>day_of_week</th>\n",
       "      <th>day_of_month</th>\n",
       "      <th>week_of_year</th>\n",
       "      <th>month</th>\n",
       "      <th>watch_price</th>\n",
       "      <th>gold_price</th>\n",
       "      <th>GLG_Price</th>\n",
       "      <th>GLG_Open</th>\n",
       "      <th>GLG_High</th>\n",
       "      <th>GLG_Low</th>\n",
       "      <th>GLG_Change</th>\n",
       "    </tr>\n",
       "  </thead>\n",
       "  <tbody>\n",
       "    <tr>\n",
       "      <th>0</th>\n",
       "      <td>0.333333</td>\n",
       "      <td>-0.800000</td>\n",
       "      <td>-1.000000</td>\n",
       "      <td>-1.0</td>\n",
       "      <td>-0.263498</td>\n",
       "      <td>-0.973925</td>\n",
       "      <td>-0.463622</td>\n",
       "      <td>-0.463622</td>\n",
       "      <td>-0.463622</td>\n",
       "      <td>-0.463622</td>\n",
       "      <td>0.296329</td>\n",
       "    </tr>\n",
       "    <tr>\n",
       "      <th>1</th>\n",
       "      <td>0.666667</td>\n",
       "      <td>-0.733333</td>\n",
       "      <td>-1.000000</td>\n",
       "      <td>-1.0</td>\n",
       "      <td>-0.263498</td>\n",
       "      <td>-0.973925</td>\n",
       "      <td>-0.463622</td>\n",
       "      <td>-0.463622</td>\n",
       "      <td>-0.463622</td>\n",
       "      <td>-0.463622</td>\n",
       "      <td>0.296329</td>\n",
       "    </tr>\n",
       "    <tr>\n",
       "      <th>2</th>\n",
       "      <td>1.000000</td>\n",
       "      <td>-0.666667</td>\n",
       "      <td>-1.000000</td>\n",
       "      <td>-1.0</td>\n",
       "      <td>-0.263498</td>\n",
       "      <td>-0.973925</td>\n",
       "      <td>-0.463622</td>\n",
       "      <td>-0.463622</td>\n",
       "      <td>-0.463622</td>\n",
       "      <td>-0.463622</td>\n",
       "      <td>0.296329</td>\n",
       "    </tr>\n",
       "    <tr>\n",
       "      <th>3</th>\n",
       "      <td>-1.000000</td>\n",
       "      <td>-0.600000</td>\n",
       "      <td>-0.960784</td>\n",
       "      <td>-1.0</td>\n",
       "      <td>-0.263498</td>\n",
       "      <td>-0.943086</td>\n",
       "      <td>-0.438174</td>\n",
       "      <td>-0.438174</td>\n",
       "      <td>-0.438174</td>\n",
       "      <td>-0.438174</td>\n",
       "      <td>0.115385</td>\n",
       "    </tr>\n",
       "    <tr>\n",
       "      <th>4</th>\n",
       "      <td>-0.666667</td>\n",
       "      <td>-0.533333</td>\n",
       "      <td>-0.960784</td>\n",
       "      <td>-1.0</td>\n",
       "      <td>-0.263498</td>\n",
       "      <td>-0.957377</td>\n",
       "      <td>-0.408494</td>\n",
       "      <td>-0.408494</td>\n",
       "      <td>-0.408494</td>\n",
       "      <td>-0.408494</td>\n",
       "      <td>0.130245</td>\n",
       "    </tr>\n",
       "  </tbody>\n",
       "</table>\n",
       "</div>"
      ],
      "text/plain": [
       "   day_of_week  day_of_month  week_of_year  month  watch_price  gold_price  \\\n",
       "0     0.333333     -0.800000     -1.000000   -1.0    -0.263498   -0.973925   \n",
       "1     0.666667     -0.733333     -1.000000   -1.0    -0.263498   -0.973925   \n",
       "2     1.000000     -0.666667     -1.000000   -1.0    -0.263498   -0.973925   \n",
       "3    -1.000000     -0.600000     -0.960784   -1.0    -0.263498   -0.943086   \n",
       "4    -0.666667     -0.533333     -0.960784   -1.0    -0.263498   -0.957377   \n",
       "\n",
       "   GLG_Price  GLG_Open  GLG_High   GLG_Low  GLG_Change  \n",
       "0  -0.463622 -0.463622 -0.463622 -0.463622    0.296329  \n",
       "1  -0.463622 -0.463622 -0.463622 -0.463622    0.296329  \n",
       "2  -0.463622 -0.463622 -0.463622 -0.463622    0.296329  \n",
       "3  -0.438174 -0.438174 -0.438174 -0.438174    0.115385  \n",
       "4  -0.408494 -0.408494 -0.408494 -0.408494    0.130245  "
      ]
     },
     "execution_count": 67,
     "metadata": {},
     "output_type": "execute_result"
    }
   ],
   "source": [
    "print(f\"Sequence shape: {train_sequences[0][0].shape}\")\n",
    "print(f\"Train length: {len(train_sequences)}\")\n",
    "print(f\"Test length: {len(test_sequences)}\")\n",
    "print(f\"Test length: {train_sequences[0][1]}\")\n",
    "train_sequences[0][0].head()"
   ]
  },
  {
   "cell_type": "markdown",
   "metadata": {},
   "source": [
    "# Classes create"
   ]
  },
  {
   "cell_type": "markdown",
   "metadata": {},
   "source": [
    "## Set device"
   ]
  },
  {
   "cell_type": "code",
   "execution_count": 68,
   "metadata": {},
   "outputs": [
    {
     "name": "stdout",
     "output_type": "stream",
     "text": [
      "configured device: cuda\n"
     ]
    }
   ],
   "source": [
    "device = torch.device('cuda' if torch.cuda.is_available() else 'cpu')\n",
    "# device = 'cpu'\n",
    "print(\"configured device:\", device)"
   ]
  },
  {
   "cell_type": "markdown",
   "metadata": {},
   "source": [
    "## TS_Dataset (Time series)"
   ]
  },
  {
   "cell_type": "code",
   "execution_count": 69,
   "metadata": {},
   "outputs": [],
   "source": [
    "class TS_Dataset(Dataset):\n",
    "    def __init__(self, sequences):\n",
    "        self.sequences = sequences\n",
    "\n",
    "    def __len__(self):\n",
    "        return len(self.sequences)\n",
    "\n",
    "    def __getitem__(self, idx):\n",
    "        \n",
    "        sequence, label = self.sequences[idx]\n",
    "\n",
    "        return dict(\n",
    "            sequence = torch.Tensor(sequence.to_numpy()).to(device),\n",
    "            label = torch.tensor(label).float().to(device)\n",
    "        )"
   ]
  },
  {
   "cell_type": "markdown",
   "metadata": {},
   "source": [
    "## Price Data Module"
   ]
  },
  {
   "cell_type": "code",
   "execution_count": 70,
   "metadata": {},
   "outputs": [],
   "source": [
    "class PriceDataModule(pl.LightningDataModule):\n",
    "    def __init__(self, train_sequences, test_sequences, batch_size=8):\n",
    "        super().__init__\n",
    "        self.train_sequences = train_sequences\n",
    "        self.test_sequences = test_sequences\n",
    "        self.batch_size = batch_size\n",
    "        \n",
    "    def prepare_data(self):\n",
    "        self._has_prepared_data = True\n",
    "\n",
    "    def setup(self):\n",
    "        self.train_dataset = TS_Dataset(self.train_sequences)\n",
    "        self.test_dataset = TS_Dataset(self.test_sequences)\n",
    "        self.prepare_data()\n",
    "        \n",
    "    def train_dataloader(self):\n",
    "        return DataLoader(\n",
    "            self.train_dataset,\n",
    "            batch_size=self.batch_size,\n",
    "            shuffle=False\n",
    "        )\n",
    "    \n",
    "    def val_dataloader(self):\n",
    "        return DataLoader(\n",
    "            self.test_dataset,\n",
    "            batch_size=4,\n",
    "            shuffle=False\n",
    "        )\n",
    "        \n",
    "    def test_dataloader(self):\n",
    "        return DataLoader(\n",
    "            self.test_dataset,\n",
    "            batch_size=1,\n",
    "            shuffle=False\n",
    "        )"
   ]
  },
  {
   "cell_type": "markdown",
   "metadata": {},
   "source": [
    "## Define BATCH_SIZE and N_EPOCHS"
   ]
  },
  {
   "cell_type": "code",
   "execution_count": 71,
   "metadata": {},
   "outputs": [],
   "source": [
    "N_EPOCHS = 20\n",
    "BATCH_SIZE = 128\n",
    "\n",
    "data_module = PriceDataModule(train_sequences, test_sequences, batch_size=BATCH_SIZE)\n",
    "data_module.setup()"
   ]
  },
  {
   "cell_type": "code",
   "execution_count": 72,
   "metadata": {},
   "outputs": [],
   "source": [
    "train_dataset = TS_Dataset(train_sequences)"
   ]
  },
  {
   "cell_type": "code",
   "execution_count": 73,
   "metadata": {},
   "outputs": [
    {
     "name": "stdout",
     "output_type": "stream",
     "text": [
      "torch.Size([30, 11])\n",
      "torch.Size([])\n",
      "tensor(-0.2635, device='cuda:0')\n"
     ]
    }
   ],
   "source": [
    "for item in train_dataset:\n",
    "    print(item[\"sequence\"].shape)\n",
    "    print(item[\"label\"].shape)\n",
    "    print(item[\"label\"])\n",
    "    break"
   ]
  },
  {
   "cell_type": "markdown",
   "metadata": {},
   "source": [
    "## Price Prediction Model"
   ]
  },
  {
   "cell_type": "code",
   "execution_count": 74,
   "metadata": {},
   "outputs": [],
   "source": [
    "class PricePredictionModel(nn.Module):\n",
    "\n",
    "    def __init__(self, n_features, n_hidden=128, n_layers=2):\n",
    "        super().__init__()\n",
    "        self.n_hidden = n_hidden\n",
    "        self.lstm = nn.LSTM(\n",
    "            input_size = n_features,\n",
    "            hidden_size =n_hidden,\n",
    "            batch_first = True,\n",
    "            num_layers = n_layers,\n",
    "            dropout = 0.2\n",
    "        )\n",
    "        self.regressor = nn.Linear(n_hidden, 1)\n",
    "\n",
    "    def forward(self, x):\n",
    "        self.lstm.flatten_parameters()\n",
    "\n",
    "        _, (hidden, _) = self.lstm(x)\n",
    "        out = hidden[-1]\n",
    "\n",
    "        return self.regressor(out)"
   ]
  },
  {
   "cell_type": "markdown",
   "metadata": {},
   "source": [
    "## Price Predictor"
   ]
  },
  {
   "cell_type": "code",
   "execution_count": 75,
   "metadata": {},
   "outputs": [],
   "source": [
    "class PricePredictor(pl.LightningModule):\n",
    "\n",
    "    def __init__(self, n_features: int):\n",
    "        super().__init__()\n",
    "        self.model = PricePredictionModel(n_features).to(device)\n",
    "        self.criterion = nn.MSELoss().to(device)\n",
    "\n",
    "    def forward(self, x, labels=None):\n",
    "        output = self.model(x)\n",
    "        loss = 0\n",
    "        if labels is not None:\n",
    "            loss = self.criterion(output, labels.unsqueeze(dim=1))\n",
    "\n",
    "        return loss, output\n",
    "    \n",
    "    def training_step(self, batch, batch_idx):\n",
    "        sequences = batch[\"sequence\"]\n",
    "        labels = batch[\"label\"]\n",
    "        loss, outputs = self(sequences, labels)\n",
    "        self.log(\"train_loss\", loss, prog_bar=True, logger=True)\n",
    "        return loss\n",
    "    \n",
    "    def validation_step(self, batch, batch_idx):\n",
    "        sequences = batch[\"sequence\"]\n",
    "        labels = batch[\"label\"]\n",
    "        loss, outputs = self(sequences, labels)\n",
    "        self.log(\"val_loss\", loss, prog_bar=True, logger=True)\n",
    "        return loss    \n",
    "\n",
    "    def test_step(self, batch, batch_idx):\n",
    "        sequences = batch[\"sequence\"]\n",
    "        labels = batch[\"label\"]\n",
    "        loss, outputs = self(sequences, labels)\n",
    "        self.log(\"test_loss\", loss, prog_bar=True, logger=True)\n",
    "        return loss\n",
    "\n",
    "    def configure_optimizers(self):\n",
    "        return optim.Adagrad(self.parameters(), lr=1e-3)"
   ]
  },
  {
   "cell_type": "code",
   "execution_count": 76,
   "metadata": {},
   "outputs": [],
   "source": [
    "model = PricePredictor(n_features=train_df.shape[1])"
   ]
  },
  {
   "cell_type": "code",
   "execution_count": 77,
   "metadata": {},
   "outputs": [
    {
     "name": "stdout",
     "output_type": "stream",
     "text": [
      "torch.Size([128, 30, 11])\n",
      "torch.Size([128])\n"
     ]
    }
   ],
   "source": [
    "for item in data_module.train_dataloader():\n",
    "    print(item[\"sequence\"].shape)\n",
    "    print(item[\"label\"].shape)\n",
    "    break"
   ]
  },
  {
   "cell_type": "markdown",
   "metadata": {},
   "source": [
    "# Start Tensorboard"
   ]
  },
  {
   "cell_type": "code",
   "execution_count": 78,
   "metadata": {},
   "outputs": [
    {
     "data": {
      "text/html": [
       "\n",
       "      <iframe id=\"tensorboard-frame-1c80317fa3b1799d\" width=\"100%\" height=\"800\" frameborder=\"0\">\n",
       "      </iframe>\n",
       "      <script>\n",
       "        (function() {\n",
       "          const frame = document.getElementById(\"tensorboard-frame-1c80317fa3b1799d\");\n",
       "          const url = new URL(\"/\", window.location);\n",
       "          const port = 6006;\n",
       "          if (port) {\n",
       "            url.port = port;\n",
       "          }\n",
       "          frame.src = url;\n",
       "        })();\n",
       "      </script>\n",
       "    "
      ],
      "text/plain": [
       "<IPython.core.display.HTML object>"
      ]
     },
     "metadata": {},
     "output_type": "display_data"
    }
   ],
   "source": [
    "%load_ext tensorboard\n",
    "%tensorboard --logdir ./lightning_logs"
   ]
  },
  {
   "cell_type": "markdown",
   "metadata": {},
   "source": [
    "## checkpoint_callback setup"
   ]
  },
  {
   "cell_type": "code",
   "execution_count": 79,
   "metadata": {},
   "outputs": [
    {
     "name": "stderr",
     "output_type": "stream",
     "text": [
      "C:\\Users\\THETANG\\anaconda3\\envs\\BIA_env\\lib\\site-packages\\pytorch_lightning\\utilities\\distributed.py:52: UserWarning: Checkpoint directory checkpoints exists and is not empty.\n",
      "  warnings.warn(*args, **kwargs)\n",
      "GPU available: True, used: True\n",
      "TPU available: None, using: 0 TPU cores\n"
     ]
    }
   ],
   "source": [
    "checkpoint_callback = ModelCheckpoint(\n",
    "    dirpath=\"checkpoints\",\n",
    "    filename=\"best-checkpoint\",\n",
    "    save_top_k=1,\n",
    "    # verbose=True,\n",
    "    monitor=\"val_loss\",\n",
    "    mode=\"min\"\n",
    ")\n",
    "\n",
    "logger = TensorBoardLogger(\"lightning_logs\", name=\"watch-price\")\n",
    "\n",
    "early_stopping_callback = EarlyStopping(monitor='val_loss', patience=2)\n",
    "\n",
    "trainer = pl.Trainer(\n",
    "    logger=logger,\n",
    "    checkpoint_callback=checkpoint_callback,\n",
    "    callbacks=[early_stopping_callback],\n",
    "    max_epochs=N_EPOCHS,\n",
    "    gpus=1,\n",
    "    progress_bar_refresh_rate=30\n",
    ")"
   ]
  },
  {
   "cell_type": "markdown",
   "metadata": {},
   "source": [
    "## Fit"
   ]
  },
  {
   "cell_type": "code",
   "execution_count": 82,
   "metadata": {},
   "outputs": [
    {
     "name": "stderr",
     "output_type": "stream",
     "text": [
      "LOCAL_RANK: 0 - CUDA_VISIBLE_DEVICES: [0]\n",
      "\n",
      "  | Name      | Type                 | Params\n",
      "---------------------------------------------------\n",
      "0 | model     | PricePredictionModel | 204 K \n",
      "1 | criterion | MSELoss              | 0     \n",
      "---------------------------------------------------\n",
      "204 K     Trainable params\n",
      "0         Non-trainable params\n",
      "204 K     Total params\n",
      "0.818     Total estimated model params size (MB)\n"
     ]
    },
    {
     "name": "stdout",
     "output_type": "stream",
     "text": [
      "Epoch 2: 100%|██████████| 107/107 [00:00<00:00, 218.37it/s, loss=0.34, v_num=2, val_loss=12.40, train_loss=0.435] \n"
     ]
    },
    {
     "data": {
      "text/plain": [
       "1"
      ]
     },
     "execution_count": 82,
     "metadata": {},
     "output_type": "execute_result"
    }
   ],
   "source": [
    "trainer.fit(model, data_module)"
   ]
  },
  {
   "cell_type": "markdown",
   "metadata": {},
   "source": [
    "# Evaluation"
   ]
  },
  {
   "cell_type": "markdown",
   "metadata": {},
   "source": [
    "## Load trained model"
   ]
  },
  {
   "cell_type": "code",
   "execution_count": 83,
   "metadata": {},
   "outputs": [],
   "source": [
    "trained_model = PricePredictor.load_from_checkpoint(\n",
    "    \"checkpoints/best-checkpoint-v2.ckpt\",\n",
    "    n_features=train_df.shape[1]\n",
    ")"
   ]
  },
  {
   "cell_type": "code",
   "execution_count": 84,
   "metadata": {},
   "outputs": [],
   "source": [
    "trained_model.freeze()"
   ]
  },
  {
   "cell_type": "markdown",
   "metadata": {},
   "source": [
    "## Predictions"
   ]
  },
  {
   "cell_type": "code",
   "execution_count": 85,
   "metadata": {},
   "outputs": [
    {
     "data": {
      "application/vnd.jupyter.widget-view+json": {
       "model_id": "db949ec3a04e49ec8710eb253c908a44",
       "version_major": 2,
       "version_minor": 0
      },
      "text/plain": [
       "  0%|          | 0/405 [00:00<?, ?it/s]"
      ]
     },
     "metadata": {},
     "output_type": "display_data"
    }
   ],
   "source": [
    "test_dataset = TS_Dataset(test_sequences)\n",
    "\n",
    "predictions = []\n",
    "labels = []\n",
    "\n",
    "for item in tqdm(test_dataset):\n",
    "    sequence = item['sequence']\n",
    "    label = item['label']\n",
    "\n",
    "    _, output = trained_model(sequence.unsqueeze(dim=0))\n",
    "    predictions.append(output.item())\n",
    "    labels.append(label.item())"
   ]
  },
  {
   "cell_type": "code",
   "execution_count": 86,
   "metadata": {},
   "outputs": [
    {
     "data": {
      "text/plain": [
       "(405, 435)"
      ]
     },
     "execution_count": 86,
     "metadata": {},
     "output_type": "execute_result"
    }
   ],
   "source": [
    "len(predictions), len(test_df)-SEQUENCE_LENGTH"
   ]
  },
  {
   "cell_type": "markdown",
   "metadata": {},
   "source": [
    "## Descale"
   ]
  },
  {
   "cell_type": "code",
   "execution_count": 87,
   "metadata": {},
   "outputs": [],
   "source": [
    "def descale(descaler, values):\n",
    "    values_2d = np.array(values)[:, np.newaxis]\n",
    "    return descaler.inverse_transform(values_2d).flatten()"
   ]
  },
  {
   "cell_type": "code",
   "execution_count": 88,
   "metadata": {},
   "outputs": [
    {
     "name": "stdout",
     "output_type": "stream",
     "text": [
      "Predictions:  [-2.0168751  -2.0177837  -2.051255   -2.08463101 -2.06563306]\n",
      "Labels:  [6.00304585 7.30876488 7.30876488 7.30876488 7.30876488]\n"
     ]
    }
   ],
   "source": [
    "descaler = MinMaxScaler()\n",
    "descaler.min_, descaler.scale_ = scaler.min_[-1], scaler.scale_[-1]\n",
    "\n",
    "predictions_descaled = descale(descaler, predictions)\n",
    "labels_descaled = descale(descaler, labels)\n",
    "\n",
    "print(\"Predictions: \", predictions_descaled[:5])\n",
    "print(\"Labels: \", labels_descaled[:5])"
   ]
  },
  {
   "cell_type": "markdown",
   "metadata": {},
   "source": [
    "## Plot graph"
   ]
  },
  {
   "cell_type": "code",
   "execution_count": 89,
   "metadata": {},
   "outputs": [
    {
     "name": "stdout",
     "output_type": "stream",
     "text": [
      "(732, 1)\n",
      "(465, 11)\n"
     ]
    }
   ],
   "source": [
    "# train_data = watch[:train_size]\n",
    "test_data = watch[train_size:]\n",
    "print(test_data.shape)\n",
    "print(test_df.shape)"
   ]
  },
  {
   "cell_type": "code",
   "execution_count": 90,
   "metadata": {},
   "outputs": [
    {
     "name": "stdout",
     "output_type": "stream",
     "text": [
      "(702, 1)\n"
     ]
    }
   ],
   "source": [
    "test_sequences_data = test_data.iloc[SEQUENCE_LENGTH:]\n",
    "print(test_sequences_data.shape)"
   ]
  },
  {
   "cell_type": "code",
   "execution_count": 92,
   "metadata": {},
   "outputs": [
    {
     "data": {
      "text/html": [
       "<div>\n",
       "<style scoped>\n",
       "    .dataframe tbody tr th:only-of-type {\n",
       "        vertical-align: middle;\n",
       "    }\n",
       "\n",
       "    .dataframe tbody tr th {\n",
       "        vertical-align: top;\n",
       "    }\n",
       "\n",
       "    .dataframe thead th {\n",
       "        text-align: right;\n",
       "    }\n",
       "</style>\n",
       "<table border=\"1\" class=\"dataframe\">\n",
       "  <thead>\n",
       "    <tr style=\"text-align: right;\">\n",
       "      <th></th>\n",
       "      <th>Price</th>\n",
       "    </tr>\n",
       "    <tr>\n",
       "      <th>Date</th>\n",
       "      <th></th>\n",
       "    </tr>\n",
       "  </thead>\n",
       "  <tbody>\n",
       "    <tr>\n",
       "      <th>2020-12-31</th>\n",
       "      <td>52686.0</td>\n",
       "    </tr>\n",
       "    <tr>\n",
       "      <th>2021-01-01</th>\n",
       "      <td>52686.0</td>\n",
       "    </tr>\n",
       "    <tr>\n",
       "      <th>2021-01-02</th>\n",
       "      <td>52686.0</td>\n",
       "    </tr>\n",
       "    <tr>\n",
       "      <th>2021-01-03</th>\n",
       "      <td>55996.0</td>\n",
       "    </tr>\n",
       "    <tr>\n",
       "      <th>2021-01-04</th>\n",
       "      <td>58305.0</td>\n",
       "    </tr>\n",
       "  </tbody>\n",
       "</table>\n",
       "</div>"
      ],
      "text/plain": [
       "              Price\n",
       "Date               \n",
       "2020-12-31  52686.0\n",
       "2021-01-01  52686.0\n",
       "2021-01-02  52686.0\n",
       "2021-01-03  55996.0\n",
       "2021-01-04  58305.0"
      ]
     },
     "execution_count": 92,
     "metadata": {},
     "output_type": "execute_result"
    }
   ],
   "source": [
    "test_sequences_data.head()"
   ]
  },
  {
   "cell_type": "code",
   "execution_count": 94,
   "metadata": {},
   "outputs": [
    {
     "data": {
      "image/png": "[encoded data removed]",
      "text/plain": [
       "<Figure size 864x576 with 1 Axes>"
      ]
     },
     "metadata": {
      "image/png": {
       "height": 501,
       "width": 733
      }
     },
     "output_type": "display_data"
    }
   ],
   "source": [
    "test_dates = matplotlib.dates.date2num(test_sequences_data.index.tolist())\n",
    "all_dates = matplotlib.dates.date2num(watch.index.tolist())\n",
    "# plt.plot_date(test_dates[DAYS_PREDICTION:], predictions_descaled, '-', label='predicted')\n",
    "# plt.plot_date(test_dates, labels_descaled, '-', label='real')\n",
    "plt.plot_date(all_dates, watch.Price.tolist(), '-', label='real')\n",
    "i = 150\n",
    "# plt.plot_date([test_dates[i], test_dates[DAYS_PREDICTION+i]], [labels_descaled[i-DAYS_PREDICTION], predictions_descaled[i]], '-', label='PREDICTION')\n",
    "\n",
    "plt.xticks(rotation=45)\n",
    "# plt.legend()\n",
    "plt.show()"
   ]
  },
  {
   "cell_type": "markdown",
   "metadata": {},
   "source": [
    "# Evalution function"
   ]
  },
  {
   "cell_type": "code",
   "execution_count": null,
   "metadata": {},
   "outputs": [],
   "source": [
    "# class prediction:\n",
    "#     def __init__(self, model_path, n_features):\n",
    "#         self.trained_model = PricePredictor.load_from_checkpoint(\n",
    "#             model_path,\n",
    "#             n_features=n_features\n",
    "#         )\n",
    "#         self.trained_model.freeze()\n",
    "\n",
    "#     def get_result(self, sequence, days):\n",
    "#         _, predictions = trained_model(sequence.unsqueeze(dim=0))\n",
    "        \n"
   ]
  }
 ],
 "metadata": {
  "interpreter": {
   "hash": "54d292b6f3ca4ff13f504c55e6e4b729c6c0a14070d37d9d8c8aca786423add6"
  },
  "kernelspec": {
   "display_name": "Python 3.8.10 ('base')",
   "language": "python",
   "name": "python3"
  },
  "language_info": {
   "codemirror_mode": {
    "name": "ipython",
    "version": 3
   },
   "file_extension": ".py",
   "mimetype": "text/x-python",
   "name": "python",
   "nbconvert_exporter": "python",
   "pygments_lexer": "ipython3",
   "version": "3.8.12"
  },
  "orig_nbformat": 4
 },
 "nbformat": 4,
 "nbformat_minor": 2
}
