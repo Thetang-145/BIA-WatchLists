{
 "cells": [
  {
   "cell_type": "code",
   "execution_count": 115,
   "metadata": {},
   "outputs": [],
   "source": [
    "import pandas as pd\n",
    "import os"
   ]
  },
  {
   "cell_type": "code",
   "execution_count": 116,
   "metadata": {},
   "outputs": [
    {
     "data": {
      "text/html": [
       "<div>\n",
       "<style scoped>\n",
       "    .dataframe tbody tr th:only-of-type {\n",
       "        vertical-align: middle;\n",
       "    }\n",
       "\n",
       "    .dataframe tbody tr th {\n",
       "        vertical-align: top;\n",
       "    }\n",
       "\n",
       "    .dataframe thead th {\n",
       "        text-align: right;\n",
       "    }\n",
       "</style>\n",
       "<table border=\"1\" class=\"dataframe\">\n",
       "  <thead>\n",
       "    <tr style=\"text-align: right;\">\n",
       "      <th></th>\n",
       "      <th>Date</th>\n",
       "      <th>Price</th>\n",
       "    </tr>\n",
       "  </thead>\n",
       "  <tbody>\n",
       "    <tr>\n",
       "      <th>0</th>\n",
       "      <td>Thu Mar 11 2021 00:00:00 GMT+0700 (เวลาอินโดจีน)</td>\n",
       "      <td>$12171</td>\n",
       "    </tr>\n",
       "    <tr>\n",
       "      <th>1</th>\n",
       "      <td>Fri Mar 12 2021 00:00:00 GMT+0700 (เวลาอินโดจีน)</td>\n",
       "      <td>$12167</td>\n",
       "    </tr>\n",
       "    <tr>\n",
       "      <th>2</th>\n",
       "      <td>Sat Mar 13 2021 00:00:00 GMT+0700 (เวลาอินโดจีน)</td>\n",
       "      <td>$12166</td>\n",
       "    </tr>\n",
       "    <tr>\n",
       "      <th>3</th>\n",
       "      <td>Sun Mar 14 2021 00:00:00 GMT+0700 (เวลาอินโดจีน)</td>\n",
       "      <td>$12172</td>\n",
       "    </tr>\n",
       "    <tr>\n",
       "      <th>4</th>\n",
       "      <td>Mon Mar 15 2021 00:00:00 GMT+0700 (เวลาอินโดจีน)</td>\n",
       "      <td>$12155</td>\n",
       "    </tr>\n",
       "  </tbody>\n",
       "</table>\n",
       "</div>"
      ],
      "text/plain": [
       "                                               Date   Price\n",
       "0  Thu Mar 11 2021 00:00:00 GMT+0700 (เวลาอินโดจีน)  $12171\n",
       "1  Fri Mar 12 2021 00:00:00 GMT+0700 (เวลาอินโดจีน)  $12167\n",
       "2  Sat Mar 13 2021 00:00:00 GMT+0700 (เวลาอินโดจีน)  $12166\n",
       "3  Sun Mar 14 2021 00:00:00 GMT+0700 (เวลาอินโดจีน)  $12172\n",
       "4  Mon Mar 15 2021 00:00:00 GMT+0700 (เวลาอินโดจีน)  $12155"
      ]
     },
     "execution_count": 116,
     "metadata": {},
     "output_type": "execute_result"
    }
   ],
   "source": [
    "sep = \"/\"\n",
    "watch = \"Rolex 126334\"\n",
    "path1 = \"Datasets\"+sep+\"Price_chart\"+sep+watch+sep+\"Y1.csv\"\n",
    "path3 = \"Datasets\"+sep+\"Price_chart\"+sep+watch+sep+\"Y3.csv\"\n",
    "path5 = \"Datasets\"+sep+\"Price_chart\"+sep+watch+sep+\"Y5.csv\"\n",
    "header_list = [\"Date\", \"Price\"]\n",
    "df1 = pd.read_csv(path1, names=header_list)\n",
    "df3 = pd.read_csv(path3, names=header_list)\n",
    "df5 = pd.read_csv(path5, names=header_list)\n",
    "df1.head()"
   ]
  },
  {
   "cell_type": "code",
   "execution_count": 117,
   "metadata": {},
   "outputs": [
    {
     "data": {
      "text/html": [
       "<div>\n",
       "<style scoped>\n",
       "    .dataframe tbody tr th:only-of-type {\n",
       "        vertical-align: middle;\n",
       "    }\n",
       "\n",
       "    .dataframe tbody tr th {\n",
       "        vertical-align: top;\n",
       "    }\n",
       "\n",
       "    .dataframe thead th {\n",
       "        text-align: right;\n",
       "    }\n",
       "</style>\n",
       "<table border=\"1\" class=\"dataframe\">\n",
       "  <thead>\n",
       "    <tr style=\"text-align: right;\">\n",
       "      <th></th>\n",
       "      <th>Date</th>\n",
       "      <th>Price</th>\n",
       "    </tr>\n",
       "  </thead>\n",
       "  <tbody>\n",
       "    <tr>\n",
       "      <th>0</th>\n",
       "      <td>Thu Mar 11 2021 00:00:00 GMT+0700 (เวลาอินโดจีน)</td>\n",
       "      <td>$12171</td>\n",
       "    </tr>\n",
       "    <tr>\n",
       "      <th>1</th>\n",
       "      <td>Fri Mar 12 2021 00:00:00 GMT+0700 (เวลาอินโดจีน)</td>\n",
       "      <td>$12167</td>\n",
       "    </tr>\n",
       "    <tr>\n",
       "      <th>2</th>\n",
       "      <td>Sat Mar 13 2021 00:00:00 GMT+0700 (เวลาอินโดจีน)</td>\n",
       "      <td>$12166</td>\n",
       "    </tr>\n",
       "    <tr>\n",
       "      <th>3</th>\n",
       "      <td>Sun Mar 14 2021 00:00:00 GMT+0700 (เวลาอินโดจีน)</td>\n",
       "      <td>$12172</td>\n",
       "    </tr>\n",
       "    <tr>\n",
       "      <th>4</th>\n",
       "      <td>Mon Mar 15 2021 00:00:00 GMT+0700 (เวลาอินโดจีน)</td>\n",
       "      <td>$12155</td>\n",
       "    </tr>\n",
       "  </tbody>\n",
       "</table>\n",
       "</div>"
      ],
      "text/plain": [
       "                                               Date   Price\n",
       "0  Thu Mar 11 2021 00:00:00 GMT+0700 (เวลาอินโดจีน)  $12171\n",
       "1  Fri Mar 12 2021 00:00:00 GMT+0700 (เวลาอินโดจีน)  $12167\n",
       "2  Sat Mar 13 2021 00:00:00 GMT+0700 (เวลาอินโดจีน)  $12166\n",
       "3  Sun Mar 14 2021 00:00:00 GMT+0700 (เวลาอินโดจีน)  $12172\n",
       "4  Mon Mar 15 2021 00:00:00 GMT+0700 (เวลาอินโดจีน)  $12155"
      ]
     },
     "execution_count": 117,
     "metadata": {},
     "output_type": "execute_result"
    }
   ],
   "source": [
    "df_concat = pd.concat([df1, df3, df5], ignore_index=False)\n",
    "df_concat.head()\n"
   ]
  },
  {
   "cell_type": "code",
   "execution_count": 141,
   "metadata": {},
   "outputs": [
    {
     "data": {
      "text/html": [
       "<div>\n",
       "<style scoped>\n",
       "    .dataframe tbody tr th:only-of-type {\n",
       "        vertical-align: middle;\n",
       "    }\n",
       "\n",
       "    .dataframe tbody tr th {\n",
       "        vertical-align: top;\n",
       "    }\n",
       "\n",
       "    .dataframe thead th {\n",
       "        text-align: right;\n",
       "    }\n",
       "</style>\n",
       "<table border=\"1\" class=\"dataframe\">\n",
       "  <thead>\n",
       "    <tr style=\"text-align: right;\">\n",
       "      <th></th>\n",
       "      <th>Date</th>\n",
       "      <th>Price</th>\n",
       "    </tr>\n",
       "  </thead>\n",
       "  <tbody>\n",
       "    <tr>\n",
       "      <th>1094</th>\n",
       "      <td>2022-03-10</td>\n",
       "      <td>14605.0</td>\n",
       "    </tr>\n",
       "    <tr>\n",
       "      <th>728</th>\n",
       "      <td>2022-03-09</td>\n",
       "      <td>14605.0</td>\n",
       "    </tr>\n",
       "    <tr>\n",
       "      <th>362</th>\n",
       "      <td>2022-03-08</td>\n",
       "      <td>14548.0</td>\n",
       "    </tr>\n",
       "    <tr>\n",
       "      <th>361</th>\n",
       "      <td>2022-03-07</td>\n",
       "      <td>14479.0</td>\n",
       "    </tr>\n",
       "    <tr>\n",
       "      <th>1093</th>\n",
       "      <td>2022-03-06</td>\n",
       "      <td>14445.0</td>\n",
       "    </tr>\n",
       "  </tbody>\n",
       "</table>\n",
       "</div>"
      ],
      "text/plain": [
       "           Date    Price\n",
       "1094 2022-03-10  14605.0\n",
       "728  2022-03-09  14605.0\n",
       "362  2022-03-08  14548.0\n",
       "361  2022-03-07  14479.0\n",
       "1093 2022-03-06  14445.0"
      ]
     },
     "execution_count": 141,
     "metadata": {},
     "output_type": "execute_result"
    }
   ],
   "source": [
    "result = pd.DataFrame()\n",
    "# Day of week\n",
    "# result['Day_of_week'] = df_concat['Date'].str[:3]\n",
    "result['Date'] = pd.to_datetime([f'{y}-{m}-{d}' for m, d, y in zip(df_concat['Date'].str[4:7], df_concat['Date'].str[8:10], df_concat['Date'].str[11:15])])\n",
    "result['Price'] = (df_concat['Price']).str[1:].values.astype('float')\n",
    "result.sort_values(by=['Date'], axis=0, ascending=False, inplace=True)\n",
    "result.drop_duplicates(inplace=True)\n",
    "result.head()"
   ]
  },
  {
   "cell_type": "code",
   "execution_count": 144,
   "metadata": {},
   "outputs": [
    {
     "name": "stdout",
     "output_type": "stream",
     "text": [
      "(795, 2)\n"
     ]
    }
   ],
   "source": [
    "print(result.shape)"
   ]
  },
  {
   "cell_type": "code",
   "execution_count": null,
   "metadata": {},
   "outputs": [],
   "source": []
  }
 ],
 "metadata": {
  "interpreter": {
   "hash": "54d292b6f3ca4ff13f504c55e6e4b729c6c0a14070d37d9d8c8aca786423add6"
  },
  "kernelspec": {
   "display_name": "Python 3.8.10 ('base')",
   "language": "python",
   "name": "python3"
  },
  "language_info": {
   "codemirror_mode": {
    "name": "ipython",
    "version": 3
   },
   "file_extension": ".py",
   "mimetype": "text/x-python",
   "name": "python",
   "nbconvert_exporter": "python",
   "pygments_lexer": "ipython3",
   "version": "3.8.10"
  },
  "orig_nbformat": 4
 },
 "nbformat": 4,
 "nbformat_minor": 2
}
