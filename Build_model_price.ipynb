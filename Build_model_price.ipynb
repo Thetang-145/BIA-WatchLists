{
 "cells": [
  {
   "cell_type": "code",
   "execution_count": 1,
   "metadata": {},
   "outputs": [],
   "source": [
    "import pandas as pd\n",
    "import os"
   ]
  },
  {
   "cell_type": "code",
   "execution_count": 3,
   "metadata": {},
   "outputs": [
    {
     "name": "stdout",
     "output_type": "stream",
     "text": [
      "<class 'pandas.core.frame.DataFrame'>\n",
      "RangeIndex: 63581 entries, 0 to 63580\n",
      "Data columns (total 3 columns):\n",
      " #   Column  Non-Null Count  Dtype         \n",
      "---  ------  --------------  -----         \n",
      " 0   Price   63581 non-null  float64       \n",
      " 1   Model   63581 non-null  object        \n",
      " 2   Date    63581 non-null  datetime64[ns]\n",
      "dtypes: datetime64[ns](1), float64(1), object(1)\n",
      "memory usage: 1.5+ MB\n"
     ]
    }
   ],
   "source": [
    "datasets_path = \"Datasets/Price_chart_Game\"\n",
    "\n",
    "dir_list = os.listdir(datasets_path)\n",
    "Model_Price_df = pd.DataFrame()\n",
    "\n",
    "for brand in os.listdir(datasets_path):\n",
    "    for model in os.listdir(datasets_path+'/'+brand):\n",
    "        df = pd.read_csv(datasets_path+'/'+brand+'/'+model+'/price.csv', index_col=0)\n",
    "        df.index = pd.to_datetime(df.index, dayfirst=True)\n",
    "        df = df.resample('D', convention='s').mean()\n",
    "        df.fillna(method='ffill', inplace=True)\n",
    "        df[\"Model\"] = model\n",
    "        df[\"Date\"] = df.index\n",
    "        # print(brand, '|', model)\n",
    "        Model_Price_df = pd.concat([Model_Price_df, df], ignore_index=True)\n",
    "Model_Price_df.info()"
   ]
  },
  {
   "cell_type": "code",
   "execution_count": null,
   "metadata": {},
   "outputs": [],
   "source": [
    "Model_Price_df.to_csv(\"Datasets\\For_visuallization\\Model_Price.csv\", index=None)\n"
   ]
  }
 ],
 "metadata": {
  "interpreter": {
   "hash": "e3529ad4e6f24ed55ce841983967ed178ebcded6f18a8fa1fd9fd5091a1d4700"
  },
  "kernelspec": {
   "display_name": "Python 3.8.12 ('BIA_env')",
   "language": "python",
   "name": "python3"
  },
  "language_info": {
   "codemirror_mode": {
    "name": "ipython",
    "version": 3
   },
   "file_extension": ".py",
   "mimetype": "text/x-python",
   "name": "python",
   "nbconvert_exporter": "python",
   "pygments_lexer": "ipython3",
   "version": "3.8.12"
  },
  "orig_nbformat": 4
 },
 "nbformat": 4,
 "nbformat_minor": 2
}
