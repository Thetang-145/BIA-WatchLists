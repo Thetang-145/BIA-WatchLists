{
 "cells": [
  {
   "cell_type": "code",
   "execution_count": 1,
   "metadata": {},
   "outputs": [],
   "source": [
    "import pandas as pd\n",
    "import os"
   ]
  },
  {
   "cell_type": "code",
   "execution_count": 26,
   "metadata": {},
   "outputs": [
    {
     "name": "stdout",
     "output_type": "stream",
     "text": [
      "<class 'pandas.core.frame.DataFrame'>\n",
      "RangeIndex: 10043 entries, 0 to 10042\n",
      "Data columns (total 3 columns):\n",
      " #   Column  Non-Null Count  Dtype         \n",
      "---  ------  --------------  -----         \n",
      " 0   Price   10043 non-null  float64       \n",
      " 1   Model   10043 non-null  object        \n",
      " 2   Date    10043 non-null  datetime64[ns]\n",
      "dtypes: datetime64[ns](1), float64(1), object(1)\n",
      "memory usage: 235.5+ KB\n"
     ]
    }
   ],
   "source": [
    "datasets_path = \"Datasets/Price_chart_Game\"\n",
    "\n",
    "dir_list = os.listdir(datasets_path)\n",
    "Model_Price_df = pd.DataFrame()\n",
    "\n",
    "for brand in os.listdir(datasets_path):\n",
    "    for model in os.listdir(datasets_path+'/'+brand):\n",
    "        df = pd.read_csv(datasets_path+'/'+brand+'/'+model+'/price.csv', index_col=0)\n",
    "        df.index = pd.to_datetime(df.index, dayfirst=True)\n",
    "        df = df.resample('D', convention='s').mean()\n",
    "        df.fillna(method='ffill', inplace=True)\n",
    "        df[\"Model\"] = model\n",
    "        df[\"Date\"] = df.index\n",
    "        # print(brand, '|', model)\n",
    "        Model_Price_df = pd.concat([Model_Price_df, df], ignore_index=True)\n",
    "        break\n",
    "Model_Price_df.info()"
   ]
  },
  {
   "cell_type": "code",
   "execution_count": 19,
   "metadata": {},
   "outputs": [
    {
     "ename": "AttributeError",
     "evalue": "'function' object has no attribute 'head'",
     "output_type": "error",
     "traceback": [
      "\u001b[1;31m---------------------------------------------------------------------------\u001b[0m",
      "\u001b[1;31mAttributeError\u001b[0m                            Traceback (most recent call last)",
      "\u001b[1;32mc:\\Users\\THETANG\\Documents\\GitHub\\2-Jan2022\\WatchLists\\Build_model_price.ipynb Cell 3'\u001b[0m in \u001b[0;36m<cell line: 1>\u001b[1;34m()\u001b[0m\n\u001b[1;32m----> <a href='vscode-notebook-cell:/c%3A/Users/THETANG/Documents/GitHub/2-Jan2022/WatchLists/Build_model_price.ipynb#ch0000002?line=0'>1</a>\u001b[0m df\u001b[39m.\u001b[39;49mhead()\n",
      "\u001b[1;31mAttributeError\u001b[0m: 'function' object has no attribute 'head'"
     ]
    }
   ],
   "source": [
    "d"
   ]
  },
  {
   "cell_type": "code",
   "execution_count": null,
   "metadata": {},
   "outputs": [],
   "source": []
  }
 ],
 "metadata": {
  "interpreter": {
   "hash": "e3529ad4e6f24ed55ce841983967ed178ebcded6f18a8fa1fd9fd5091a1d4700"
  },
  "kernelspec": {
   "display_name": "Python 3.8.12 ('BIA_env')",
   "language": "python",
   "name": "python3"
  },
  "language_info": {
   "codemirror_mode": {
    "name": "ipython",
    "version": 3
   },
   "file_extension": ".py",
   "mimetype": "text/x-python",
   "name": "python",
   "nbconvert_exporter": "python",
   "pygments_lexer": "ipython3",
   "version": "3.8.12"
  },
  "orig_nbformat": 4
 },
 "nbformat": 4,
 "nbformat_minor": 2
}
