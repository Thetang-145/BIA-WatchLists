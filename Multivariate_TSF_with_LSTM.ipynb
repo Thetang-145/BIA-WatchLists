{
 "cells": [
  {
   "cell_type": "markdown",
   "metadata": {},
   "source": [
    "# Preparing"
   ]
  },
  {
   "cell_type": "code",
   "execution_count": 1,
   "metadata": {},
   "outputs": [],
   "source": [
    "# !nvidia-smi"
   ]
  },
  {
   "cell_type": "markdown",
   "metadata": {},
   "source": [
    "## Install library"
   ]
  },
  {
   "cell_type": "code",
   "execution_count": 2,
   "metadata": {},
   "outputs": [],
   "source": [
    "# !pip install --quiet pytorch-lightning==1.2.5\n",
    "# !pip install --quiet tqdm==4.59.0"
   ]
  },
  {
   "cell_type": "markdown",
   "metadata": {},
   "source": [
    "## Import libraries"
   ]
  },
  {
   "cell_type": "code",
   "execution_count": 3,
   "metadata": {},
   "outputs": [
    {
     "name": "stdout",
     "output_type": "stream",
     "text": [
      "4.61.2\n",
      "1.2.5\n"
     ]
    }
   ],
   "source": [
    "import seaborn as sns\n",
    "import matplotlib.pyplot as plt\n",
    "import matplotlib\n",
    "from matplotlib import rc, rcParams\n",
    "import math\n",
    "\n",
    "import pandas as pd\n",
    "import numpy as np\n",
    "import tqdm\n",
    "print(tqdm.__version__)\n",
    "from tqdm.notebook import tqdm\n",
    "import pytorch_lightning as pl\n",
    "print(pl.__version__)\n",
    "from pytorch_lightning.callbacks import ModelCheckpoint, EarlyStopping\n",
    "from pytorch_lightning.loggers import TensorBoardLogger\n",
    "from sklearn.preprocessing import MinMaxScaler\n",
    "\n",
    "import torch\n",
    "from torch import autograd, nn, optim\n",
    "import torch.nn.functional as F\n",
    "from torch.utils.data import Dataset, DataLoader\n",
    "from collections import defaultdict"
   ]
  },
  {
   "cell_type": "code",
   "execution_count": 4,
   "metadata": {},
   "outputs": [],
   "source": [
    "%matplotlib inline\n",
    "%config InlineBackend.figure_format='retina'\n",
    "\n",
    "sns.set(style='whitegrid', palette='muted', font_scale=1.2)\n",
    "\n",
    "HAPPY_COLORS_PALLETE = [\"#01BEFE\", \"#FFDD00\", \"#FF7D00\", \"#FF006D\", \"#ADFF02\", \"#8F00FF\"]\n",
    "\n",
    "sns.set_palette(sns.color_palette(HAPPY_COLORS_PALLETE))\n",
    "\n",
    "rcParams['figure.figsize'] = 12, 8\n",
    "\n",
    "tqdm.pandas()"
   ]
  },
  {
   "cell_type": "code",
   "execution_count": 5,
   "metadata": {},
   "outputs": [
    {
     "name": "stderr",
     "output_type": "stream",
     "text": [
      "Global seed set to 42\n"
     ]
    },
    {
     "data": {
      "text/plain": [
       "42"
      ]
     },
     "execution_count": 5,
     "metadata": {},
     "output_type": "execute_result"
    }
   ],
   "source": [
    "pl.seed_everything(42)"
   ]
  },
  {
   "cell_type": "markdown",
   "metadata": {},
   "source": [
    "# Data"
   ]
  },
  {
   "cell_type": "markdown",
   "metadata": {},
   "source": [
    "## Loading watch data"
   ]
  },
  {
   "cell_type": "code",
   "execution_count": 6,
   "metadata": {},
   "outputs": [
    {
     "data": {
      "text/html": [
       "<div>\n",
       "<style scoped>\n",
       "    .dataframe tbody tr th:only-of-type {\n",
       "        vertical-align: middle;\n",
       "    }\n",
       "\n",
       "    .dataframe tbody tr th {\n",
       "        vertical-align: top;\n",
       "    }\n",
       "\n",
       "    .dataframe thead th {\n",
       "        text-align: right;\n",
       "    }\n",
       "</style>\n",
       "<table border=\"1\" class=\"dataframe\">\n",
       "  <thead>\n",
       "    <tr style=\"text-align: right;\">\n",
       "      <th></th>\n",
       "      <th>Date</th>\n",
       "      <th>Price</th>\n",
       "    </tr>\n",
       "  </thead>\n",
       "  <tbody>\n",
       "    <tr>\n",
       "      <th>0</th>\n",
       "      <td>2019-03-08</td>\n",
       "      <td>8775</td>\n",
       "    </tr>\n",
       "    <tr>\n",
       "      <th>1</th>\n",
       "      <td>2019-03-10</td>\n",
       "      <td>8852</td>\n",
       "    </tr>\n",
       "    <tr>\n",
       "      <th>2</th>\n",
       "      <td>2019-03-14</td>\n",
       "      <td>8852</td>\n",
       "    </tr>\n",
       "    <tr>\n",
       "      <th>3</th>\n",
       "      <td>2019-03-17</td>\n",
       "      <td>8615</td>\n",
       "    </tr>\n",
       "    <tr>\n",
       "      <th>4</th>\n",
       "      <td>2019-03-20</td>\n",
       "      <td>8579</td>\n",
       "    </tr>\n",
       "  </tbody>\n",
       "</table>\n",
       "</div>"
      ],
      "text/plain": [
       "        Date  Price\n",
       "0 2019-03-08   8775\n",
       "1 2019-03-10   8852\n",
       "2 2019-03-14   8852\n",
       "3 2019-03-17   8615\n",
       "4 2019-03-20   8579"
      ]
     },
     "execution_count": 6,
     "metadata": {},
     "output_type": "execute_result"
    }
   ],
   "source": [
    "path = \"Datasets\\Price_chart_Tang\\Rolex 126334\\Combine_all.csv\"\n",
    "path = 'Datasets\\Price_chart_Game\\Rolex\\Rolex 126334\\price.csv'\n",
    "# path = 'Datasets\\Price_chart_Game\\Audemars Piguet\\Audemars Piguet 15400OR\\price.csv'\n",
    "watch = pd.read_csv(path)\n",
    "watch['Date'] = pd.to_datetime(watch['Date'], dayfirst=True)\n",
    "watch['Price'] = pd.to_numeric(watch['Price'])\n",
    "watch.head()"
   ]
  },
  {
   "cell_type": "code",
   "execution_count": 7,
   "metadata": {},
   "outputs": [
    {
     "name": "stdout",
     "output_type": "stream",
     "text": [
      "(1095, 2)\n"
     ]
    },
    {
     "data": {
      "text/html": [
       "<div>\n",
       "<style scoped>\n",
       "    .dataframe tbody tr th:only-of-type {\n",
       "        vertical-align: middle;\n",
       "    }\n",
       "\n",
       "    .dataframe tbody tr th {\n",
       "        vertical-align: top;\n",
       "    }\n",
       "\n",
       "    .dataframe thead th {\n",
       "        text-align: right;\n",
       "    }\n",
       "</style>\n",
       "<table border=\"1\" class=\"dataframe\">\n",
       "  <thead>\n",
       "    <tr style=\"text-align: right;\">\n",
       "      <th></th>\n",
       "      <th>Price</th>\n",
       "      <th>Date</th>\n",
       "    </tr>\n",
       "  </thead>\n",
       "  <tbody>\n",
       "    <tr>\n",
       "      <th>0</th>\n",
       "      <td>8775.0</td>\n",
       "      <td>2019-03-08</td>\n",
       "    </tr>\n",
       "    <tr>\n",
       "      <th>1</th>\n",
       "      <td>8775.0</td>\n",
       "      <td>2019-03-09</td>\n",
       "    </tr>\n",
       "    <tr>\n",
       "      <th>2</th>\n",
       "      <td>8852.0</td>\n",
       "      <td>2019-03-10</td>\n",
       "    </tr>\n",
       "    <tr>\n",
       "      <th>3</th>\n",
       "      <td>8852.0</td>\n",
       "      <td>2019-03-11</td>\n",
       "    </tr>\n",
       "    <tr>\n",
       "      <th>4</th>\n",
       "      <td>8852.0</td>\n",
       "      <td>2019-03-12</td>\n",
       "    </tr>\n",
       "  </tbody>\n",
       "</table>\n",
       "</div>"
      ],
      "text/plain": [
       "    Price       Date\n",
       "0  8775.0 2019-03-08\n",
       "1  8775.0 2019-03-09\n",
       "2  8852.0 2019-03-10\n",
       "3  8852.0 2019-03-11\n",
       "4  8852.0 2019-03-12"
      ]
     },
     "execution_count": 7,
     "metadata": {},
     "output_type": "execute_result"
    }
   ],
   "source": [
    "watch = watch.resample('D', on='Date', convention='s').mean()\n",
    "watch['Date'] = watch.index\n",
    "watch.reset_index(drop=True, inplace=True)\n",
    "\n",
    "watch.fillna(method='ffill', inplace=True)\n",
    "\n",
    "print(watch.shape)\n",
    "watch.head()"
   ]
  },
  {
   "cell_type": "code",
   "execution_count": 8,
   "metadata": {},
   "outputs": [
    {
     "name": "stdout",
     "output_type": "stream",
     "text": [
      "<class 'pandas.core.frame.DataFrame'>\n"
     ]
    }
   ],
   "source": [
    "watch[\"Prev_Price\"] = watch.shift(1)[\"Price\"]\n",
    "watch.head()\n",
    "print(type(watch))"
   ]
  },
  {
   "cell_type": "code",
   "execution_count": 9,
   "metadata": {},
   "outputs": [
    {
     "data": {
      "application/vnd.jupyter.widget-view+json": {
       "model_id": "2db9ab909c6f4fa6b0d6365e3ed50106",
       "version_major": 2,
       "version_minor": 0
      },
      "text/plain": [
       "  0%|          | 0/1095 [00:00<?, ?it/s]"
      ]
     },
     "metadata": {},
     "output_type": "display_data"
    },
    {
     "data": {
      "text/html": [
       "<div>\n",
       "<style scoped>\n",
       "    .dataframe tbody tr th:only-of-type {\n",
       "        vertical-align: middle;\n",
       "    }\n",
       "\n",
       "    .dataframe tbody tr th {\n",
       "        vertical-align: top;\n",
       "    }\n",
       "\n",
       "    .dataframe thead th {\n",
       "        text-align: right;\n",
       "    }\n",
       "</style>\n",
       "<table border=\"1\" class=\"dataframe\">\n",
       "  <thead>\n",
       "    <tr style=\"text-align: right;\">\n",
       "      <th></th>\n",
       "      <th>Price</th>\n",
       "      <th>Date</th>\n",
       "      <th>Prev_Price</th>\n",
       "      <th>Price_Change</th>\n",
       "    </tr>\n",
       "  </thead>\n",
       "  <tbody>\n",
       "    <tr>\n",
       "      <th>0</th>\n",
       "      <td>8775.0</td>\n",
       "      <td>2019-03-08</td>\n",
       "      <td>NaN</td>\n",
       "      <td>0.0</td>\n",
       "    </tr>\n",
       "    <tr>\n",
       "      <th>1</th>\n",
       "      <td>8775.0</td>\n",
       "      <td>2019-03-09</td>\n",
       "      <td>8775.0</td>\n",
       "      <td>0.0</td>\n",
       "    </tr>\n",
       "    <tr>\n",
       "      <th>2</th>\n",
       "      <td>8852.0</td>\n",
       "      <td>2019-03-10</td>\n",
       "      <td>8775.0</td>\n",
       "      <td>77.0</td>\n",
       "    </tr>\n",
       "    <tr>\n",
       "      <th>3</th>\n",
       "      <td>8852.0</td>\n",
       "      <td>2019-03-11</td>\n",
       "      <td>8852.0</td>\n",
       "      <td>0.0</td>\n",
       "    </tr>\n",
       "    <tr>\n",
       "      <th>4</th>\n",
       "      <td>8852.0</td>\n",
       "      <td>2019-03-12</td>\n",
       "      <td>8852.0</td>\n",
       "      <td>0.0</td>\n",
       "    </tr>\n",
       "  </tbody>\n",
       "</table>\n",
       "</div>"
      ],
      "text/plain": [
       "    Price       Date  Prev_Price  Price_Change\n",
       "0  8775.0 2019-03-08         NaN           0.0\n",
       "1  8775.0 2019-03-09      8775.0           0.0\n",
       "2  8852.0 2019-03-10      8775.0          77.0\n",
       "3  8852.0 2019-03-11      8852.0           0.0\n",
       "4  8852.0 2019-03-12      8852.0           0.0"
      ]
     },
     "execution_count": 9,
     "metadata": {},
     "output_type": "execute_result"
    }
   ],
   "source": [
    "watch[\"Price_Change\"] = watch.progress_apply(\n",
    "    lambda row: 0 if np.isnan(row[\"Prev_Price\"]) else row[\"Price\"] - row[\"Prev_Price\"],\n",
    "    axis = 1\n",
    ")\n",
    "watch.head()"
   ]
  },
  {
   "cell_type": "markdown",
   "metadata": {},
   "source": [
    "## Loading other data"
   ]
  },
  {
   "cell_type": "code",
   "execution_count": 10,
   "metadata": {},
   "outputs": [
    {
     "name": "stdout",
     "output_type": "stream",
     "text": [
      "(1093, 1)\n"
     ]
    },
    {
     "data": {
      "text/html": [
       "<div>\n",
       "<style scoped>\n",
       "    .dataframe tbody tr th:only-of-type {\n",
       "        vertical-align: middle;\n",
       "    }\n",
       "\n",
       "    .dataframe tbody tr th {\n",
       "        vertical-align: top;\n",
       "    }\n",
       "\n",
       "    .dataframe thead th {\n",
       "        text-align: right;\n",
       "    }\n",
       "</style>\n",
       "<table border=\"1\" class=\"dataframe\">\n",
       "  <thead>\n",
       "    <tr style=\"text-align: right;\">\n",
       "      <th></th>\n",
       "      <th>Value</th>\n",
       "    </tr>\n",
       "    <tr>\n",
       "      <th>Date</th>\n",
       "      <th></th>\n",
       "    </tr>\n",
       "  </thead>\n",
       "  <tbody>\n",
       "    <tr>\n",
       "      <th>2019-03-08</th>\n",
       "      <td>1296.8</td>\n",
       "    </tr>\n",
       "    <tr>\n",
       "      <th>2019-03-09</th>\n",
       "      <td>1296.8</td>\n",
       "    </tr>\n",
       "    <tr>\n",
       "      <th>2019-03-10</th>\n",
       "      <td>1296.8</td>\n",
       "    </tr>\n",
       "    <tr>\n",
       "      <th>2019-03-11</th>\n",
       "      <td>1292.8</td>\n",
       "    </tr>\n",
       "    <tr>\n",
       "      <th>2019-03-12</th>\n",
       "      <td>1297.1</td>\n",
       "    </tr>\n",
       "  </tbody>\n",
       "</table>\n",
       "</div>"
      ],
      "text/plain": [
       "             Value\n",
       "Date              \n",
       "2019-03-08  1296.8\n",
       "2019-03-09  1296.8\n",
       "2019-03-10  1296.8\n",
       "2019-03-11  1292.8\n",
       "2019-03-12  1297.1"
      ]
     },
     "execution_count": 10,
     "metadata": {},
     "output_type": "execute_result"
    }
   ],
   "source": [
    "gold = pd.read_csv(\"Datasets/Related_data/Gold_price.csv\")\n",
    "gold['Value'] = gold['Value'].str.replace(',','')\n",
    "gold['Date'] = pd.to_datetime(gold['Date'], dayfirst=True)\n",
    "gold['Value'] = pd.to_numeric(gold['Value'])\n",
    "mask = (gold.Date >= watch.iloc[0]['Date']) & (gold.Date <= watch.iloc[-1]['Date'])\n",
    "gold = gold.loc[mask]\n",
    "\n",
    "gold = gold.resample('D', on='Date', convention='s').mean()\n",
    "gold.fillna(method='ffill', inplace=True)\n",
    "\n",
    "print(gold.shape)\n",
    "gold.head()"
   ]
  },
  {
   "cell_type": "markdown",
   "metadata": {},
   "source": [
    "## Create feature df"
   ]
  },
  {
   "cell_type": "code",
   "execution_count": 11,
   "metadata": {},
   "outputs": [
    {
     "data": {
      "application/vnd.jupyter.widget-view+json": {
       "model_id": "9f58045fd9274ac68b0fa5147d58ea59",
       "version_major": 2,
       "version_minor": 0
      },
      "text/plain": [
       "  0%|          | 0/1095 [00:00<?, ?it/s]"
      ]
     },
     "metadata": {},
     "output_type": "display_data"
    }
   ],
   "source": [
    "rows = []\n",
    "\n",
    "for _, row in tqdm(watch.iterrows(), total=watch.shape[0]):\n",
    "    row_data = dict(\n",
    "        day_of_week = row.Date.dayofweek,\n",
    "        day_of_month = row.Date.day,\n",
    "        week_of_year = row.Date.week,\n",
    "        month = row.Date.month,\n",
    "        price_change = row.Price_Change,\n",
    "        price = row.Price\n",
    "    )\n",
    "    rows.append(row_data)\n",
    "\n",
    "features_df = pd.DataFrame(rows)"
   ]
  },
  {
   "cell_type": "code",
   "execution_count": 12,
   "metadata": {},
   "outputs": [
    {
     "name": "stdout",
     "output_type": "stream",
     "text": [
      "(1095, 6)\n"
     ]
    },
    {
     "data": {
      "text/html": [
       "<div>\n",
       "<style scoped>\n",
       "    .dataframe tbody tr th:only-of-type {\n",
       "        vertical-align: middle;\n",
       "    }\n",
       "\n",
       "    .dataframe tbody tr th {\n",
       "        vertical-align: top;\n",
       "    }\n",
       "\n",
       "    .dataframe thead th {\n",
       "        text-align: right;\n",
       "    }\n",
       "</style>\n",
       "<table border=\"1\" class=\"dataframe\">\n",
       "  <thead>\n",
       "    <tr style=\"text-align: right;\">\n",
       "      <th></th>\n",
       "      <th>day_of_week</th>\n",
       "      <th>day_of_month</th>\n",
       "      <th>week_of_year</th>\n",
       "      <th>month</th>\n",
       "      <th>price_change</th>\n",
       "      <th>price</th>\n",
       "    </tr>\n",
       "  </thead>\n",
       "  <tbody>\n",
       "    <tr>\n",
       "      <th>0</th>\n",
       "      <td>4</td>\n",
       "      <td>8</td>\n",
       "      <td>10</td>\n",
       "      <td>3</td>\n",
       "      <td>0.0</td>\n",
       "      <td>8775.0</td>\n",
       "    </tr>\n",
       "    <tr>\n",
       "      <th>1</th>\n",
       "      <td>5</td>\n",
       "      <td>9</td>\n",
       "      <td>10</td>\n",
       "      <td>3</td>\n",
       "      <td>0.0</td>\n",
       "      <td>8775.0</td>\n",
       "    </tr>\n",
       "    <tr>\n",
       "      <th>2</th>\n",
       "      <td>6</td>\n",
       "      <td>10</td>\n",
       "      <td>10</td>\n",
       "      <td>3</td>\n",
       "      <td>77.0</td>\n",
       "      <td>8852.0</td>\n",
       "    </tr>\n",
       "    <tr>\n",
       "      <th>3</th>\n",
       "      <td>0</td>\n",
       "      <td>11</td>\n",
       "      <td>11</td>\n",
       "      <td>3</td>\n",
       "      <td>0.0</td>\n",
       "      <td>8852.0</td>\n",
       "    </tr>\n",
       "    <tr>\n",
       "      <th>4</th>\n",
       "      <td>1</td>\n",
       "      <td>12</td>\n",
       "      <td>11</td>\n",
       "      <td>3</td>\n",
       "      <td>0.0</td>\n",
       "      <td>8852.0</td>\n",
       "    </tr>\n",
       "  </tbody>\n",
       "</table>\n",
       "</div>"
      ],
      "text/plain": [
       "   day_of_week  day_of_month  week_of_year  month  price_change   price\n",
       "0            4             8            10      3           0.0  8775.0\n",
       "1            5             9            10      3           0.0  8775.0\n",
       "2            6            10            10      3          77.0  8852.0\n",
       "3            0            11            11      3           0.0  8852.0\n",
       "4            1            12            11      3           0.0  8852.0"
      ]
     },
     "execution_count": 12,
     "metadata": {},
     "output_type": "execute_result"
    }
   ],
   "source": [
    "print(features_df.shape)\n",
    "features_df.head()"
   ]
  },
  {
   "cell_type": "markdown",
   "metadata": {},
   "source": [
    "## Set TRAIN_RATIO"
   ]
  },
  {
   "cell_type": "code",
   "execution_count": 13,
   "metadata": {},
   "outputs": [
    {
     "name": "stdout",
     "output_type": "stream",
     "text": [
      "876\n"
     ]
    }
   ],
   "source": [
    "TRAIN_RATIO = 0.8\n",
    "\n",
    "train_size = int(len(features_df) * TRAIN_RATIO)\n",
    "print(train_size)"
   ]
  },
  {
   "cell_type": "code",
   "execution_count": 14,
   "metadata": {},
   "outputs": [
    {
     "name": "stdout",
     "output_type": "stream",
     "text": [
      "(876, 6) (219, 6)\n"
     ]
    }
   ],
   "source": [
    "train_df, test_df = features_df[:train_size], features_df[train_size:]\n",
    "print(train_df.shape, test_df.shape)"
   ]
  },
  {
   "cell_type": "markdown",
   "metadata": {},
   "source": [
    "## Scaler"
   ]
  },
  {
   "cell_type": "code",
   "execution_count": 16,
   "metadata": {},
   "outputs": [],
   "source": [
    "scaler = MinMaxScaler(feature_range=(-1, 1))\n",
    "# scale = pd.read_csv('checkpoints/scale.csv', index_col=0)\n",
    "# scaler.min_, scaler.scale_ = list(scale.loc[:,'min']), list(scale.loc[:,'scale'])\n",
    "scaler = scaler.fit(train_df)"
   ]
  },
  {
   "cell_type": "code",
   "execution_count": 17,
   "metadata": {},
   "outputs": [],
   "source": [
    "train_df = pd.DataFrame(\n",
    "    scaler.transform(train_df),\n",
    "    index=train_df.index,\n",
    "    columns=train_df.columns\n",
    ")"
   ]
  },
  {
   "cell_type": "code",
   "execution_count": 18,
   "metadata": {},
   "outputs": [],
   "source": [
    "test_df = pd.DataFrame(\n",
    "    scaler.transform(test_df),\n",
    "    # test_df,\n",
    "    index=test_df.index,\n",
    "    columns=test_df.columns\n",
    ")"
   ]
  },
  {
   "cell_type": "code",
   "execution_count": 19,
   "metadata": {},
   "outputs": [
    {
     "data": {
      "text/html": [
       "<div>\n",
       "<style scoped>\n",
       "    .dataframe tbody tr th:only-of-type {\n",
       "        vertical-align: middle;\n",
       "    }\n",
       "\n",
       "    .dataframe tbody tr th {\n",
       "        vertical-align: top;\n",
       "    }\n",
       "\n",
       "    .dataframe thead th {\n",
       "        text-align: right;\n",
       "    }\n",
       "</style>\n",
       "<table border=\"1\" class=\"dataframe\">\n",
       "  <thead>\n",
       "    <tr style=\"text-align: right;\">\n",
       "      <th></th>\n",
       "      <th>day_of_week</th>\n",
       "      <th>day_of_month</th>\n",
       "      <th>week_of_year</th>\n",
       "      <th>month</th>\n",
       "      <th>price_change</th>\n",
       "      <th>price</th>\n",
       "    </tr>\n",
       "  </thead>\n",
       "  <tbody>\n",
       "    <tr>\n",
       "      <th>876</th>\n",
       "      <td>0.666667</td>\n",
       "      <td>1.000000</td>\n",
       "      <td>0.115385</td>\n",
       "      <td>0.090909</td>\n",
       "      <td>-0.772968</td>\n",
       "      <td>0.985431</td>\n",
       "    </tr>\n",
       "    <tr>\n",
       "      <th>877</th>\n",
       "      <td>1.000000</td>\n",
       "      <td>-1.000000</td>\n",
       "      <td>0.115385</td>\n",
       "      <td>0.272727</td>\n",
       "      <td>-0.769435</td>\n",
       "      <td>0.988445</td>\n",
       "    </tr>\n",
       "    <tr>\n",
       "      <th>878</th>\n",
       "      <td>-1.000000</td>\n",
       "      <td>-0.933333</td>\n",
       "      <td>0.153846</td>\n",
       "      <td>0.272727</td>\n",
       "      <td>-0.799470</td>\n",
       "      <td>0.974378</td>\n",
       "    </tr>\n",
       "    <tr>\n",
       "      <th>879</th>\n",
       "      <td>-0.666667</td>\n",
       "      <td>-0.866667</td>\n",
       "      <td>0.153846</td>\n",
       "      <td>0.272727</td>\n",
       "      <td>-0.767668</td>\n",
       "      <td>0.978397</td>\n",
       "    </tr>\n",
       "    <tr>\n",
       "      <th>880</th>\n",
       "      <td>-0.333333</td>\n",
       "      <td>-0.800000</td>\n",
       "      <td>0.153846</td>\n",
       "      <td>0.272727</td>\n",
       "      <td>-0.753534</td>\n",
       "      <td>0.990455</td>\n",
       "    </tr>\n",
       "  </tbody>\n",
       "</table>\n",
       "</div>"
      ],
      "text/plain": [
       "     day_of_week  day_of_month  week_of_year     month  price_change     price\n",
       "876     0.666667      1.000000      0.115385  0.090909     -0.772968  0.985431\n",
       "877     1.000000     -1.000000      0.115385  0.272727     -0.769435  0.988445\n",
       "878    -1.000000     -0.933333      0.153846  0.272727     -0.799470  0.974378\n",
       "879    -0.666667     -0.866667      0.153846  0.272727     -0.767668  0.978397\n",
       "880    -0.333333     -0.800000      0.153846  0.272727     -0.753534  0.990455"
      ]
     },
     "execution_count": 19,
     "metadata": {},
     "output_type": "execute_result"
    }
   ],
   "source": [
    "test_df.head()"
   ]
  },
  {
   "cell_type": "code",
   "execution_count": 20,
   "metadata": {},
   "outputs": [],
   "source": [
    "def create_sequences(input_data: pd.DataFrame, target_column, sequence_length, days_pred):\n",
    "\n",
    "    sequences = []\n",
    "    data_size = len(input_data)\n",
    "\n",
    "    for i in tqdm(range(data_size - sequence_length - days_pred)):\n",
    "\n",
    "        sequence = input_data[i:i+sequence_length]\n",
    "\n",
    "        label_position = i + sequence_length + days_pred\n",
    "        label = input_data.iloc[label_position][target_column]\n",
    "        \n",
    "        sequences.append((sequence, label))\n",
    "\n",
    "    return sequences"
   ]
  },
  {
   "cell_type": "markdown",
   "metadata": {},
   "source": [
    "## Set SEQUENCE_LENGTH and Created sequences"
   ]
  },
  {
   "cell_type": "code",
   "execution_count": 21,
   "metadata": {},
   "outputs": [
    {
     "data": {
      "application/vnd.jupyter.widget-view+json": {
       "model_id": "cec2ebba71634f2a86e3ba05c48e7565",
       "version_major": 2,
       "version_minor": 0
      },
      "text/plain": [
       "  0%|          | 0/816 [00:00<?, ?it/s]"
      ]
     },
     "metadata": {},
     "output_type": "display_data"
    },
    {
     "data": {
      "application/vnd.jupyter.widget-view+json": {
       "model_id": "6591842af970429a850417190af65445",
       "version_major": 2,
       "version_minor": 0
      },
      "text/plain": [
       "  0%|          | 0/159 [00:00<?, ?it/s]"
      ]
     },
     "metadata": {},
     "output_type": "display_data"
    }
   ],
   "source": [
    "SEQUENCE_LENGTH = 30\n",
    "DAYS_PREDICTION = 30\n",
    "\n",
    "train_sequences = create_sequences(train_df, \"price\", SEQUENCE_LENGTH, DAYS_PREDICTION)\n",
    "test_sequences = create_sequences(test_df, \"price\", SEQUENCE_LENGTH, DAYS_PREDICTION)"
   ]
  },
  {
   "cell_type": "code",
   "execution_count": 22,
   "metadata": {},
   "outputs": [
    {
     "name": "stdout",
     "output_type": "stream",
     "text": [
      "Sequence shape: (30, 6)\n",
      "Train length: 816\n",
      "Test length: 159\n",
      "Test length: -0.691032403918614\n"
     ]
    },
    {
     "data": {
      "text/html": [
       "<div>\n",
       "<style scoped>\n",
       "    .dataframe tbody tr th:only-of-type {\n",
       "        vertical-align: middle;\n",
       "    }\n",
       "\n",
       "    .dataframe tbody tr th {\n",
       "        vertical-align: top;\n",
       "    }\n",
       "\n",
       "    .dataframe thead th {\n",
       "        text-align: right;\n",
       "    }\n",
       "</style>\n",
       "<table border=\"1\" class=\"dataframe\">\n",
       "  <thead>\n",
       "    <tr style=\"text-align: right;\">\n",
       "      <th></th>\n",
       "      <th>day_of_week</th>\n",
       "      <th>day_of_month</th>\n",
       "      <th>week_of_year</th>\n",
       "      <th>month</th>\n",
       "      <th>price_change</th>\n",
       "      <th>price</th>\n",
       "    </tr>\n",
       "  </thead>\n",
       "  <tbody>\n",
       "    <tr>\n",
       "      <th>0</th>\n",
       "      <td>0.333333</td>\n",
       "      <td>-0.533333</td>\n",
       "      <td>-0.653846</td>\n",
       "      <td>-0.636364</td>\n",
       "      <td>-0.774735</td>\n",
       "      <td>-0.901532</td>\n",
       "    </tr>\n",
       "    <tr>\n",
       "      <th>1</th>\n",
       "      <td>0.666667</td>\n",
       "      <td>-0.466667</td>\n",
       "      <td>-0.653846</td>\n",
       "      <td>-0.636364</td>\n",
       "      <td>-0.774735</td>\n",
       "      <td>-0.901532</td>\n",
       "    </tr>\n",
       "    <tr>\n",
       "      <th>2</th>\n",
       "      <td>1.000000</td>\n",
       "      <td>-0.400000</td>\n",
       "      <td>-0.653846</td>\n",
       "      <td>-0.636364</td>\n",
       "      <td>-0.706714</td>\n",
       "      <td>-0.862849</td>\n",
       "    </tr>\n",
       "    <tr>\n",
       "      <th>3</th>\n",
       "      <td>-1.000000</td>\n",
       "      <td>-0.333333</td>\n",
       "      <td>-0.615385</td>\n",
       "      <td>-0.636364</td>\n",
       "      <td>-0.774735</td>\n",
       "      <td>-0.862849</td>\n",
       "    </tr>\n",
       "    <tr>\n",
       "      <th>4</th>\n",
       "      <td>-0.666667</td>\n",
       "      <td>-0.266667</td>\n",
       "      <td>-0.615385</td>\n",
       "      <td>-0.636364</td>\n",
       "      <td>-0.774735</td>\n",
       "      <td>-0.862849</td>\n",
       "    </tr>\n",
       "  </tbody>\n",
       "</table>\n",
       "</div>"
      ],
      "text/plain": [
       "   day_of_week  day_of_month  week_of_year     month  price_change     price\n",
       "0     0.333333     -0.533333     -0.653846 -0.636364     -0.774735 -0.901532\n",
       "1     0.666667     -0.466667     -0.653846 -0.636364     -0.774735 -0.901532\n",
       "2     1.000000     -0.400000     -0.653846 -0.636364     -0.706714 -0.862849\n",
       "3    -1.000000     -0.333333     -0.615385 -0.636364     -0.774735 -0.862849\n",
       "4    -0.666667     -0.266667     -0.615385 -0.636364     -0.774735 -0.862849"
      ]
     },
     "execution_count": 22,
     "metadata": {},
     "output_type": "execute_result"
    }
   ],
   "source": [
    "print(f\"Sequence shape: {train_sequences[0][0].shape}\")\n",
    "print(f\"Train length: {len(train_sequences)}\")\n",
    "print(f\"Test length: {len(test_sequences)}\")\n",
    "print(f\"Test length: {train_sequences[0][1]}\")\n",
    "train_sequences[0][0].head()"
   ]
  },
  {
   "cell_type": "markdown",
   "metadata": {},
   "source": [
    "# Classes create"
   ]
  },
  {
   "cell_type": "markdown",
   "metadata": {},
   "source": [
    "## Set device"
   ]
  },
  {
   "cell_type": "code",
   "execution_count": 23,
   "metadata": {},
   "outputs": [
    {
     "name": "stdout",
     "output_type": "stream",
     "text": [
      "configured device: cuda\n"
     ]
    }
   ],
   "source": [
    "device = torch.device('cuda' if torch.cuda.is_available() else 'cpu')\n",
    "# device = 'cpu'\n",
    "print(\"configured device:\", device)"
   ]
  },
  {
   "cell_type": "markdown",
   "metadata": {},
   "source": [
    "## TS_Dataset (Time series)"
   ]
  },
  {
   "cell_type": "code",
   "execution_count": 24,
   "metadata": {},
   "outputs": [],
   "source": [
    "class TS_Dataset(Dataset):\n",
    "    def __init__(self, sequences):\n",
    "        self.sequences = sequences\n",
    "\n",
    "    def __len__(self):\n",
    "        return len(self.sequences)\n",
    "\n",
    "    def __getitem__(self, idx):\n",
    "        \n",
    "        sequence, label = self.sequences[idx]\n",
    "\n",
    "        return dict(\n",
    "            sequence = torch.Tensor(sequence.to_numpy()).to(device),\n",
    "            label = torch.tensor(label).float().to(device)\n",
    "        )"
   ]
  },
  {
   "cell_type": "markdown",
   "metadata": {},
   "source": [
    "## Price Data Module"
   ]
  },
  {
   "cell_type": "code",
   "execution_count": 25,
   "metadata": {},
   "outputs": [],
   "source": [
    "class PriceDataModule(pl.LightningDataModule):\n",
    "    def __init__(self, train_sequences, test_sequences, batch_size=8):\n",
    "        super().__init__\n",
    "        self.train_sequences = train_sequences\n",
    "        self.test_sequences = test_sequences\n",
    "        self.batch_size = batch_size\n",
    "        \n",
    "    def prepare_data(self):\n",
    "        self._has_prepared_data = True\n",
    "\n",
    "    def setup(self):\n",
    "        self.train_dataset = TS_Dataset(self.train_sequences)\n",
    "        self.test_dataset = TS_Dataset(self.test_sequences)\n",
    "        self.prepare_data()\n",
    "        \n",
    "    def train_dataloader(self):\n",
    "        return DataLoader(\n",
    "            self.train_dataset,\n",
    "            batch_size=self.batch_size,\n",
    "            shuffle=False\n",
    "        )\n",
    "    \n",
    "    def val_dataloader(self):\n",
    "        return DataLoader(\n",
    "            self.test_dataset,\n",
    "            batch_size=4,\n",
    "            shuffle=False\n",
    "        )\n",
    "        \n",
    "    def test_dataloader(self):\n",
    "        return DataLoader(\n",
    "            self.test_dataset,\n",
    "            batch_size=1,\n",
    "            shuffle=False\n",
    "        )"
   ]
  },
  {
   "cell_type": "markdown",
   "metadata": {},
   "source": [
    "## Define BATCH_SIZE and N_EPOCHS"
   ]
  },
  {
   "cell_type": "code",
   "execution_count": 26,
   "metadata": {},
   "outputs": [],
   "source": [
    "N_EPOCHS = 50\n",
    "BATCH_SIZE = 64\n",
    "\n",
    "data_module = PriceDataModule(train_sequences, test_sequences, batch_size=BATCH_SIZE)\n",
    "data_module.setup()"
   ]
  },
  {
   "cell_type": "code",
   "execution_count": 27,
   "metadata": {},
   "outputs": [],
   "source": [
    "train_dataset = TS_Dataset(train_sequences)"
   ]
  },
  {
   "cell_type": "code",
   "execution_count": 28,
   "metadata": {},
   "outputs": [
    {
     "name": "stdout",
     "output_type": "stream",
     "text": [
      "torch.Size([30, 6])\n",
      "torch.Size([])\n",
      "tensor(-0.6910, device='cuda:0')\n"
     ]
    }
   ],
   "source": [
    "for item in train_dataset:\n",
    "    print(item[\"sequence\"].shape)\n",
    "    print(item[\"label\"].shape)\n",
    "    print(item[\"label\"])\n",
    "    break"
   ]
  },
  {
   "cell_type": "markdown",
   "metadata": {},
   "source": [
    "## Price Prediction Model"
   ]
  },
  {
   "cell_type": "code",
   "execution_count": 29,
   "metadata": {},
   "outputs": [],
   "source": [
    "class PricePredictionModel(nn.Module):\n",
    "\n",
    "    def __init__(self, n_features, n_hidden=128, n_layers=2):\n",
    "        super().__init__()\n",
    "        self.n_hidden = n_hidden\n",
    "        self.lstm = nn.LSTM(\n",
    "            input_size = n_features,\n",
    "            hidden_size =n_hidden,\n",
    "            batch_first = True,\n",
    "            num_layers = n_layers,\n",
    "            dropout = 0.2\n",
    "        )\n",
    "        self.regressor = nn.Linear(n_hidden, 1)\n",
    "\n",
    "    def forward(self, x):\n",
    "        self.lstm.flatten_parameters()\n",
    "\n",
    "        _, (hidden, _) = self.lstm(x)\n",
    "        out = hidden[-1]\n",
    "\n",
    "        return self.regressor(out)"
   ]
  },
  {
   "cell_type": "markdown",
   "metadata": {},
   "source": [
    "## Price Predictor"
   ]
  },
  {
   "cell_type": "code",
   "execution_count": 30,
   "metadata": {},
   "outputs": [],
   "source": [
    "class PricePredictor(pl.LightningModule):\n",
    "\n",
    "    def __init__(self, n_features: int):\n",
    "        super().__init__()\n",
    "        self.model = PricePredictionModel(n_features).to(device)\n",
    "        self.criterion = nn.MSELoss().to(device)\n",
    "\n",
    "    def forward(self, x, labels=None):\n",
    "        output = self.model(x)\n",
    "        loss = 0\n",
    "        if labels is not None:\n",
    "            loss = self.criterion(output, labels.unsqueeze(dim=1))\n",
    "\n",
    "        return loss, output\n",
    "    \n",
    "    def training_step(self, batch, batch_idx):\n",
    "        sequences = batch[\"sequence\"]\n",
    "        labels = batch[\"label\"]\n",
    "        loss, outputs = self(sequences, labels)\n",
    "        self.log(\"train_loss\", loss, prog_bar=True, logger=True)\n",
    "        return loss\n",
    "    \n",
    "    def validation_step(self, batch, batch_idx):\n",
    "        sequences = batch[\"sequence\"]\n",
    "        labels = batch[\"label\"]\n",
    "        loss, outputs = self(sequences, labels)\n",
    "        self.log(\"val_loss\", loss, prog_bar=True, logger=True)\n",
    "        return loss    \n",
    "\n",
    "    def test_step(self, batch, batch_idx):\n",
    "        sequences = batch[\"sequence\"]\n",
    "        labels = batch[\"label\"]\n",
    "        loss, outputs = self(sequences, labels)\n",
    "        self.log(\"test_loss\", loss, prog_bar=True, logger=True)\n",
    "        return loss\n",
    "\n",
    "    def configure_optimizers(self):\n",
    "        return optim.Adagrad(self.parameters(), lr=1e-3)"
   ]
  },
  {
   "cell_type": "code",
   "execution_count": 31,
   "metadata": {},
   "outputs": [],
   "source": [
    "model = PricePredictor(n_features=train_df.shape[1])"
   ]
  },
  {
   "cell_type": "code",
   "execution_count": 32,
   "metadata": {},
   "outputs": [
    {
     "name": "stdout",
     "output_type": "stream",
     "text": [
      "torch.Size([64, 30, 6])\n",
      "torch.Size([64])\n"
     ]
    }
   ],
   "source": [
    "for item in data_module.train_dataloader():\n",
    "    print(item[\"sequence\"].shape)\n",
    "    print(item[\"label\"].shape)\n",
    "    break"
   ]
  },
  {
   "cell_type": "markdown",
   "metadata": {},
   "source": [
    "# Start Tensorboard"
   ]
  },
  {
   "cell_type": "code",
   "execution_count": 33,
   "metadata": {},
   "outputs": [],
   "source": [
    "# %load_ext tensorboard\n",
    "# %tensorboard --logdir ./lightning_logs"
   ]
  },
  {
   "cell_type": "markdown",
   "metadata": {},
   "source": [
    "## checkpoint_callback setup"
   ]
  },
  {
   "cell_type": "code",
   "execution_count": 34,
   "metadata": {},
   "outputs": [
    {
     "name": "stderr",
     "output_type": "stream",
     "text": [
      "GPU available: True, used: True\n",
      "TPU available: None, using: 0 TPU cores\n"
     ]
    }
   ],
   "source": [
    "checkpoint_callback = ModelCheckpoint(\n",
    "    dirpath=\"checkpoints\",\n",
    "    filename=\"best-checkpoint\",\n",
    "    save_top_k=1,\n",
    "    verbose=True,\n",
    "    monitor=\"val_loss\",\n",
    "    mode=\"min\"\n",
    ")\n",
    "\n",
    "# logger = TensorBoardLogger(\"lightning_logs\", name=\"watch-price\")\n",
    "\n",
    "early_stopping_callback = EarlyStopping(monitor='val_loss', patience=5)\n",
    "\n",
    "trainer = pl.Trainer(\n",
    "    # logger=logger,\n",
    "    checkpoint_callback=checkpoint_callback,\n",
    "    callbacks=[early_stopping_callback],\n",
    "    max_epochs=N_EPOCHS,\n",
    "    gpus=1,\n",
    "    progress_bar_refresh_rate=30\n",
    ")"
   ]
  },
  {
   "cell_type": "markdown",
   "metadata": {},
   "source": [
    "## Fit"
   ]
  },
  {
   "cell_type": "code",
   "execution_count": 35,
   "metadata": {},
   "outputs": [
    {
     "name": "stderr",
     "output_type": "stream",
     "text": [
      "LOCAL_RANK: 0 - CUDA_VISIBLE_DEVICES: [0]\n",
      "\n",
      "  | Name      | Type                 | Params\n",
      "---------------------------------------------------\n",
      "0 | model     | PricePredictionModel | 201 K \n",
      "1 | criterion | MSELoss              | 0     \n",
      "---------------------------------------------------\n",
      "201 K     Trainable params\n",
      "0         Non-trainable params\n",
      "201 K     Total params\n",
      "0.807     Total estimated model params size (MB)\n"
     ]
    },
    {
     "name": "stdout",
     "output_type": "stream",
     "text": [
      "Epoch 0: 100%|██████████| 53/53 [00:01<00:00, 46.15it/s, loss=0.411, v_num=0, val_loss=2.210, train_loss=0.965]"
     ]
    },
    {
     "name": "stderr",
     "output_type": "stream",
     "text": [
      "Epoch 0, global step 12: val_loss reached 2.21062 (best 2.21062), saving model to \"C:\\Users\\THETANG\\Documents\\GitHub\\2-Jan2022\\WatchLists\\checkpoints\\best-checkpoint.ckpt\" as top 1\n"
     ]
    },
    {
     "name": "stdout",
     "output_type": "stream",
     "text": [
      "Epoch 1: 100%|██████████| 53/53 [00:00<00:00, 111.83it/s, loss=0.416, v_num=0, val_loss=2.110, train_loss=0.913]"
     ]
    },
    {
     "name": "stderr",
     "output_type": "stream",
     "text": [
      "Epoch 1, global step 25: val_loss reached 2.11270 (best 2.11270), saving model to \"C:\\Users\\THETANG\\Documents\\GitHub\\2-Jan2022\\WatchLists\\checkpoints\\best-checkpoint.ckpt\" as top 1\n"
     ]
    },
    {
     "name": "stdout",
     "output_type": "stream",
     "text": [
      "Epoch 2: 100%|██████████| 53/53 [00:00<00:00, 123.62it/s, loss=0.387, v_num=0, val_loss=1.980, train_loss=0.856]"
     ]
    },
    {
     "name": "stderr",
     "output_type": "stream",
     "text": [
      "Epoch 2, global step 38: val_loss reached 1.98272 (best 1.98272), saving model to \"C:\\Users\\THETANG\\Documents\\GitHub\\2-Jan2022\\WatchLists\\checkpoints\\best-checkpoint.ckpt\" as top 1\n"
     ]
    },
    {
     "name": "stdout",
     "output_type": "stream",
     "text": [
      "Epoch 3: 100%|██████████| 53/53 [00:00<00:00, 146.01it/s, loss=0.357, v_num=0, val_loss=1.800, train_loss=0.773]"
     ]
    },
    {
     "name": "stderr",
     "output_type": "stream",
     "text": [
      "Epoch 3, global step 51: val_loss reached 1.79770 (best 1.79770), saving model to \"C:\\Users\\THETANG\\Documents\\GitHub\\2-Jan2022\\WatchLists\\checkpoints\\best-checkpoint.ckpt\" as top 1\n"
     ]
    },
    {
     "name": "stdout",
     "output_type": "stream",
     "text": [
      "Epoch 4: 100%|██████████| 53/53 [00:00<00:00, 149.96it/s, loss=0.312, v_num=0, val_loss=1.520, train_loss=0.640]"
     ]
    },
    {
     "name": "stderr",
     "output_type": "stream",
     "text": [
      "Epoch 4, global step 64: val_loss reached 1.51989 (best 1.51989), saving model to \"C:\\Users\\THETANG\\Documents\\GitHub\\2-Jan2022\\WatchLists\\checkpoints\\best-checkpoint.ckpt\" as top 1\n"
     ]
    },
    {
     "name": "stdout",
     "output_type": "stream",
     "text": [
      "Epoch 5: 100%|██████████| 53/53 [00:00<00:00, 148.58it/s, loss=0.245, v_num=0, val_loss=1.140, train_loss=0.452]"
     ]
    },
    {
     "name": "stderr",
     "output_type": "stream",
     "text": [
      "Epoch 5, global step 77: val_loss reached 1.14359 (best 1.14359), saving model to \"C:\\Users\\THETANG\\Documents\\GitHub\\2-Jan2022\\WatchLists\\checkpoints\\best-checkpoint.ckpt\" as top 1\n"
     ]
    },
    {
     "name": "stdout",
     "output_type": "stream",
     "text": [
      "Epoch 6: 100%|██████████| 53/53 [00:00<00:00, 149.82it/s, loss=0.17, v_num=0, val_loss=0.724, train_loss=0.233] "
     ]
    },
    {
     "name": "stderr",
     "output_type": "stream",
     "text": [
      "Epoch 6, global step 90: val_loss reached 0.72420 (best 0.72420), saving model to \"C:\\Users\\THETANG\\Documents\\GitHub\\2-Jan2022\\WatchLists\\checkpoints\\best-checkpoint.ckpt\" as top 1\n"
     ]
    },
    {
     "name": "stdout",
     "output_type": "stream",
     "text": [
      "Epoch 7: 100%|██████████| 53/53 [00:00<00:00, 152.76it/s, loss=0.102, v_num=0, val_loss=0.356, train_loss=0.0623]"
     ]
    },
    {
     "name": "stderr",
     "output_type": "stream",
     "text": [
      "Epoch 7, global step 103: val_loss reached 0.35639 (best 0.35639), saving model to \"C:\\Users\\THETANG\\Documents\\GitHub\\2-Jan2022\\WatchLists\\checkpoints\\best-checkpoint.ckpt\" as top 1\n"
     ]
    },
    {
     "name": "stdout",
     "output_type": "stream",
     "text": [
      "Epoch 8: 100%|██████████| 53/53 [00:00<00:00, 145.65it/s, loss=0.0601, v_num=0, val_loss=0.220, train_loss=0.00989]"
     ]
    },
    {
     "name": "stderr",
     "output_type": "stream",
     "text": [
      "Epoch 8, global step 116: val_loss reached 0.22013 (best 0.22013), saving model to \"C:\\Users\\THETANG\\Documents\\GitHub\\2-Jan2022\\WatchLists\\checkpoints\\best-checkpoint.ckpt\" as top 1\n"
     ]
    },
    {
     "name": "stdout",
     "output_type": "stream",
     "text": [
      "Epoch 9: 100%|██████████| 53/53 [00:00<00:00, 151.36it/s, loss=0.0469, v_num=0, val_loss=0.199, train_loss=0.00525]"
     ]
    },
    {
     "name": "stderr",
     "output_type": "stream",
     "text": [
      "Epoch 9, global step 129: val_loss reached 0.19869 (best 0.19869), saving model to \"C:\\Users\\THETANG\\Documents\\GitHub\\2-Jan2022\\WatchLists\\checkpoints\\best-checkpoint.ckpt\" as top 1\n"
     ]
    },
    {
     "name": "stdout",
     "output_type": "stream",
     "text": [
      "Epoch 10: 100%|██████████| 53/53 [00:00<00:00, 155.93it/s, loss=0.0455, v_num=0, val_loss=0.192, train_loss=0.00469]"
     ]
    },
    {
     "name": "stderr",
     "output_type": "stream",
     "text": [
      "Epoch 10, global step 142: val_loss reached 0.19216 (best 0.19216), saving model to \"C:\\Users\\THETANG\\Documents\\GitHub\\2-Jan2022\\WatchLists\\checkpoints\\best-checkpoint.ckpt\" as top 1\n"
     ]
    },
    {
     "name": "stdout",
     "output_type": "stream",
     "text": [
      "Epoch 11: 100%|██████████| 53/53 [00:00<00:00, 153.14it/s, loss=0.045, v_num=0, val_loss=0.187, train_loss=0.00387] "
     ]
    },
    {
     "name": "stderr",
     "output_type": "stream",
     "text": [
      "Epoch 11, global step 155: val_loss reached 0.18650 (best 0.18650), saving model to \"C:\\Users\\THETANG\\Documents\\GitHub\\2-Jan2022\\WatchLists\\checkpoints\\best-checkpoint.ckpt\" as top 1\n"
     ]
    },
    {
     "name": "stdout",
     "output_type": "stream",
     "text": [
      "Epoch 12: 100%|██████████| 53/53 [00:00<00:00, 150.88it/s, loss=0.0444, v_num=0, val_loss=0.181, train_loss=0.00294]"
     ]
    },
    {
     "name": "stderr",
     "output_type": "stream",
     "text": [
      "Epoch 12, global step 168: val_loss reached 0.18092 (best 0.18092), saving model to \"C:\\Users\\THETANG\\Documents\\GitHub\\2-Jan2022\\WatchLists\\checkpoints\\best-checkpoint.ckpt\" as top 1\n"
     ]
    },
    {
     "name": "stdout",
     "output_type": "stream",
     "text": [
      "Epoch 13: 100%|██████████| 53/53 [00:00<00:00, 154.62it/s, loss=0.0439, v_num=0, val_loss=0.176, train_loss=0.00296]"
     ]
    },
    {
     "name": "stderr",
     "output_type": "stream",
     "text": [
      "Epoch 13, global step 181: val_loss reached 0.17614 (best 0.17614), saving model to \"C:\\Users\\THETANG\\Documents\\GitHub\\2-Jan2022\\WatchLists\\checkpoints\\best-checkpoint.ckpt\" as top 1\n"
     ]
    },
    {
     "name": "stdout",
     "output_type": "stream",
     "text": [
      "Epoch 14: 100%|██████████| 53/53 [00:00<00:00, 145.54it/s, loss=0.0435, v_num=0, val_loss=0.174, train_loss=0.00286]"
     ]
    },
    {
     "name": "stderr",
     "output_type": "stream",
     "text": [
      "Epoch 14, global step 194: val_loss reached 0.17394 (best 0.17394), saving model to \"C:\\Users\\THETANG\\Documents\\GitHub\\2-Jan2022\\WatchLists\\checkpoints\\best-checkpoint.ckpt\" as top 1\n"
     ]
    },
    {
     "name": "stdout",
     "output_type": "stream",
     "text": [
      "Epoch 15: 100%|██████████| 53/53 [00:00<00:00, 137.36it/s, loss=0.0431, v_num=0, val_loss=0.169, train_loss=0.00261]"
     ]
    },
    {
     "name": "stderr",
     "output_type": "stream",
     "text": [
      "Epoch 15, global step 207: val_loss reached 0.16927 (best 0.16927), saving model to \"C:\\Users\\THETANG\\Documents\\GitHub\\2-Jan2022\\WatchLists\\checkpoints\\best-checkpoint.ckpt\" as top 1\n"
     ]
    },
    {
     "name": "stdout",
     "output_type": "stream",
     "text": [
      "Epoch 16: 100%|██████████| 53/53 [00:00<00:00, 147.51it/s, loss=0.0427, v_num=0, val_loss=0.166, train_loss=0.00247]"
     ]
    },
    {
     "name": "stderr",
     "output_type": "stream",
     "text": [
      "Epoch 16, global step 220: val_loss reached 0.16620 (best 0.16620), saving model to \"C:\\Users\\THETANG\\Documents\\GitHub\\2-Jan2022\\WatchLists\\checkpoints\\best-checkpoint.ckpt\" as top 1\n"
     ]
    },
    {
     "name": "stdout",
     "output_type": "stream",
     "text": [
      "Epoch 17: 100%|██████████| 53/53 [00:00<00:00, 152.75it/s, loss=0.0425, v_num=0, val_loss=0.165, train_loss=0.00199]"
     ]
    },
    {
     "name": "stderr",
     "output_type": "stream",
     "text": [
      "Epoch 17, global step 233: val_loss reached 0.16504 (best 0.16504), saving model to \"C:\\Users\\THETANG\\Documents\\GitHub\\2-Jan2022\\WatchLists\\checkpoints\\best-checkpoint.ckpt\" as top 1\n"
     ]
    },
    {
     "name": "stdout",
     "output_type": "stream",
     "text": [
      "Epoch 18: 100%|██████████| 53/53 [00:00<00:00, 143.56it/s, loss=0.0424, v_num=0, val_loss=0.163, train_loss=0.00177]"
     ]
    },
    {
     "name": "stderr",
     "output_type": "stream",
     "text": [
      "Epoch 18, global step 246: val_loss reached 0.16291 (best 0.16291), saving model to \"C:\\Users\\THETANG\\Documents\\GitHub\\2-Jan2022\\WatchLists\\checkpoints\\best-checkpoint.ckpt\" as top 1\n"
     ]
    },
    {
     "name": "stdout",
     "output_type": "stream",
     "text": [
      "Epoch 19: 100%|██████████| 53/53 [00:00<00:00, 134.96it/s, loss=0.0422, v_num=0, val_loss=0.160, train_loss=0.00162]"
     ]
    },
    {
     "name": "stderr",
     "output_type": "stream",
     "text": [
      "Epoch 19, global step 259: val_loss reached 0.16018 (best 0.16018), saving model to \"C:\\Users\\THETANG\\Documents\\GitHub\\2-Jan2022\\WatchLists\\checkpoints\\best-checkpoint.ckpt\" as top 1\n"
     ]
    },
    {
     "name": "stdout",
     "output_type": "stream",
     "text": [
      "Epoch 20: 100%|██████████| 53/53 [00:00<00:00, 160.75it/s, loss=0.0421, v_num=0, val_loss=0.158, train_loss=0.00157]"
     ]
    },
    {
     "name": "stderr",
     "output_type": "stream",
     "text": [
      "Epoch 20, global step 272: val_loss reached 0.15797 (best 0.15797), saving model to \"C:\\Users\\THETANG\\Documents\\GitHub\\2-Jan2022\\WatchLists\\checkpoints\\best-checkpoint.ckpt\" as top 1\n"
     ]
    },
    {
     "name": "stdout",
     "output_type": "stream",
     "text": [
      "Epoch 21: 100%|██████████| 53/53 [00:00<00:00, 149.43it/s, loss=0.042, v_num=0, val_loss=0.156, train_loss=0.00169] "
     ]
    },
    {
     "name": "stderr",
     "output_type": "stream",
     "text": [
      "Epoch 21, global step 285: val_loss reached 0.15582 (best 0.15582), saving model to \"C:\\Users\\THETANG\\Documents\\GitHub\\2-Jan2022\\WatchLists\\checkpoints\\best-checkpoint.ckpt\" as top 1\n"
     ]
    },
    {
     "name": "stdout",
     "output_type": "stream",
     "text": [
      "Epoch 22: 100%|██████████| 53/53 [00:00<00:00, 140.09it/s, loss=0.0418, v_num=0, val_loss=0.156, train_loss=0.00207]"
     ]
    },
    {
     "name": "stderr",
     "output_type": "stream",
     "text": [
      "Epoch 22, global step 298: val_loss reached 0.15579 (best 0.15579), saving model to \"C:\\Users\\THETANG\\Documents\\GitHub\\2-Jan2022\\WatchLists\\checkpoints\\best-checkpoint.ckpt\" as top 1\n"
     ]
    },
    {
     "name": "stdout",
     "output_type": "stream",
     "text": [
      "Epoch 23: 100%|██████████| 53/53 [00:00<00:00, 146.93it/s, loss=0.0414, v_num=0, val_loss=0.154, train_loss=0.00156]"
     ]
    },
    {
     "name": "stderr",
     "output_type": "stream",
     "text": [
      "Epoch 23, global step 311: val_loss reached 0.15416 (best 0.15416), saving model to \"C:\\Users\\THETANG\\Documents\\GitHub\\2-Jan2022\\WatchLists\\checkpoints\\best-checkpoint.ckpt\" as top 1\n"
     ]
    },
    {
     "name": "stdout",
     "output_type": "stream",
     "text": [
      "Epoch 24: 100%|██████████| 53/53 [00:00<00:00, 151.59it/s, loss=0.0415, v_num=0, val_loss=0.152, train_loss=0.00184]"
     ]
    },
    {
     "name": "stderr",
     "output_type": "stream",
     "text": [
      "Epoch 24, global step 324: val_loss reached 0.15177 (best 0.15177), saving model to \"C:\\Users\\THETANG\\Documents\\GitHub\\2-Jan2022\\WatchLists\\checkpoints\\best-checkpoint.ckpt\" as top 1\n"
     ]
    },
    {
     "name": "stdout",
     "output_type": "stream",
     "text": [
      "Epoch 25: 100%|██████████| 53/53 [00:00<00:00, 146.43it/s, loss=0.0416, v_num=0, val_loss=0.152, train_loss=0.00124]"
     ]
    },
    {
     "name": "stderr",
     "output_type": "stream",
     "text": [
      "Epoch 25, step 337: val_loss was not in top 1\n"
     ]
    },
    {
     "name": "stdout",
     "output_type": "stream",
     "text": [
      "Epoch 26: 100%|██████████| 53/53 [00:00<00:00, 145.20it/s, loss=0.0415, v_num=0, val_loss=0.153, train_loss=0.00133]"
     ]
    },
    {
     "name": "stderr",
     "output_type": "stream",
     "text": [
      "Epoch 26, step 350: val_loss was not in top 1\n"
     ]
    },
    {
     "name": "stdout",
     "output_type": "stream",
     "text": [
      "Epoch 27: 100%|██████████| 53/53 [00:00<00:00, 155.90it/s, loss=0.0413, v_num=0, val_loss=0.150, train_loss=0.00167]"
     ]
    },
    {
     "name": "stderr",
     "output_type": "stream",
     "text": [
      "Epoch 27, global step 363: val_loss reached 0.15037 (best 0.15037), saving model to \"C:\\Users\\THETANG\\Documents\\GitHub\\2-Jan2022\\WatchLists\\checkpoints\\best-checkpoint.ckpt\" as top 1\n"
     ]
    },
    {
     "name": "stdout",
     "output_type": "stream",
     "text": [
      "Epoch 28: 100%|██████████| 53/53 [00:00<00:00, 138.88it/s, loss=0.0415, v_num=0, val_loss=0.151, train_loss=0.00162]"
     ]
    },
    {
     "name": "stderr",
     "output_type": "stream",
     "text": [
      "Epoch 28, step 376: val_loss was not in top 1\n"
     ]
    },
    {
     "name": "stdout",
     "output_type": "stream",
     "text": [
      "Epoch 29: 100%|██████████| 53/53 [00:00<00:00, 141.19it/s, loss=0.0414, v_num=0, val_loss=0.150, train_loss=0.00146]"
     ]
    },
    {
     "name": "stderr",
     "output_type": "stream",
     "text": [
      "Epoch 29, global step 389: val_loss reached 0.14991 (best 0.14991), saving model to \"C:\\Users\\THETANG\\Documents\\GitHub\\2-Jan2022\\WatchLists\\checkpoints\\best-checkpoint.ckpt\" as top 1\n"
     ]
    },
    {
     "name": "stdout",
     "output_type": "stream",
     "text": [
      "Epoch 30: 100%|██████████| 53/53 [00:00<00:00, 143.36it/s, loss=0.0414, v_num=0, val_loss=0.149, train_loss=0.00171]"
     ]
    },
    {
     "name": "stderr",
     "output_type": "stream",
     "text": [
      "Epoch 30, global step 402: val_loss reached 0.14904 (best 0.14904), saving model to \"C:\\Users\\THETANG\\Documents\\GitHub\\2-Jan2022\\WatchLists\\checkpoints\\best-checkpoint.ckpt\" as top 1\n"
     ]
    },
    {
     "name": "stdout",
     "output_type": "stream",
     "text": [
      "Epoch 31: 100%|██████████| 53/53 [00:00<00:00, 152.16it/s, loss=0.0412, v_num=0, val_loss=0.150, train_loss=0.0013] "
     ]
    },
    {
     "name": "stderr",
     "output_type": "stream",
     "text": [
      "Epoch 31, step 415: val_loss was not in top 1\n"
     ]
    },
    {
     "name": "stdout",
     "output_type": "stream",
     "text": [
      "Epoch 32: 100%|██████████| 53/53 [00:00<00:00, 136.99it/s, loss=0.041, v_num=0, val_loss=0.148, train_loss=0.00171]"
     ]
    },
    {
     "name": "stderr",
     "output_type": "stream",
     "text": [
      "Epoch 32, global step 428: val_loss reached 0.14798 (best 0.14798), saving model to \"C:\\Users\\THETANG\\Documents\\GitHub\\2-Jan2022\\WatchLists\\checkpoints\\best-checkpoint.ckpt\" as top 1\n"
     ]
    },
    {
     "name": "stdout",
     "output_type": "stream",
     "text": [
      "Epoch 33: 100%|██████████| 53/53 [00:00<00:00, 145.60it/s, loss=0.0411, v_num=0, val_loss=0.151, train_loss=0.00112]"
     ]
    },
    {
     "name": "stderr",
     "output_type": "stream",
     "text": [
      "Epoch 33, step 441: val_loss was not in top 1\n"
     ]
    },
    {
     "name": "stdout",
     "output_type": "stream",
     "text": [
      "Epoch 34: 100%|██████████| 53/53 [00:00<00:00, 152.80it/s, loss=0.041, v_num=0, val_loss=0.148, train_loss=0.0014]  "
     ]
    },
    {
     "name": "stderr",
     "output_type": "stream",
     "text": [
      "Epoch 34, step 454: val_loss was not in top 1\n"
     ]
    },
    {
     "name": "stdout",
     "output_type": "stream",
     "text": [
      "Epoch 35: 100%|██████████| 53/53 [00:00<00:00, 141.67it/s, loss=0.0409, v_num=0, val_loss=0.151, train_loss=0.00149]"
     ]
    },
    {
     "name": "stderr",
     "output_type": "stream",
     "text": [
      "Epoch 35, step 467: val_loss was not in top 1\n"
     ]
    },
    {
     "name": "stdout",
     "output_type": "stream",
     "text": [
      "Epoch 36: 100%|██████████| 53/53 [00:00<00:00, 152.57it/s, loss=0.0409, v_num=0, val_loss=0.150, train_loss=0.00118]"
     ]
    },
    {
     "name": "stderr",
     "output_type": "stream",
     "text": [
      "Epoch 36, step 480: val_loss was not in top 1\n"
     ]
    },
    {
     "name": "stdout",
     "output_type": "stream",
     "text": [
      "Epoch 37: 100%|██████████| 53/53 [00:00<00:00, 149.46it/s, loss=0.0408, v_num=0, val_loss=0.150, train_loss=0.00119]"
     ]
    },
    {
     "name": "stderr",
     "output_type": "stream",
     "text": [
      "Epoch 37, step 493: val_loss was not in top 1\n"
     ]
    },
    {
     "name": "stdout",
     "output_type": "stream",
     "text": [
      "Epoch 37: 100%|██████████| 53/53 [00:00<00:00, 146.97it/s, loss=0.0408, v_num=0, val_loss=0.150, train_loss=0.00119]\n"
     ]
    },
    {
     "data": {
      "text/plain": [
       "1"
      ]
     },
     "execution_count": 35,
     "metadata": {},
     "output_type": "execute_result"
    }
   ],
   "source": [
    "trainer.fit(model, data_module)"
   ]
  },
  {
   "cell_type": "markdown",
   "metadata": {},
   "source": [
    "# Evaluation"
   ]
  },
  {
   "cell_type": "markdown",
   "metadata": {},
   "source": [
    "## Load trained model"
   ]
  },
  {
   "cell_type": "code",
   "execution_count": 36,
   "metadata": {},
   "outputs": [],
   "source": [
    "trained_model = PricePredictor.load_from_checkpoint(\n",
    "    \"checkpoints/best-checkpoint.ckpt\",\n",
    "    n_features=train_df.shape[1]\n",
    ")"
   ]
  },
  {
   "cell_type": "code",
   "execution_count": 37,
   "metadata": {},
   "outputs": [],
   "source": [
    "trained_model.freeze()"
   ]
  },
  {
   "cell_type": "markdown",
   "metadata": {},
   "source": [
    "## Predictions"
   ]
  },
  {
   "cell_type": "code",
   "execution_count": 38,
   "metadata": {},
   "outputs": [
    {
     "data": {
      "application/vnd.jupyter.widget-view+json": {
       "model_id": "f0194255f097473590f500d7c00299bd",
       "version_major": 2,
       "version_minor": 0
      },
      "text/plain": [
       "  0%|          | 0/159 [00:00<?, ?it/s]"
      ]
     },
     "metadata": {},
     "output_type": "display_data"
    }
   ],
   "source": [
    "test_dataset = TS_Dataset(test_sequences)\n",
    "\n",
    "predictions = []\n",
    "labels = []\n",
    "\n",
    "for item in tqdm(test_dataset):\n",
    "    sequence = item['sequence']\n",
    "    label = item['label']\n",
    "\n",
    "    _, output = trained_model(sequence.unsqueeze(dim=0))\n",
    "    predictions.append(output.item())\n",
    "    labels.append(label.item())"
   ]
  },
  {
   "cell_type": "code",
   "execution_count": 39,
   "metadata": {},
   "outputs": [
    {
     "data": {
      "text/plain": [
       "(159, 189)"
      ]
     },
     "execution_count": 39,
     "metadata": {},
     "output_type": "execute_result"
    }
   ],
   "source": [
    "len(predictions), len(test_df)-SEQUENCE_LENGTH"
   ]
  },
  {
   "cell_type": "code",
   "execution_count": 40,
   "metadata": {},
   "outputs": [
    {
     "name": "stdout",
     "output_type": "stream",
     "text": [
      "[1.0483520030975342, 1.048715591430664, 1.0475252866744995, 1.0441319942474365, 1.041415810585022]\n"
     ]
    }
   ],
   "source": [
    "print(predictions[:5])"
   ]
  },
  {
   "cell_type": "markdown",
   "metadata": {},
   "source": [
    "## Descale"
   ]
  },
  {
   "cell_type": "code",
   "execution_count": 41,
   "metadata": {},
   "outputs": [],
   "source": [
    "def descale(descaler, values):\n",
    "    values_2d = np.array(values)[:, np.newaxis]\n",
    "    return descaler.inverse_transform(values_2d).flatten()"
   ]
  },
  {
   "cell_type": "code",
   "execution_count": 42,
   "metadata": {},
   "outputs": [
    {
     "name": "stdout",
     "output_type": "stream",
     "text": [
      "[-1.         -1.06666667 -1.03846154 -1.18181818 -0.77473498 -5.30997237]\n"
     ]
    }
   ],
   "source": [
    "print(scaler.min_)"
   ]
  },
  {
   "cell_type": "code",
   "execution_count": 43,
   "metadata": {},
   "outputs": [
    {
     "name": "stdout",
     "output_type": "stream",
     "text": [
      "-5.30997236875157 0.0005023863350916855\n",
      "Predictions:  [12656.24466217 12656.96838474 12654.59908313 12647.84473455\n",
      " 12642.43817097]\n",
      "Labels:  [13009.00009698 13044.99995625 13056.00006485 13082.99989998\n",
      " 13084.00006086]\n"
     ]
    }
   ],
   "source": [
    "descaler = MinMaxScaler()\n",
    "descaler.min_, descaler.scale_ = scaler.min_[-1], scaler.scale_[-1]\n",
    "print(scaler.min_[-1], scaler.scale_[-1])\n",
    "\n",
    "\n",
    "predictions_descaled = descale(descaler, predictions)\n",
    "labels_descaled = descale(descaler, labels)\n",
    "\n",
    "print(\"Predictions: \", predictions_descaled[:5])\n",
    "print(\"Labels: \", labels_descaled[:5])"
   ]
  },
  {
   "cell_type": "markdown",
   "metadata": {},
   "source": [
    "## Plot graph"
   ]
  },
  {
   "cell_type": "code",
   "execution_count": 44,
   "metadata": {},
   "outputs": [
    {
     "name": "stdout",
     "output_type": "stream",
     "text": [
      "(219, 4)\n",
      "(219, 6)\n"
     ]
    }
   ],
   "source": [
    "# train_data = watch[:train_size]\n",
    "test_data = watch[train_size:]\n",
    "print(test_data.shape)\n",
    "print(test_df.shape)"
   ]
  },
  {
   "cell_type": "code",
   "execution_count": 45,
   "metadata": {},
   "outputs": [
    {
     "name": "stdout",
     "output_type": "stream",
     "text": [
      "(189, 4)\n"
     ]
    }
   ],
   "source": [
    "test_sequences_data = test_data.iloc[SEQUENCE_LENGTH:]\n",
    "print(test_sequences_data.shape)"
   ]
  },
  {
   "cell_type": "code",
   "execution_count": 46,
   "metadata": {},
   "outputs": [
    {
     "data": {
      "image/png": "[encoded data removed]",
      "text/plain": [
       "<Figure size 864x576 with 1 Axes>"
      ]
     },
     "metadata": {
      "image/png": {
       "height": 501,
       "width": 730
      }
     },
     "output_type": "display_data"
    }
   ],
   "source": [
    "test_dates = matplotlib.dates.date2num(test_sequences_data.Date.tolist())\n",
    "all_dates = matplotlib.dates.date2num(watch.Date.tolist())\n",
    "plt.plot_date(test_dates[DAYS_PREDICTION:], predictions_descaled, '-', label='predicted')\n",
    "plt.plot_date(all_dates, watch.Price.tolist(), '-', label='real')\n",
    "\n",
    "# i = 185\n",
    "# plt.plot_date([test_dates[i-SEQUENCE_LENGTH], test_dates[i], test_dates[DAYS_PREDICTION+i]], \n",
    "# [labels_descaled[i-DAYS_PREDICTION-SEQUENCE_LENGTH], labels_descaled[i-DAYS_PREDICTION], predictions_descaled[i]], '-', label='PREDICTION_1')\n",
    "\n",
    "# i = 250\n",
    "# plt.plot_date([test_dates[i-SEQUENCE_LENGTH], test_dates[i], test_dates[DAYS_PREDICTION+i]], \n",
    "# [labels_descaled[i-DAYS_PREDICTION-SEQUENCE_LENGTH], labels_descaled[i-DAYS_PREDICTION], predictions_descaled[i]], '-', label='PREDICTION_2')\n",
    "\n",
    "# i = 620\n",
    "# plt.plot_date([test_dates[i-SEQUENCE_LENGTH], test_dates[i], test_dates[DAYS_PREDICTION+i]], \n",
    "# [labels_descaled[i-DAYS_PREDICTION-SEQUENCE_LENGTH], labels_descaled[i-DAYS_PREDICTION], predictions_descaled[i]], '-', label='PREDICTION_3')\n",
    "\n",
    "plt.xticks(rotation=45)\n",
    "# plt.legend()\n",
    "plt.show()"
   ]
  },
  {
   "cell_type": "markdown",
   "metadata": {},
   "source": [
    "# Evalution function"
   ]
  },
  {
   "cell_type": "code",
   "execution_count": 47,
   "metadata": {},
   "outputs": [],
   "source": [
    "# class prediction:\n",
    "#     def __init__(self, model_path, n_features):\n",
    "#         self.trained_model = PricePredictor.load_from_checkpoint(\n",
    "#             model_path,\n",
    "#             n_features=n_features\n",
    "#         )\n",
    "#         self.trained_model.freeze()\n",
    "\n",
    "#     def get_result(self, sequence, days):\n",
    "#         _, predictions = trained_model(sequence.unsqueeze(dim=0))\n",
    "        \n"
   ]
  },
  {
   "cell_type": "code",
   "execution_count": 48,
   "metadata": {},
   "outputs": [
    {
     "data": {
      "text/html": [
       "<div>\n",
       "<style scoped>\n",
       "    .dataframe tbody tr th:only-of-type {\n",
       "        vertical-align: middle;\n",
       "    }\n",
       "\n",
       "    .dataframe tbody tr th {\n",
       "        vertical-align: top;\n",
       "    }\n",
       "\n",
       "    .dataframe thead th {\n",
       "        text-align: right;\n",
       "    }\n",
       "</style>\n",
       "<table border=\"1\" class=\"dataframe\">\n",
       "  <thead>\n",
       "    <tr style=\"text-align: right;\">\n",
       "      <th></th>\n",
       "      <th>min</th>\n",
       "      <th>scale</th>\n",
       "    </tr>\n",
       "  </thead>\n",
       "  <tbody>\n",
       "    <tr>\n",
       "      <th>0</th>\n",
       "      <td>-1.000000</td>\n",
       "      <td>0.333333</td>\n",
       "    </tr>\n",
       "    <tr>\n",
       "      <th>1</th>\n",
       "      <td>-1.066667</td>\n",
       "      <td>0.066667</td>\n",
       "    </tr>\n",
       "    <tr>\n",
       "      <th>2</th>\n",
       "      <td>-1.038462</td>\n",
       "      <td>0.038462</td>\n",
       "    </tr>\n",
       "    <tr>\n",
       "      <th>3</th>\n",
       "      <td>-1.181818</td>\n",
       "      <td>0.181818</td>\n",
       "    </tr>\n",
       "    <tr>\n",
       "      <th>4</th>\n",
       "      <td>-0.774735</td>\n",
       "      <td>0.000883</td>\n",
       "    </tr>\n",
       "  </tbody>\n",
       "</table>\n",
       "</div>"
      ],
      "text/plain": [
       "        min     scale\n",
       "0 -1.000000  0.333333\n",
       "1 -1.066667  0.066667\n",
       "2 -1.038462  0.038462\n",
       "3 -1.181818  0.181818\n",
       "4 -0.774735  0.000883"
      ]
     },
     "execution_count": 48,
     "metadata": {},
     "output_type": "execute_result"
    }
   ],
   "source": [
    "df = pd.DataFrame()\n",
    "df['min'] = scaler.min_\n",
    "df['scale'] = scaler.scale_\n",
    "df.to_csv('checkpoints/scale.csv')\n",
    "df.head()"
   ]
  },
  {
   "cell_type": "code",
   "execution_count": 49,
   "metadata": {},
   "outputs": [],
   "source": [
    "err = (np.abs(predictions_descaled-labels_descaled)/labels_descaled*100)\n"
   ]
  },
  {
   "cell_type": "code",
   "execution_count": 50,
   "metadata": {},
   "outputs": [
    {
     "data": {
      "text/plain": [
       "array([2.71162604, 2.97456169, 3.07445603, 3.32611151, 3.37482336,\n",
       "       3.45891822, 3.66263794, 3.56623229, 3.52451717, 3.6127776 ,\n",
       "       3.48324114, 3.42240112, 2.61614411, 2.51487386, 2.37064985,\n",
       "       2.0628143 , 2.12371418, 1.96700423, 1.76755905, 1.56365686,\n",
       "       1.29826705, 1.10956855, 0.99191117, 1.36585775, 1.21270588,\n",
       "       1.45975682, 1.39990361, 1.49342746, 1.51215739, 1.40512739,\n",
       "       1.5808405 , 1.54987871, 1.60706966, 1.5376285 , 1.63138338,\n",
       "       1.74671519, 1.89097222, 2.06552629, 2.13962399, 2.13029088,\n",
       "       2.11255781, 2.06624385, 2.0676511 , 2.25640446, 2.29823203,\n",
       "       2.41582129, 3.87562825, 4.05026077, 4.08379746, 4.30409451,\n",
       "       4.45640172, 4.71781456, 4.9163175 , 5.19604606, 5.12268397,\n",
       "       5.38091218, 5.15675375, 5.10149069, 5.05618744, 4.89088048,\n",
       "       4.88065784, 4.87795765, 4.76996799, 4.64122613, 4.89947821,\n",
       "       5.0444014 , 5.1088922 , 5.17871918, 5.08414536, 5.04323554,\n",
       "       5.01241755, 4.88259945, 4.98915339, 4.96358717, 4.92296295,\n",
       "       4.87803676, 4.93236882, 4.00546139, 3.88655835, 3.86808332,\n",
       "       3.80569015, 3.87190118, 3.81718209, 3.61642251, 3.68663428,\n",
       "       3.83492841, 3.85209488, 3.82910808, 3.93562825, 3.92088022,\n",
       "       3.98762072, 4.02750057, 4.11296124, 4.30190933, 4.49551523,\n",
       "       4.49900267, 4.57303957, 4.56360333, 4.59803505, 4.91344613,\n",
       "       5.0539207 , 5.07016068, 5.23113974, 5.26030981, 5.31785788,\n",
       "       5.31283628, 5.34905495, 5.50074774, 5.51280898, 5.52226097,\n",
       "       5.6308237 , 5.65750533, 5.66603964, 5.70436794, 5.82041992,\n",
       "       5.85156124, 5.97644805, 7.09287323, 7.189111  , 7.12475446,\n",
       "       7.2468472 , 7.20570019, 7.26677625, 6.99060709, 7.30078777,\n",
       "       7.26157907, 7.12964361, 7.20145596, 7.35229059, 7.51795071,\n",
       "       7.55715156, 7.62332673, 7.5989381 , 7.54877666, 7.60422358,\n",
       "       7.61845332, 8.31288472, 8.30376323, 8.26820215, 8.33009212,\n",
       "       8.42405199, 8.61423011, 8.85747925, 8.92794235, 9.117527  ,\n",
       "       9.17704494, 9.20309322, 9.2445742 , 9.24465679, 9.44746489,\n",
       "       9.48258843, 9.58863617, 9.609182  , 9.36346141, 9.2435737 ,\n",
       "       9.28486658, 9.33371253, 9.35785853, 9.36608138])"
      ]
     },
     "execution_count": 50,
     "metadata": {},
     "output_type": "execute_result"
    }
   ],
   "source": [
    "err"
   ]
  },
  {
   "cell_type": "code",
   "execution_count": 51,
   "metadata": {},
   "outputs": [
    {
     "name": "stdout",
     "output_type": "stream",
     "text": [
      "159\n",
      "159\n"
     ]
    }
   ],
   "source": [
    "print(len(test_dates[DAYS_PREDICTION:]))\n",
    "print(len(predictions_descaled))"
   ]
  },
  {
   "cell_type": "code",
   "execution_count": 52,
   "metadata": {},
   "outputs": [
    {
     "data": {
      "text/html": [
       "<div>\n",
       "<style scoped>\n",
       "    .dataframe tbody tr th:only-of-type {\n",
       "        vertical-align: middle;\n",
       "    }\n",
       "\n",
       "    .dataframe tbody tr th {\n",
       "        vertical-align: top;\n",
       "    }\n",
       "\n",
       "    .dataframe thead th {\n",
       "        text-align: right;\n",
       "    }\n",
       "</style>\n",
       "<table border=\"1\" class=\"dataframe\">\n",
       "  <thead>\n",
       "    <tr style=\"text-align: right;\">\n",
       "      <th></th>\n",
       "      <th>Date</th>\n",
       "      <th>%Error</th>\n",
       "    </tr>\n",
       "  </thead>\n",
       "  <tbody>\n",
       "    <tr>\n",
       "      <th>0</th>\n",
       "      <td>2021-09-29</td>\n",
       "      <td>2.711626</td>\n",
       "    </tr>\n",
       "    <tr>\n",
       "      <th>1</th>\n",
       "      <td>2021-09-30</td>\n",
       "      <td>2.974562</td>\n",
       "    </tr>\n",
       "    <tr>\n",
       "      <th>2</th>\n",
       "      <td>2021-10-01</td>\n",
       "      <td>3.074456</td>\n",
       "    </tr>\n",
       "    <tr>\n",
       "      <th>3</th>\n",
       "      <td>2021-10-02</td>\n",
       "      <td>3.326112</td>\n",
       "    </tr>\n",
       "    <tr>\n",
       "      <th>4</th>\n",
       "      <td>2021-10-03</td>\n",
       "      <td>3.374823</td>\n",
       "    </tr>\n",
       "  </tbody>\n",
       "</table>\n",
       "</div>"
      ],
      "text/plain": [
       "        Date    %Error\n",
       "0 2021-09-29  2.711626\n",
       "1 2021-09-30  2.974562\n",
       "2 2021-10-01  3.074456\n",
       "3 2021-10-02  3.326112\n",
       "4 2021-10-03  3.374823"
      ]
     },
     "execution_count": 52,
     "metadata": {},
     "output_type": "execute_result"
    }
   ],
   "source": [
    "date_list = test_sequences_data.Date.tolist()\n",
    "err_df = pd.DataFrame()\n",
    "err_df[\"Date\"] = date_list[DAYS_PREDICTION:]\n",
    "err_df[\"%Error\"] = err\n",
    "err_df.head()"
   ]
  },
  {
   "cell_type": "code",
   "execution_count": 53,
   "metadata": {},
   "outputs": [],
   "source": [
    "def Load_data(path):\n",
    "    # Load watch price\n",
    "    watch = pd.read_csv(path)\n",
    "    watch['Date'] = pd.to_datetime(watch['Date'], dayfirst=True)\n",
    "    watch['Price'] = pd.to_numeric(watch['Price'])\n",
    "    watch = watch.resample('D', on='Date', convention='s').mean()\n",
    "    watch['Date'] = watch.index\n",
    "    watch.reset_index(drop=True, inplace=True)\n",
    "    watch.fillna(method='ffill', inplace=True)\n",
    "    watch[\"Prev_Price\"] = watch.shift(1)[\"Price\"]\n",
    "    watch[\"Price_Change\"] = watch.progress_apply(\n",
    "        lambda row: 0 if np.isnan(row[\"Prev_Price\"]) else row[\"Price\"] - row[\"Prev_Price\"],\n",
    "        axis = 1\n",
    "    )\n",
    "    # Creat watch feature\n",
    "    rows = []\n",
    "    for _, row in tqdm(watch.iterrows(), total=watch.shape[0]):\n",
    "        row_data = dict(\n",
    "            day_of_week = row.Date.dayofweek,\n",
    "            day_of_month = row.Date.day,\n",
    "            week_of_year = row.Date.week,\n",
    "            month = row.Date.month,\n",
    "            price_change = row.Price_Change,\n",
    "            price = row.Price\n",
    "        )\n",
    "        rows.append(row_data)\n",
    "    return pd.DataFrame(rows)\n"
   ]
  },
  {
   "cell_type": "code",
   "execution_count": null,
   "metadata": {},
   "outputs": [],
   "source": []
  },
  {
   "cell_type": "code",
   "execution_count": 79,
   "metadata": {},
   "outputs": [],
   "source": [
    "def create_pred_sequences(input_data: pd.DataFrame, target_column, sequence_length):\n",
    "    sequences = []\n",
    "    sequence = input_data[-sequence_length:]\n",
    "    label = input_data.iloc[-1][target_column]\n",
    "    sequences.append((sequence, label))\n",
    "    return sequences"
   ]
  },
  {
   "cell_type": "code",
   "execution_count": 88,
   "metadata": {},
   "outputs": [],
   "source": [
    "def prediction(\n",
    "        path, \n",
    "        model_name,\n",
    "        scaler,\n",
    "        train_n_features,\n",
    "        SEQUENCE_LENGTH = 30\n",
    "    ):\n",
    "    features_df = Load_data(path)\n",
    "    features_df = pd.DataFrame(\n",
    "        scaler.transform(features_df),\n",
    "        index=features_df.index,\n",
    "        columns=features_df.columns\n",
    "    )\n",
    "    pred_sequences = create_pred_sequences(features_df, \"price\", SEQUENCE_LENGTH)\n",
    "    pred_dataset = TS_Dataset(pred_sequences)\n",
    "\n",
    "    trained_model = PricePredictor.load_from_checkpoint(\n",
    "        \"checkpoints/\"+model_name+\".ckpt\",\n",
    "        n_features=train_n_features\n",
    "    )\n",
    "    trained_model.freeze()\n",
    "\n",
    "    predictions = []\n",
    "    for item in tqdm(pred_dataset):\n",
    "        sequence = item['sequence']\n",
    "        _, output = trained_model(sequence.unsqueeze(dim=0))\n",
    "        predictions.append(output.item())\n",
    "\n",
    "    descaler = MinMaxScaler()\n",
    "    descaler.min_, descaler.scale_ = scaler.min_[-1], scaler.scale_[-1]\n",
    "\n",
    "    predictions_descaled = descale(descaler, predictions)\n",
    "    print(\"prediction Next 1M:\", round(predictions_descaled[0], 2))"
   ]
  },
  {
   "cell_type": "code",
   "execution_count": 89,
   "metadata": {},
   "outputs": [
    {
     "data": {
      "application/vnd.jupyter.widget-view+json": {
       "model_id": "498a936956594ba88017fdc93f1ed107",
       "version_major": 2,
       "version_minor": 0
      },
      "text/plain": [
       "  0%|          | 0/1095 [00:00<?, ?it/s]"
      ]
     },
     "metadata": {},
     "output_type": "display_data"
    },
    {
     "data": {
      "application/vnd.jupyter.widget-view+json": {
       "model_id": "279876699de44b9cb72f2d32520c2f8f",
       "version_major": 2,
       "version_minor": 0
      },
      "text/plain": [
       "  0%|          | 0/1095 [00:00<?, ?it/s]"
      ]
     },
     "metadata": {},
     "output_type": "display_data"
    },
    {
     "data": {
      "application/vnd.jupyter.widget-view+json": {
       "model_id": "047f74b3093b49feadba9ddcf68ee09f",
       "version_major": 2,
       "version_minor": 0
      },
      "text/plain": [
       "  0%|          | 0/1 [00:00<?, ?it/s]"
      ]
     },
     "metadata": {},
     "output_type": "display_data"
    },
    {
     "name": "stdout",
     "output_type": "stream",
     "text": [
      "prediction Next 1M: 13243.47\n"
     ]
    }
   ],
   "source": [
    "prediction(\n",
    "        path, \n",
    "        \"best-checkpoint\",\n",
    "        scaler,\n",
    "        train_df.shape[1]\n",
    "    )"
   ]
  },
  {
   "cell_type": "code",
   "execution_count": 112,
   "metadata": {},
   "outputs": [
    {
     "data": {
      "text/html": [
       "<div>\n",
       "<style scoped>\n",
       "    .dataframe tbody tr th:only-of-type {\n",
       "        vertical-align: middle;\n",
       "    }\n",
       "\n",
       "    .dataframe tbody tr th {\n",
       "        vertical-align: top;\n",
       "    }\n",
       "\n",
       "    .dataframe thead th {\n",
       "        text-align: right;\n",
       "    }\n",
       "</style>\n",
       "<table border=\"1\" class=\"dataframe\">\n",
       "  <thead>\n",
       "    <tr style=\"text-align: right;\">\n",
       "      <th></th>\n",
       "      <th>Model</th>\n",
       "      <th>Current Price</th>\n",
       "      <th>Growth 1M</th>\n",
       "      <th>Growth 3M</th>\n",
       "      <th>Predition 1M</th>\n",
       "      <th>Predition 3M</th>\n",
       "    </tr>\n",
       "  </thead>\n",
       "  <tbody>\n",
       "    <tr>\n",
       "      <th>0</th>\n",
       "      <td>Rolex</td>\n",
       "      <td>0</td>\n",
       "      <td>1</td>\n",
       "      <td>0</td>\n",
       "      <td>5</td>\n",
       "      <td>0.0</td>\n",
       "    </tr>\n",
       "    <tr>\n",
       "      <th>0</th>\n",
       "      <td>Rolex</td>\n",
       "      <td>1</td>\n",
       "      <td>2</td>\n",
       "      <td>2</td>\n",
       "      <td>6</td>\n",
       "      <td>0.5</td>\n",
       "    </tr>\n",
       "    <tr>\n",
       "      <th>0</th>\n",
       "      <td>Rolex</td>\n",
       "      <td>2</td>\n",
       "      <td>3</td>\n",
       "      <td>4</td>\n",
       "      <td>7</td>\n",
       "      <td>1.0</td>\n",
       "    </tr>\n",
       "    <tr>\n",
       "      <th>0</th>\n",
       "      <td>Rolex</td>\n",
       "      <td>3</td>\n",
       "      <td>4</td>\n",
       "      <td>6</td>\n",
       "      <td>8</td>\n",
       "      <td>1.5</td>\n",
       "    </tr>\n",
       "    <tr>\n",
       "      <th>0</th>\n",
       "      <td>Rolex</td>\n",
       "      <td>4</td>\n",
       "      <td>5</td>\n",
       "      <td>8</td>\n",
       "      <td>9</td>\n",
       "      <td>2.0</td>\n",
       "    </tr>\n",
       "  </tbody>\n",
       "</table>\n",
       "</div>"
      ],
      "text/plain": [
       "   Model Current Price Growth 1M Growth 3M Predition 1M Predition 3M\n",
       "0  Rolex             0         1         0            5          0.0\n",
       "0  Rolex             1         2         2            6          0.5\n",
       "0  Rolex             2         3         4            7          1.0\n",
       "0  Rolex             3         4         6            8          1.5\n",
       "0  Rolex             4         5         8            9          2.0"
      ]
     },
     "execution_count": 112,
     "metadata": {},
     "output_type": "execute_result"
    }
   ],
   "source": [
    "col = [\"Model\", \"Current Price\", \n",
    "\"Growth 1M\", \"Growth 3M\",\n",
    "\"Predition 1M\", \"Predition 3M\"]\n",
    "df = pd.DataFrame([[\"Rolex\", 0, 0, 0, 0, 0]], columns=col)\n",
    "Model_Price_df = pd.DataFrame(columns=col)\n",
    "for i in range(5):\n",
    "    df = pd.DataFrame([[\"Rolex\", i, i+1, i*2, i+5, i/2]], columns=col)\n",
    "    Model_Price_df = pd.concat([Model_Price_df, df])\n",
    "Model_Price_df.head()"
   ]
  },
  {
   "cell_type": "code",
   "execution_count": 113,
   "metadata": {},
   "outputs": [
    {
     "data": {
      "application/vnd.jupyter.widget-view+json": {
       "model_id": "c493f1a7999143b8b66f6a26fb4a9955",
       "version_major": 2,
       "version_minor": 0
      },
      "text/plain": [
       "  0%|          | 0/1095 [00:00<?, ?it/s]"
      ]
     },
     "metadata": {},
     "output_type": "display_data"
    },
    {
     "data": {
      "application/vnd.jupyter.widget-view+json": {
       "model_id": "36c38222bd214609bf6b2e2ade7bc5fc",
       "version_major": 2,
       "version_minor": 0
      },
      "text/plain": [
       "  0%|          | 0/1095 [00:00<?, ?it/s]"
      ]
     },
     "metadata": {},
     "output_type": "display_data"
    },
    {
     "data": {
      "text/html": [
       "<div>\n",
       "<style scoped>\n",
       "    .dataframe tbody tr th:only-of-type {\n",
       "        vertical-align: middle;\n",
       "    }\n",
       "\n",
       "    .dataframe tbody tr th {\n",
       "        vertical-align: top;\n",
       "    }\n",
       "\n",
       "    .dataframe thead th {\n",
       "        text-align: right;\n",
       "    }\n",
       "</style>\n",
       "<table border=\"1\" class=\"dataframe\">\n",
       "  <thead>\n",
       "    <tr style=\"text-align: right;\">\n",
       "      <th></th>\n",
       "      <th>day_of_week</th>\n",
       "      <th>day_of_month</th>\n",
       "      <th>week_of_year</th>\n",
       "      <th>month</th>\n",
       "      <th>price_change</th>\n",
       "      <th>price</th>\n",
       "    </tr>\n",
       "  </thead>\n",
       "  <tbody>\n",
       "    <tr>\n",
       "      <th>1090</th>\n",
       "      <td>2</td>\n",
       "      <td>2</td>\n",
       "      <td>9</td>\n",
       "      <td>3</td>\n",
       "      <td>-2.0</td>\n",
       "      <td>14427.0</td>\n",
       "    </tr>\n",
       "    <tr>\n",
       "      <th>1091</th>\n",
       "      <td>3</td>\n",
       "      <td>3</td>\n",
       "      <td>9</td>\n",
       "      <td>3</td>\n",
       "      <td>10.0</td>\n",
       "      <td>14437.0</td>\n",
       "    </tr>\n",
       "    <tr>\n",
       "      <th>1092</th>\n",
       "      <td>4</td>\n",
       "      <td>4</td>\n",
       "      <td>9</td>\n",
       "      <td>3</td>\n",
       "      <td>3.0</td>\n",
       "      <td>14440.0</td>\n",
       "    </tr>\n",
       "    <tr>\n",
       "      <th>1093</th>\n",
       "      <td>5</td>\n",
       "      <td>5</td>\n",
       "      <td>9</td>\n",
       "      <td>3</td>\n",
       "      <td>0.0</td>\n",
       "      <td>14440.0</td>\n",
       "    </tr>\n",
       "    <tr>\n",
       "      <th>1094</th>\n",
       "      <td>6</td>\n",
       "      <td>6</td>\n",
       "      <td>9</td>\n",
       "      <td>3</td>\n",
       "      <td>0.0</td>\n",
       "      <td>14440.0</td>\n",
       "    </tr>\n",
       "  </tbody>\n",
       "</table>\n",
       "</div>"
      ],
      "text/plain": [
       "      day_of_week  day_of_month  week_of_year  month  price_change    price\n",
       "1090            2             2             9      3          -2.0  14427.0\n",
       "1091            3             3             9      3          10.0  14437.0\n",
       "1092            4             4             9      3           3.0  14440.0\n",
       "1093            5             5             9      3           0.0  14440.0\n",
       "1094            6             6             9      3           0.0  14440.0"
      ]
     },
     "execution_count": 113,
     "metadata": {},
     "output_type": "execute_result"
    }
   ],
   "source": [
    "features_df = Load_data(path)\n",
    "features_df[-5:].head()"
   ]
  },
  {
   "cell_type": "code",
   "execution_count": 116,
   "metadata": {},
   "outputs": [
    {
     "data": {
      "text/plain": [
       "14440.0"
      ]
     },
     "execution_count": 116,
     "metadata": {},
     "output_type": "execute_result"
    }
   ],
   "source": [
    "(features_df.price).iloc[-30]"
   ]
  },
  {
   "cell_type": "code",
   "execution_count": null,
   "metadata": {},
   "outputs": [],
   "source": []
  }
 ],
 "metadata": {
  "interpreter": {
   "hash": "54d292b6f3ca4ff13f504c55e6e4b729c6c0a14070d37d9d8c8aca786423add6"
  },
  "kernelspec": {
   "display_name": "Python 3.8.10 ('base')",
   "language": "python",
   "name": "python3"
  },
  "language_info": {
   "codemirror_mode": {
    "name": "ipython",
    "version": 3
   },
   "file_extension": ".py",
   "mimetype": "text/x-python",
   "name": "python",
   "nbconvert_exporter": "python",
   "pygments_lexer": "ipython3",
   "version": "3.8.12"
  },
  "orig_nbformat": 4
 },
 "nbformat": 4,
 "nbformat_minor": 2
}
