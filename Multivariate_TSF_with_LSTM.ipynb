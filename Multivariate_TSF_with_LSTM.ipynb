{
 "cells": [
  {
   "cell_type": "markdown",
   "metadata": {},
   "source": [
    "# Preparing"
   ]
  },
  {
   "cell_type": "code",
   "execution_count": 437,
   "metadata": {},
   "outputs": [],
   "source": [
    "# !nvidia-smi"
   ]
  },
  {
   "cell_type": "markdown",
   "metadata": {},
   "source": [
    "## Install library"
   ]
  },
  {
   "cell_type": "code",
   "execution_count": 438,
   "metadata": {},
   "outputs": [],
   "source": [
    "# !pip install --quiet pytorch-lightning==1.2.5\n",
    "# !pip install --quiet tqdm==4.59.0"
   ]
  },
  {
   "cell_type": "markdown",
   "metadata": {},
   "source": [
    "## Import libraries"
   ]
  },
  {
   "cell_type": "code",
   "execution_count": 439,
   "metadata": {},
   "outputs": [
    {
     "name": "stdout",
     "output_type": "stream",
     "text": [
      "4.61.2\n",
      "1.2.5\n"
     ]
    }
   ],
   "source": [
    "import seaborn as sns\n",
    "import matplotlib.pyplot as plt\n",
    "import matplotlib\n",
    "from matplotlib import rc, rcParams\n",
    "import math\n",
    "\n",
    "import pandas as pd\n",
    "import numpy as np\n",
    "import tqdm\n",
    "print(tqdm.__version__)\n",
    "from tqdm.notebook import tqdm\n",
    "import pytorch_lightning as pl\n",
    "print(pl.__version__)\n",
    "from pytorch_lightning.callbacks import ModelCheckpoint, EarlyStopping\n",
    "from pytorch_lightning.loggers import TensorBoardLogger\n",
    "from sklearn.preprocessing import MinMaxScaler\n",
    "\n",
    "import torch\n",
    "from torch import autograd, nn, optim\n",
    "import torch.nn.functional as F\n",
    "from torch.utils.data import Dataset, DataLoader\n",
    "from collections import defaultdict"
   ]
  },
  {
   "cell_type": "code",
   "execution_count": 440,
   "metadata": {},
   "outputs": [],
   "source": [
    "%matplotlib inline\n",
    "%config InlineBackend.figure_format='retina'\n",
    "\n",
    "sns.set(style='whitegrid', palette='muted', font_scale=1.2)\n",
    "\n",
    "HAPPY_COLORS_PALLETE = [\"#01BEFE\", \"#FFDD00\", \"#FF7D00\", \"#FF006D\", \"#ADFF02\", \"#8F00FF\"]\n",
    "\n",
    "sns.set_palette(sns.color_palette(HAPPY_COLORS_PALLETE))\n",
    "\n",
    "rcParams['figure.figsize'] = 12, 8\n",
    "\n",
    "tqdm.pandas()"
   ]
  },
  {
   "cell_type": "code",
   "execution_count": 441,
   "metadata": {},
   "outputs": [
    {
     "name": "stderr",
     "output_type": "stream",
     "text": [
      "Global seed set to 42\n"
     ]
    },
    {
     "data": {
      "text/plain": [
       "42"
      ]
     },
     "execution_count": 441,
     "metadata": {},
     "output_type": "execute_result"
    }
   ],
   "source": [
    "pl.seed_everything(42)"
   ]
  },
  {
   "cell_type": "markdown",
   "metadata": {},
   "source": [
    "# Data"
   ]
  },
  {
   "cell_type": "markdown",
   "metadata": {},
   "source": [
    "## Loading watch data"
   ]
  },
  {
   "cell_type": "code",
   "execution_count": 442,
   "metadata": {},
   "outputs": [
    {
     "data": {
      "text/html": [
       "<div>\n",
       "<style scoped>\n",
       "    .dataframe tbody tr th:only-of-type {\n",
       "        vertical-align: middle;\n",
       "    }\n",
       "\n",
       "    .dataframe tbody tr th {\n",
       "        vertical-align: top;\n",
       "    }\n",
       "\n",
       "    .dataframe thead th {\n",
       "        text-align: right;\n",
       "    }\n",
       "</style>\n",
       "<table border=\"1\" class=\"dataframe\">\n",
       "  <thead>\n",
       "    <tr style=\"text-align: right;\">\n",
       "      <th></th>\n",
       "      <th>Date</th>\n",
       "      <th>Price</th>\n",
       "    </tr>\n",
       "  </thead>\n",
       "  <tbody>\n",
       "    <tr>\n",
       "      <th>0</th>\n",
       "      <td>2019-03-08</td>\n",
       "      <td>8775</td>\n",
       "    </tr>\n",
       "    <tr>\n",
       "      <th>1</th>\n",
       "      <td>2019-03-10</td>\n",
       "      <td>8852</td>\n",
       "    </tr>\n",
       "    <tr>\n",
       "      <th>2</th>\n",
       "      <td>2019-03-14</td>\n",
       "      <td>8852</td>\n",
       "    </tr>\n",
       "    <tr>\n",
       "      <th>3</th>\n",
       "      <td>2019-03-17</td>\n",
       "      <td>8615</td>\n",
       "    </tr>\n",
       "    <tr>\n",
       "      <th>4</th>\n",
       "      <td>2019-03-20</td>\n",
       "      <td>8579</td>\n",
       "    </tr>\n",
       "  </tbody>\n",
       "</table>\n",
       "</div>"
      ],
      "text/plain": [
       "        Date  Price\n",
       "0 2019-03-08   8775\n",
       "1 2019-03-10   8852\n",
       "2 2019-03-14   8852\n",
       "3 2019-03-17   8615\n",
       "4 2019-03-20   8579"
      ]
     },
     "execution_count": 442,
     "metadata": {},
     "output_type": "execute_result"
    }
   ],
   "source": [
    "path = \"Datasets\\Price_chart_Tang\\Rolex 126334\\Combine_all.csv\"\n",
    "path = 'Datasets\\Price_chart_Game\\Rolex\\Rolex 126334\\price.csv'\n",
    "# path = 'Datasets\\Price_chart_Game\\Audemars Piguet\\Audemars Piguet 15400OR\\price.csv'\n",
    "watch = pd.read_csv(path)\n",
    "watch['Date'] = pd.to_datetime(watch['Date'], dayfirst=True)\n",
    "watch['Price'] = pd.to_numeric(watch['Price'])\n",
    "watch.head()"
   ]
  },
  {
   "cell_type": "code",
   "execution_count": 443,
   "metadata": {},
   "outputs": [
    {
     "name": "stdout",
     "output_type": "stream",
     "text": [
      "(1095, 2)\n"
     ]
    },
    {
     "data": {
      "text/html": [
       "<div>\n",
       "<style scoped>\n",
       "    .dataframe tbody tr th:only-of-type {\n",
       "        vertical-align: middle;\n",
       "    }\n",
       "\n",
       "    .dataframe tbody tr th {\n",
       "        vertical-align: top;\n",
       "    }\n",
       "\n",
       "    .dataframe thead th {\n",
       "        text-align: right;\n",
       "    }\n",
       "</style>\n",
       "<table border=\"1\" class=\"dataframe\">\n",
       "  <thead>\n",
       "    <tr style=\"text-align: right;\">\n",
       "      <th></th>\n",
       "      <th>Price</th>\n",
       "      <th>Date</th>\n",
       "    </tr>\n",
       "  </thead>\n",
       "  <tbody>\n",
       "    <tr>\n",
       "      <th>0</th>\n",
       "      <td>8775.0</td>\n",
       "      <td>2019-03-08</td>\n",
       "    </tr>\n",
       "    <tr>\n",
       "      <th>1</th>\n",
       "      <td>8775.0</td>\n",
       "      <td>2019-03-09</td>\n",
       "    </tr>\n",
       "    <tr>\n",
       "      <th>2</th>\n",
       "      <td>8852.0</td>\n",
       "      <td>2019-03-10</td>\n",
       "    </tr>\n",
       "    <tr>\n",
       "      <th>3</th>\n",
       "      <td>8852.0</td>\n",
       "      <td>2019-03-11</td>\n",
       "    </tr>\n",
       "    <tr>\n",
       "      <th>4</th>\n",
       "      <td>8852.0</td>\n",
       "      <td>2019-03-12</td>\n",
       "    </tr>\n",
       "  </tbody>\n",
       "</table>\n",
       "</div>"
      ],
      "text/plain": [
       "    Price       Date\n",
       "0  8775.0 2019-03-08\n",
       "1  8775.0 2019-03-09\n",
       "2  8852.0 2019-03-10\n",
       "3  8852.0 2019-03-11\n",
       "4  8852.0 2019-03-12"
      ]
     },
     "execution_count": 443,
     "metadata": {},
     "output_type": "execute_result"
    }
   ],
   "source": [
    "watch = watch.resample('D', on='Date', convention='s').mean()\n",
    "watch['Date'] = watch.index\n",
    "watch.reset_index(drop=True, inplace=True)\n",
    "\n",
    "watch.fillna(method='ffill', inplace=True)\n",
    "\n",
    "print(watch.shape)\n",
    "watch.head()"
   ]
  },
  {
   "cell_type": "code",
   "execution_count": 444,
   "metadata": {},
   "outputs": [
    {
     "name": "stdout",
     "output_type": "stream",
     "text": [
      "<class 'pandas.core.frame.DataFrame'>\n"
     ]
    }
   ],
   "source": [
    "watch[\"Prev_Price\"] = watch.shift(1)[\"Price\"]\n",
    "watch.head()\n",
    "print(type(watch))"
   ]
  },
  {
   "cell_type": "code",
   "execution_count": 445,
   "metadata": {},
   "outputs": [
    {
     "data": {
      "application/vnd.jupyter.widget-view+json": {
       "model_id": "7ece3ec2087b47ee86e8cb6e067b645a",
       "version_major": 2,
       "version_minor": 0
      },
      "text/plain": [
       "  0%|          | 0/1095 [00:00<?, ?it/s]"
      ]
     },
     "metadata": {},
     "output_type": "display_data"
    },
    {
     "data": {
      "text/html": [
       "<div>\n",
       "<style scoped>\n",
       "    .dataframe tbody tr th:only-of-type {\n",
       "        vertical-align: middle;\n",
       "    }\n",
       "\n",
       "    .dataframe tbody tr th {\n",
       "        vertical-align: top;\n",
       "    }\n",
       "\n",
       "    .dataframe thead th {\n",
       "        text-align: right;\n",
       "    }\n",
       "</style>\n",
       "<table border=\"1\" class=\"dataframe\">\n",
       "  <thead>\n",
       "    <tr style=\"text-align: right;\">\n",
       "      <th></th>\n",
       "      <th>Price</th>\n",
       "      <th>Date</th>\n",
       "      <th>Prev_Price</th>\n",
       "      <th>Price_Change</th>\n",
       "    </tr>\n",
       "  </thead>\n",
       "  <tbody>\n",
       "    <tr>\n",
       "      <th>0</th>\n",
       "      <td>8775.0</td>\n",
       "      <td>2019-03-08</td>\n",
       "      <td>NaN</td>\n",
       "      <td>0.0</td>\n",
       "    </tr>\n",
       "    <tr>\n",
       "      <th>1</th>\n",
       "      <td>8775.0</td>\n",
       "      <td>2019-03-09</td>\n",
       "      <td>8775.0</td>\n",
       "      <td>0.0</td>\n",
       "    </tr>\n",
       "    <tr>\n",
       "      <th>2</th>\n",
       "      <td>8852.0</td>\n",
       "      <td>2019-03-10</td>\n",
       "      <td>8775.0</td>\n",
       "      <td>77.0</td>\n",
       "    </tr>\n",
       "    <tr>\n",
       "      <th>3</th>\n",
       "      <td>8852.0</td>\n",
       "      <td>2019-03-11</td>\n",
       "      <td>8852.0</td>\n",
       "      <td>0.0</td>\n",
       "    </tr>\n",
       "    <tr>\n",
       "      <th>4</th>\n",
       "      <td>8852.0</td>\n",
       "      <td>2019-03-12</td>\n",
       "      <td>8852.0</td>\n",
       "      <td>0.0</td>\n",
       "    </tr>\n",
       "  </tbody>\n",
       "</table>\n",
       "</div>"
      ],
      "text/plain": [
       "    Price       Date  Prev_Price  Price_Change\n",
       "0  8775.0 2019-03-08         NaN           0.0\n",
       "1  8775.0 2019-03-09      8775.0           0.0\n",
       "2  8852.0 2019-03-10      8775.0          77.0\n",
       "3  8852.0 2019-03-11      8852.0           0.0\n",
       "4  8852.0 2019-03-12      8852.0           0.0"
      ]
     },
     "execution_count": 445,
     "metadata": {},
     "output_type": "execute_result"
    }
   ],
   "source": [
    "watch[\"Price_Change\"] = watch.progress_apply(\n",
    "    lambda row: 0 if np.isnan(row[\"Prev_Price\"]) else row[\"Price\"] - row[\"Prev_Price\"],\n",
    "    axis = 1\n",
    ")\n",
    "watch.head()"
   ]
  },
  {
   "cell_type": "markdown",
   "metadata": {},
   "source": [
    "## Loading other data"
   ]
  },
  {
   "cell_type": "code",
   "execution_count": 446,
   "metadata": {},
   "outputs": [
    {
     "name": "stdout",
     "output_type": "stream",
     "text": [
      "(1093, 1)\n"
     ]
    },
    {
     "data": {
      "text/html": [
       "<div>\n",
       "<style scoped>\n",
       "    .dataframe tbody tr th:only-of-type {\n",
       "        vertical-align: middle;\n",
       "    }\n",
       "\n",
       "    .dataframe tbody tr th {\n",
       "        vertical-align: top;\n",
       "    }\n",
       "\n",
       "    .dataframe thead th {\n",
       "        text-align: right;\n",
       "    }\n",
       "</style>\n",
       "<table border=\"1\" class=\"dataframe\">\n",
       "  <thead>\n",
       "    <tr style=\"text-align: right;\">\n",
       "      <th></th>\n",
       "      <th>Value</th>\n",
       "    </tr>\n",
       "    <tr>\n",
       "      <th>Date</th>\n",
       "      <th></th>\n",
       "    </tr>\n",
       "  </thead>\n",
       "  <tbody>\n",
       "    <tr>\n",
       "      <th>2019-03-08</th>\n",
       "      <td>1296.8</td>\n",
       "    </tr>\n",
       "    <tr>\n",
       "      <th>2019-03-09</th>\n",
       "      <td>1296.8</td>\n",
       "    </tr>\n",
       "    <tr>\n",
       "      <th>2019-03-10</th>\n",
       "      <td>1296.8</td>\n",
       "    </tr>\n",
       "    <tr>\n",
       "      <th>2019-03-11</th>\n",
       "      <td>1292.8</td>\n",
       "    </tr>\n",
       "    <tr>\n",
       "      <th>2019-03-12</th>\n",
       "      <td>1297.1</td>\n",
       "    </tr>\n",
       "  </tbody>\n",
       "</table>\n",
       "</div>"
      ],
      "text/plain": [
       "             Value\n",
       "Date              \n",
       "2019-03-08  1296.8\n",
       "2019-03-09  1296.8\n",
       "2019-03-10  1296.8\n",
       "2019-03-11  1292.8\n",
       "2019-03-12  1297.1"
      ]
     },
     "execution_count": 446,
     "metadata": {},
     "output_type": "execute_result"
    }
   ],
   "source": [
    "gold = pd.read_csv(\"Datasets/Related_data/Gold_price.csv\")\n",
    "gold['Value'] = gold['Value'].str.replace(',','')\n",
    "gold['Date'] = pd.to_datetime(gold['Date'], dayfirst=True)\n",
    "gold['Value'] = pd.to_numeric(gold['Value'])\n",
    "mask = (gold.Date >= watch.iloc[0]['Date']) & (gold.Date <= watch.iloc[-1]['Date'])\n",
    "gold = gold.loc[mask]\n",
    "\n",
    "gold = gold.resample('D', on='Date', convention='s').mean()\n",
    "gold.fillna(method='ffill', inplace=True)\n",
    "\n",
    "print(gold.shape)\n",
    "gold.head()"
   ]
  },
  {
   "cell_type": "markdown",
   "metadata": {},
   "source": [
    "## Create feature df"
   ]
  },
  {
   "cell_type": "code",
   "execution_count": 447,
   "metadata": {},
   "outputs": [
    {
     "data": {
      "application/vnd.jupyter.widget-view+json": {
       "model_id": "209103e1d67e46888c765e8abb2bf3c2",
       "version_major": 2,
       "version_minor": 0
      },
      "text/plain": [
       "  0%|          | 0/1095 [00:00<?, ?it/s]"
      ]
     },
     "metadata": {},
     "output_type": "display_data"
    }
   ],
   "source": [
    "rows = []\n",
    "\n",
    "for _, row in tqdm(watch.iterrows(), total=watch.shape[0]):\n",
    "    row_data = dict(\n",
    "        day_of_week = row.Date.dayofweek,\n",
    "        day_of_month = row.Date.day,\n",
    "        week_of_year = row.Date.week,\n",
    "        month = row.Date.month,\n",
    "        price_change = row.Price_Change,\n",
    "        price = row.Price\n",
    "    )\n",
    "    rows.append(row_data)\n",
    "\n",
    "features_df = pd.DataFrame(rows)"
   ]
  },
  {
   "cell_type": "code",
   "execution_count": 448,
   "metadata": {},
   "outputs": [
    {
     "name": "stdout",
     "output_type": "stream",
     "text": [
      "(1095, 6)\n"
     ]
    },
    {
     "data": {
      "text/html": [
       "<div>\n",
       "<style scoped>\n",
       "    .dataframe tbody tr th:only-of-type {\n",
       "        vertical-align: middle;\n",
       "    }\n",
       "\n",
       "    .dataframe tbody tr th {\n",
       "        vertical-align: top;\n",
       "    }\n",
       "\n",
       "    .dataframe thead th {\n",
       "        text-align: right;\n",
       "    }\n",
       "</style>\n",
       "<table border=\"1\" class=\"dataframe\">\n",
       "  <thead>\n",
       "    <tr style=\"text-align: right;\">\n",
       "      <th></th>\n",
       "      <th>day_of_week</th>\n",
       "      <th>day_of_month</th>\n",
       "      <th>week_of_year</th>\n",
       "      <th>month</th>\n",
       "      <th>price_change</th>\n",
       "      <th>price</th>\n",
       "    </tr>\n",
       "  </thead>\n",
       "  <tbody>\n",
       "    <tr>\n",
       "      <th>0</th>\n",
       "      <td>4</td>\n",
       "      <td>8</td>\n",
       "      <td>10</td>\n",
       "      <td>3</td>\n",
       "      <td>0.0</td>\n",
       "      <td>8775.0</td>\n",
       "    </tr>\n",
       "    <tr>\n",
       "      <th>1</th>\n",
       "      <td>5</td>\n",
       "      <td>9</td>\n",
       "      <td>10</td>\n",
       "      <td>3</td>\n",
       "      <td>0.0</td>\n",
       "      <td>8775.0</td>\n",
       "    </tr>\n",
       "    <tr>\n",
       "      <th>2</th>\n",
       "      <td>6</td>\n",
       "      <td>10</td>\n",
       "      <td>10</td>\n",
       "      <td>3</td>\n",
       "      <td>77.0</td>\n",
       "      <td>8852.0</td>\n",
       "    </tr>\n",
       "    <tr>\n",
       "      <th>3</th>\n",
       "      <td>0</td>\n",
       "      <td>11</td>\n",
       "      <td>11</td>\n",
       "      <td>3</td>\n",
       "      <td>0.0</td>\n",
       "      <td>8852.0</td>\n",
       "    </tr>\n",
       "    <tr>\n",
       "      <th>4</th>\n",
       "      <td>1</td>\n",
       "      <td>12</td>\n",
       "      <td>11</td>\n",
       "      <td>3</td>\n",
       "      <td>0.0</td>\n",
       "      <td>8852.0</td>\n",
       "    </tr>\n",
       "  </tbody>\n",
       "</table>\n",
       "</div>"
      ],
      "text/plain": [
       "   day_of_week  day_of_month  week_of_year  month  price_change   price\n",
       "0            4             8            10      3           0.0  8775.0\n",
       "1            5             9            10      3           0.0  8775.0\n",
       "2            6            10            10      3          77.0  8852.0\n",
       "3            0            11            11      3           0.0  8852.0\n",
       "4            1            12            11      3           0.0  8852.0"
      ]
     },
     "execution_count": 448,
     "metadata": {},
     "output_type": "execute_result"
    }
   ],
   "source": [
    "print(features_df.shape)\n",
    "features_df.head()"
   ]
  },
  {
   "cell_type": "markdown",
   "metadata": {},
   "source": [
    "## Set TRAIN_RATIO"
   ]
  },
  {
   "cell_type": "code",
   "execution_count": 449,
   "metadata": {},
   "outputs": [
    {
     "name": "stdout",
     "output_type": "stream",
     "text": [
      "876\n"
     ]
    }
   ],
   "source": [
    "TRAIN_RATIO = 0.8\n",
    "\n",
    "train_size = int(len(features_df) * TRAIN_RATIO)\n",
    "print(train_size)"
   ]
  },
  {
   "cell_type": "code",
   "execution_count": 450,
   "metadata": {},
   "outputs": [
    {
     "name": "stdout",
     "output_type": "stream",
     "text": [
      "(876, 6) (219, 6)\n"
     ]
    }
   ],
   "source": [
    "train_df, test_df = features_df[:train_size], features_df[train_size:]\n",
    "print(train_df.shape, test_df.shape)"
   ]
  },
  {
   "cell_type": "markdown",
   "metadata": {},
   "source": [
    "## Scaler"
   ]
  },
  {
   "cell_type": "code",
   "execution_count": 451,
   "metadata": {},
   "outputs": [],
   "source": [
    "scaler = MinMaxScaler(feature_range=(-1, 1))\n",
    "scale = pd.read_csv('checkpoints/scale.csv', index_col=0)\n",
    "scaler.min_, scaler.scale_ = list(scale.loc[:,'min']), list(scale.loc[:,'scale'])\n",
    "# scaler = scaler.fit(train_df)"
   ]
  },
  {
   "cell_type": "code",
   "execution_count": 452,
   "metadata": {},
   "outputs": [
    {
     "name": "stderr",
     "output_type": "stream",
     "text": [
      "C:\\Users\\THETANG\\anaconda3\\envs\\BIA_env\\lib\\site-packages\\sklearn\\base.py:443: UserWarning: X has feature names, but MinMaxScaler was fitted without feature names\n",
      "  warnings.warn(\n"
     ]
    }
   ],
   "source": [
    "train_df = pd.DataFrame(\n",
    "    scaler.transform(train_df),\n",
    "    index=train_df.index,\n",
    "    columns=train_df.columns\n",
    ")"
   ]
  },
  {
   "cell_type": "code",
   "execution_count": 453,
   "metadata": {},
   "outputs": [
    {
     "name": "stderr",
     "output_type": "stream",
     "text": [
      "C:\\Users\\THETANG\\anaconda3\\envs\\BIA_env\\lib\\site-packages\\sklearn\\base.py:443: UserWarning: X has feature names, but MinMaxScaler was fitted without feature names\n",
      "  warnings.warn(\n"
     ]
    }
   ],
   "source": [
    "test_df = pd.DataFrame(\n",
    "    scaler.transform(test_df),\n",
    "    # test_df,\n",
    "    index=test_df.index,\n",
    "    columns=test_df.columns\n",
    ")"
   ]
  },
  {
   "cell_type": "code",
   "execution_count": 454,
   "metadata": {},
   "outputs": [
    {
     "data": {
      "text/html": [
       "<div>\n",
       "<style scoped>\n",
       "    .dataframe tbody tr th:only-of-type {\n",
       "        vertical-align: middle;\n",
       "    }\n",
       "\n",
       "    .dataframe tbody tr th {\n",
       "        vertical-align: top;\n",
       "    }\n",
       "\n",
       "    .dataframe thead th {\n",
       "        text-align: right;\n",
       "    }\n",
       "</style>\n",
       "<table border=\"1\" class=\"dataframe\">\n",
       "  <thead>\n",
       "    <tr style=\"text-align: right;\">\n",
       "      <th></th>\n",
       "      <th>day_of_week</th>\n",
       "      <th>day_of_month</th>\n",
       "      <th>week_of_year</th>\n",
       "      <th>month</th>\n",
       "      <th>price_change</th>\n",
       "      <th>price</th>\n",
       "    </tr>\n",
       "  </thead>\n",
       "  <tbody>\n",
       "    <tr>\n",
       "      <th>876</th>\n",
       "      <td>0.666667</td>\n",
       "      <td>1.000000</td>\n",
       "      <td>0.137255</td>\n",
       "      <td>0.090909</td>\n",
       "      <td>0.389461</td>\n",
       "      <td>2.235786</td>\n",
       "    </tr>\n",
       "    <tr>\n",
       "      <th>877</th>\n",
       "      <td>1.000000</td>\n",
       "      <td>-1.000000</td>\n",
       "      <td>0.137255</td>\n",
       "      <td>0.272727</td>\n",
       "      <td>0.390623</td>\n",
       "      <td>2.238294</td>\n",
       "    </tr>\n",
       "    <tr>\n",
       "      <th>878</th>\n",
       "      <td>-1.000000</td>\n",
       "      <td>-0.933333</td>\n",
       "      <td>0.176471</td>\n",
       "      <td>0.272727</td>\n",
       "      <td>0.380752</td>\n",
       "      <td>2.226589</td>\n",
       "    </tr>\n",
       "    <tr>\n",
       "      <th>879</th>\n",
       "      <td>-0.666667</td>\n",
       "      <td>-0.866667</td>\n",
       "      <td>0.176471</td>\n",
       "      <td>0.272727</td>\n",
       "      <td>0.391203</td>\n",
       "      <td>2.229933</td>\n",
       "    </tr>\n",
       "    <tr>\n",
       "      <th>880</th>\n",
       "      <td>-0.333333</td>\n",
       "      <td>-0.800000</td>\n",
       "      <td>0.176471</td>\n",
       "      <td>0.272727</td>\n",
       "      <td>0.395848</td>\n",
       "      <td>2.239967</td>\n",
       "    </tr>\n",
       "  </tbody>\n",
       "</table>\n",
       "</div>"
      ],
      "text/plain": [
       "     day_of_week  day_of_month  week_of_year     month  price_change     price\n",
       "876     0.666667      1.000000      0.137255  0.090909      0.389461  2.235786\n",
       "877     1.000000     -1.000000      0.137255  0.272727      0.390623  2.238294\n",
       "878    -1.000000     -0.933333      0.176471  0.272727      0.380752  2.226589\n",
       "879    -0.666667     -0.866667      0.176471  0.272727      0.391203  2.229933\n",
       "880    -0.333333     -0.800000      0.176471  0.272727      0.395848  2.239967"
      ]
     },
     "execution_count": 454,
     "metadata": {},
     "output_type": "execute_result"
    }
   ],
   "source": [
    "test_df.head()"
   ]
  },
  {
   "cell_type": "code",
   "execution_count": 455,
   "metadata": {},
   "outputs": [],
   "source": [
    "def create_sequences(input_data: pd.DataFrame, target_column, sequence_length, days_pred):\n",
    "\n",
    "    sequences = []\n",
    "    data_size = len(input_data)\n",
    "\n",
    "    for i in tqdm(range(data_size - sequence_length - days_pred)):\n",
    "\n",
    "        sequence = input_data[i:i+sequence_length]\n",
    "\n",
    "        label_position = i + sequence_length + days_pred\n",
    "        label = input_data.iloc[label_position][target_column]\n",
    "        \n",
    "        sequences.append((sequence, label))\n",
    "\n",
    "    return sequences"
   ]
  },
  {
   "cell_type": "markdown",
   "metadata": {},
   "source": [
    "## Set SEQUENCE_LENGTH and Created sequences"
   ]
  },
  {
   "cell_type": "code",
   "execution_count": 456,
   "metadata": {},
   "outputs": [
    {
     "data": {
      "application/vnd.jupyter.widget-view+json": {
       "model_id": "b95ebefdc588495f8be4543e763a0773",
       "version_major": 2,
       "version_minor": 0
      },
      "text/plain": [
       "  0%|          | 0/816 [00:00<?, ?it/s]"
      ]
     },
     "metadata": {},
     "output_type": "display_data"
    },
    {
     "data": {
      "application/vnd.jupyter.widget-view+json": {
       "model_id": "c1fe1ec6311c4c16be15e0a98d070bcd",
       "version_major": 2,
       "version_minor": 0
      },
      "text/plain": [
       "  0%|          | 0/159 [00:00<?, ?it/s]"
      ]
     },
     "metadata": {},
     "output_type": "display_data"
    }
   ],
   "source": [
    "SEQUENCE_LENGTH = 30\n",
    "DAYS_PREDICTION = 30\n",
    "\n",
    "train_sequences = create_sequences(train_df, \"price\", SEQUENCE_LENGTH, DAYS_PREDICTION)\n",
    "test_sequences = create_sequences(test_df, \"price\", SEQUENCE_LENGTH, DAYS_PREDICTION)"
   ]
  },
  {
   "cell_type": "code",
   "execution_count": 457,
   "metadata": {},
   "outputs": [
    {
     "name": "stdout",
     "output_type": "stream",
     "text": [
      "Sequence shape: (30, 6)\n",
      "Train length: 816\n",
      "Test length: 159\n",
      "Test length: 0.840719063544265\n"
     ]
    },
    {
     "data": {
      "text/html": [
       "<div>\n",
       "<style scoped>\n",
       "    .dataframe tbody tr th:only-of-type {\n",
       "        vertical-align: middle;\n",
       "    }\n",
       "\n",
       "    .dataframe tbody tr th {\n",
       "        vertical-align: top;\n",
       "    }\n",
       "\n",
       "    .dataframe thead th {\n",
       "        text-align: right;\n",
       "    }\n",
       "</style>\n",
       "<table border=\"1\" class=\"dataframe\">\n",
       "  <thead>\n",
       "    <tr style=\"text-align: right;\">\n",
       "      <th></th>\n",
       "      <th>day_of_week</th>\n",
       "      <th>day_of_month</th>\n",
       "      <th>week_of_year</th>\n",
       "      <th>month</th>\n",
       "      <th>price_change</th>\n",
       "      <th>price</th>\n",
       "    </tr>\n",
       "  </thead>\n",
       "  <tbody>\n",
       "    <tr>\n",
       "      <th>0</th>\n",
       "      <td>0.333333</td>\n",
       "      <td>-0.533333</td>\n",
       "      <td>-0.647059</td>\n",
       "      <td>-0.636364</td>\n",
       "      <td>0.388881</td>\n",
       "      <td>0.665552</td>\n",
       "    </tr>\n",
       "    <tr>\n",
       "      <th>1</th>\n",
       "      <td>0.666667</td>\n",
       "      <td>-0.466667</td>\n",
       "      <td>-0.647059</td>\n",
       "      <td>-0.636364</td>\n",
       "      <td>0.388881</td>\n",
       "      <td>0.665552</td>\n",
       "    </tr>\n",
       "    <tr>\n",
       "      <th>2</th>\n",
       "      <td>1.000000</td>\n",
       "      <td>-0.400000</td>\n",
       "      <td>-0.647059</td>\n",
       "      <td>-0.636364</td>\n",
       "      <td>0.411235</td>\n",
       "      <td>0.697742</td>\n",
       "    </tr>\n",
       "    <tr>\n",
       "      <th>3</th>\n",
       "      <td>-1.000000</td>\n",
       "      <td>-0.333333</td>\n",
       "      <td>-0.607843</td>\n",
       "      <td>-0.636364</td>\n",
       "      <td>0.388881</td>\n",
       "      <td>0.697742</td>\n",
       "    </tr>\n",
       "    <tr>\n",
       "      <th>4</th>\n",
       "      <td>-0.666667</td>\n",
       "      <td>-0.266667</td>\n",
       "      <td>-0.607843</td>\n",
       "      <td>-0.636364</td>\n",
       "      <td>0.388881</td>\n",
       "      <td>0.697742</td>\n",
       "    </tr>\n",
       "  </tbody>\n",
       "</table>\n",
       "</div>"
      ],
      "text/plain": [
       "   day_of_week  day_of_month  week_of_year     month  price_change     price\n",
       "0     0.333333     -0.533333     -0.647059 -0.636364      0.388881  0.665552\n",
       "1     0.666667     -0.466667     -0.647059 -0.636364      0.388881  0.665552\n",
       "2     1.000000     -0.400000     -0.647059 -0.636364      0.411235  0.697742\n",
       "3    -1.000000     -0.333333     -0.607843 -0.636364      0.388881  0.697742\n",
       "4    -0.666667     -0.266667     -0.607843 -0.636364      0.388881  0.697742"
      ]
     },
     "execution_count": 457,
     "metadata": {},
     "output_type": "execute_result"
    }
   ],
   "source": [
    "print(f\"Sequence shape: {train_sequences[0][0].shape}\")\n",
    "print(f\"Train length: {len(train_sequences)}\")\n",
    "print(f\"Test length: {len(test_sequences)}\")\n",
    "print(f\"Test length: {train_sequences[0][1]}\")\n",
    "train_sequences[0][0].head()"
   ]
  },
  {
   "cell_type": "markdown",
   "metadata": {},
   "source": [
    "# Classes create"
   ]
  },
  {
   "cell_type": "markdown",
   "metadata": {},
   "source": [
    "## Set device"
   ]
  },
  {
   "cell_type": "code",
   "execution_count": 458,
   "metadata": {},
   "outputs": [
    {
     "name": "stdout",
     "output_type": "stream",
     "text": [
      "configured device: cuda\n"
     ]
    }
   ],
   "source": [
    "device = torch.device('cuda' if torch.cuda.is_available() else 'cpu')\n",
    "# device = 'cpu'\n",
    "print(\"configured device:\", device)"
   ]
  },
  {
   "cell_type": "markdown",
   "metadata": {},
   "source": [
    "## TS_Dataset (Time series)"
   ]
  },
  {
   "cell_type": "code",
   "execution_count": 459,
   "metadata": {},
   "outputs": [],
   "source": [
    "class TS_Dataset(Dataset):\n",
    "    def __init__(self, sequences):\n",
    "        self.sequences = sequences\n",
    "\n",
    "    def __len__(self):\n",
    "        return len(self.sequences)\n",
    "\n",
    "    def __getitem__(self, idx):\n",
    "        \n",
    "        sequence, label = self.sequences[idx]\n",
    "\n",
    "        return dict(\n",
    "            sequence = torch.Tensor(sequence.to_numpy()).to(device),\n",
    "            label = torch.tensor(label).float().to(device)\n",
    "        )"
   ]
  },
  {
   "cell_type": "markdown",
   "metadata": {},
   "source": [
    "## Price Data Module"
   ]
  },
  {
   "cell_type": "code",
   "execution_count": 460,
   "metadata": {},
   "outputs": [],
   "source": [
    "class PriceDataModule(pl.LightningDataModule):\n",
    "    def __init__(self, train_sequences, test_sequences, batch_size=8):\n",
    "        super().__init__\n",
    "        self.train_sequences = train_sequences\n",
    "        self.test_sequences = test_sequences\n",
    "        self.batch_size = batch_size\n",
    "        \n",
    "    def prepare_data(self):\n",
    "        self._has_prepared_data = True\n",
    "\n",
    "    def setup(self):\n",
    "        self.train_dataset = TS_Dataset(self.train_sequences)\n",
    "        self.test_dataset = TS_Dataset(self.test_sequences)\n",
    "        self.prepare_data()\n",
    "        \n",
    "    def train_dataloader(self):\n",
    "        return DataLoader(\n",
    "            self.train_dataset,\n",
    "            batch_size=self.batch_size,\n",
    "            shuffle=False\n",
    "        )\n",
    "    \n",
    "    def val_dataloader(self):\n",
    "        return DataLoader(\n",
    "            self.test_dataset,\n",
    "            batch_size=4,\n",
    "            shuffle=False\n",
    "        )\n",
    "        \n",
    "    def test_dataloader(self):\n",
    "        return DataLoader(\n",
    "            self.test_dataset,\n",
    "            batch_size=1,\n",
    "            shuffle=False\n",
    "        )"
   ]
  },
  {
   "cell_type": "markdown",
   "metadata": {},
   "source": [
    "## Define BATCH_SIZE and N_EPOCHS"
   ]
  },
  {
   "cell_type": "code",
   "execution_count": 461,
   "metadata": {},
   "outputs": [],
   "source": [
    "N_EPOCHS = 50\n",
    "BATCH_SIZE = 64\n",
    "\n",
    "data_module = PriceDataModule(train_sequences, test_sequences, batch_size=BATCH_SIZE)\n",
    "data_module.setup()"
   ]
  },
  {
   "cell_type": "code",
   "execution_count": 462,
   "metadata": {},
   "outputs": [],
   "source": [
    "train_dataset = TS_Dataset(train_sequences)"
   ]
  },
  {
   "cell_type": "code",
   "execution_count": 463,
   "metadata": {},
   "outputs": [
    {
     "name": "stdout",
     "output_type": "stream",
     "text": [
      "torch.Size([30, 6])\n",
      "torch.Size([])\n",
      "tensor(0.8407, device='cuda:0')\n"
     ]
    }
   ],
   "source": [
    "for item in train_dataset:\n",
    "    print(item[\"sequence\"].shape)\n",
    "    print(item[\"label\"].shape)\n",
    "    print(item[\"label\"])\n",
    "    break"
   ]
  },
  {
   "cell_type": "markdown",
   "metadata": {},
   "source": [
    "## Price Prediction Model"
   ]
  },
  {
   "cell_type": "code",
   "execution_count": 464,
   "metadata": {},
   "outputs": [],
   "source": [
    "class PricePredictionModel(nn.Module):\n",
    "\n",
    "    def __init__(self, n_features, n_hidden=128, n_layers=2):\n",
    "        super().__init__()\n",
    "        self.n_hidden = n_hidden\n",
    "        self.lstm = nn.LSTM(\n",
    "            input_size = n_features,\n",
    "            hidden_size =n_hidden,\n",
    "            batch_first = True,\n",
    "            num_layers = n_layers,\n",
    "            dropout = 0.2\n",
    "        )\n",
    "        self.regressor = nn.Linear(n_hidden, 1)\n",
    "\n",
    "    def forward(self, x):\n",
    "        self.lstm.flatten_parameters()\n",
    "\n",
    "        _, (hidden, _) = self.lstm(x)\n",
    "        out = hidden[-1]\n",
    "\n",
    "        return self.regressor(out)"
   ]
  },
  {
   "cell_type": "markdown",
   "metadata": {},
   "source": [
    "## Price Predictor"
   ]
  },
  {
   "cell_type": "code",
   "execution_count": 465,
   "metadata": {},
   "outputs": [],
   "source": [
    "class PricePredictor(pl.LightningModule):\n",
    "\n",
    "    def __init__(self, n_features: int):\n",
    "        super().__init__()\n",
    "        self.model = PricePredictionModel(n_features).to(device)\n",
    "        self.criterion = nn.MSELoss().to(device)\n",
    "\n",
    "    def forward(self, x, labels=None):\n",
    "        output = self.model(x)\n",
    "        loss = 0\n",
    "        if labels is not None:\n",
    "            loss = self.criterion(output, labels.unsqueeze(dim=1))\n",
    "\n",
    "        return loss, output\n",
    "    \n",
    "    def training_step(self, batch, batch_idx):\n",
    "        sequences = batch[\"sequence\"]\n",
    "        labels = batch[\"label\"]\n",
    "        loss, outputs = self(sequences, labels)\n",
    "        self.log(\"train_loss\", loss, prog_bar=True, logger=True)\n",
    "        return loss\n",
    "    \n",
    "    def validation_step(self, batch, batch_idx):\n",
    "        sequences = batch[\"sequence\"]\n",
    "        labels = batch[\"label\"]\n",
    "        loss, outputs = self(sequences, labels)\n",
    "        self.log(\"val_loss\", loss, prog_bar=True, logger=True)\n",
    "        return loss    \n",
    "\n",
    "    def test_step(self, batch, batch_idx):\n",
    "        sequences = batch[\"sequence\"]\n",
    "        labels = batch[\"label\"]\n",
    "        loss, outputs = self(sequences, labels)\n",
    "        self.log(\"test_loss\", loss, prog_bar=True, logger=True)\n",
    "        return loss\n",
    "\n",
    "    def configure_optimizers(self):\n",
    "        return optim.Adagrad(self.parameters(), lr=1e-3)"
   ]
  },
  {
   "cell_type": "code",
   "execution_count": 466,
   "metadata": {},
   "outputs": [],
   "source": [
    "model = PricePredictor(n_features=train_df.shape[1])"
   ]
  },
  {
   "cell_type": "code",
   "execution_count": 467,
   "metadata": {},
   "outputs": [
    {
     "name": "stdout",
     "output_type": "stream",
     "text": [
      "torch.Size([64, 30, 6])\n",
      "torch.Size([64])\n"
     ]
    }
   ],
   "source": [
    "for item in data_module.train_dataloader():\n",
    "    print(item[\"sequence\"].shape)\n",
    "    print(item[\"label\"].shape)\n",
    "    break"
   ]
  },
  {
   "cell_type": "markdown",
   "metadata": {},
   "source": [
    "# Start Tensorboard"
   ]
  },
  {
   "cell_type": "code",
   "execution_count": 468,
   "metadata": {},
   "outputs": [],
   "source": [
    "# %load_ext tensorboard\n",
    "# %tensorboard --logdir ./lightning_logs"
   ]
  },
  {
   "cell_type": "markdown",
   "metadata": {},
   "source": [
    "## checkpoint_callback setup"
   ]
  },
  {
   "cell_type": "code",
   "execution_count": 471,
   "metadata": {},
   "outputs": [
    {
     "name": "stderr",
     "output_type": "stream",
     "text": [
      "GPU available: True, used: True\n",
      "TPU available: None, using: 0 TPU cores\n"
     ]
    }
   ],
   "source": [
    "checkpoint_callback = ModelCheckpoint(\n",
    "    dirpath=\"checkpoints\",\n",
    "    filename=\"best-checkpoint\",\n",
    "    save_top_k=1,\n",
    "    verbose=True,\n",
    "    monitor=\"val_loss\",\n",
    "    mode=\"min\"\n",
    ")\n",
    "\n",
    "# logger = TensorBoardLogger(\"lightning_logs\", name=\"watch-price\")\n",
    "\n",
    "early_stopping_callback = EarlyStopping(monitor='val_loss', patience=5)\n",
    "\n",
    "trainer = pl.Trainer(\n",
    "    # logger=logger,\n",
    "    checkpoint_callback=checkpoint_callback,\n",
    "    callbacks=[early_stopping_callback],\n",
    "    max_epochs=N_EPOCHS,\n",
    "    gpus=1,\n",
    "    progress_bar_refresh_rate=30\n",
    ")"
   ]
  },
  {
   "cell_type": "markdown",
   "metadata": {},
   "source": [
    "## Fit"
   ]
  },
  {
   "cell_type": "code",
   "execution_count": 472,
   "metadata": {},
   "outputs": [
    {
     "name": "stderr",
     "output_type": "stream",
     "text": [
      "LOCAL_RANK: 0 - CUDA_VISIBLE_DEVICES: [0]\n",
      "\n",
      "  | Name      | Type                 | Params\n",
      "---------------------------------------------------\n",
      "0 | model     | PricePredictionModel | 201 K \n",
      "1 | criterion | MSELoss              | 0     \n",
      "---------------------------------------------------\n",
      "201 K     Trainable params\n",
      "0         Non-trainable params\n",
      "201 K     Total params\n",
      "0.807     Total estimated model params size (MB)\n"
     ]
    },
    {
     "name": "stdout",
     "output_type": "stream",
     "text": [
      "Epoch 0: 100%|██████████| 53/53 [00:00<00:00, 98.91it/s, loss=0.0935, v_num=0, val_loss=0.123, train_loss=0.0372]"
     ]
    },
    {
     "name": "stderr",
     "output_type": "stream",
     "text": [
      "Epoch 0, global step 12: val_loss reached 0.12333 (best 0.12333), saving model to \"C:\\Users\\THETANG\\Documents\\GitHub\\2-Jan2022\\WatchLists\\checkpoints\\best-checkpoint-v9.ckpt\" as top 1\n"
     ]
    },
    {
     "name": "stdout",
     "output_type": "stream",
     "text": [
      "Epoch 1: 100%|██████████| 53/53 [00:00<00:00, 84.08it/s, loss=0.0412, v_num=0, val_loss=0.0636, train_loss=0.00478]"
     ]
    },
    {
     "name": "stderr",
     "output_type": "stream",
     "text": [
      "Epoch 1, global step 25: val_loss reached 0.06356 (best 0.06356), saving model to \"C:\\Users\\THETANG\\Documents\\GitHub\\2-Jan2022\\WatchLists\\checkpoints\\best-checkpoint-v9.ckpt\" as top 1\n"
     ]
    },
    {
     "name": "stdout",
     "output_type": "stream",
     "text": [
      "Epoch 2: 100%|██████████| 53/53 [00:00<00:00, 79.97it/s, loss=0.0347, v_num=0, val_loss=0.0538, train_loss=0.00273]"
     ]
    },
    {
     "name": "stderr",
     "output_type": "stream",
     "text": [
      "Epoch 2, global step 38: val_loss reached 0.05376 (best 0.05376), saving model to \"C:\\Users\\THETANG\\Documents\\GitHub\\2-Jan2022\\WatchLists\\checkpoints\\best-checkpoint-v9.ckpt\" as top 1\n"
     ]
    },
    {
     "name": "stdout",
     "output_type": "stream",
     "text": [
      "Epoch 3: 100%|██████████| 53/53 [00:00<00:00, 89.34it/s, loss=0.0349, v_num=0, val_loss=0.0525, train_loss=0.00244]"
     ]
    },
    {
     "name": "stderr",
     "output_type": "stream",
     "text": [
      "Epoch 3, global step 51: val_loss reached 0.05249 (best 0.05249), saving model to \"C:\\Users\\THETANG\\Documents\\GitHub\\2-Jan2022\\WatchLists\\checkpoints\\best-checkpoint-v9.ckpt\" as top 1\n"
     ]
    },
    {
     "name": "stdout",
     "output_type": "stream",
     "text": [
      "Epoch 4: 100%|██████████| 53/53 [00:00<00:00, 87.31it/s, loss=0.0343, v_num=0, val_loss=0.0511, train_loss=0.00317]"
     ]
    },
    {
     "name": "stderr",
     "output_type": "stream",
     "text": [
      "Epoch 4, global step 64: val_loss reached 0.05114 (best 0.05114), saving model to \"C:\\Users\\THETANG\\Documents\\GitHub\\2-Jan2022\\WatchLists\\checkpoints\\best-checkpoint-v9.ckpt\" as top 1\n"
     ]
    },
    {
     "name": "stdout",
     "output_type": "stream",
     "text": [
      "Epoch 5: 100%|██████████| 53/53 [00:00<00:00, 97.49it/s, loss=0.0337, v_num=0, val_loss=0.0531, train_loss=0.00303]"
     ]
    },
    {
     "name": "stderr",
     "output_type": "stream",
     "text": [
      "Epoch 5, step 77: val_loss was not in top 1\n"
     ]
    },
    {
     "name": "stdout",
     "output_type": "stream",
     "text": [
      "Epoch 6: 100%|██████████| 53/53 [00:00<00:00, 100.38it/s, loss=0.0336, v_num=0, val_loss=0.0487, train_loss=0.0024]"
     ]
    },
    {
     "name": "stderr",
     "output_type": "stream",
     "text": [
      "Epoch 6, global step 90: val_loss reached 0.04875 (best 0.04875), saving model to \"C:\\Users\\THETANG\\Documents\\GitHub\\2-Jan2022\\WatchLists\\checkpoints\\best-checkpoint-v9.ckpt\" as top 1\n"
     ]
    },
    {
     "name": "stdout",
     "output_type": "stream",
     "text": [
      "Epoch 7: 100%|██████████| 53/53 [00:00<00:00, 118.65it/s, loss=0.0336, v_num=0, val_loss=0.0468, train_loss=0.00202]"
     ]
    },
    {
     "name": "stderr",
     "output_type": "stream",
     "text": [
      "Epoch 7, global step 103: val_loss reached 0.04679 (best 0.04679), saving model to \"C:\\Users\\THETANG\\Documents\\GitHub\\2-Jan2022\\WatchLists\\checkpoints\\best-checkpoint-v9.ckpt\" as top 1\n"
     ]
    },
    {
     "name": "stdout",
     "output_type": "stream",
     "text": [
      "Epoch 8: 100%|██████████| 53/53 [00:00<00:00, 119.64it/s, loss=0.0339, v_num=0, val_loss=0.0434, train_loss=0.00182]"
     ]
    },
    {
     "name": "stderr",
     "output_type": "stream",
     "text": [
      "Epoch 8, global step 116: val_loss reached 0.04338 (best 0.04338), saving model to \"C:\\Users\\THETANG\\Documents\\GitHub\\2-Jan2022\\WatchLists\\checkpoints\\best-checkpoint-v9.ckpt\" as top 1\n"
     ]
    },
    {
     "name": "stdout",
     "output_type": "stream",
     "text": [
      "Epoch 9: 100%|██████████| 53/53 [00:00<00:00, 126.71it/s, loss=0.034, v_num=0, val_loss=0.0427, train_loss=0.00192] "
     ]
    },
    {
     "name": "stderr",
     "output_type": "stream",
     "text": [
      "Epoch 9, global step 129: val_loss reached 0.04271 (best 0.04271), saving model to \"C:\\Users\\THETANG\\Documents\\GitHub\\2-Jan2022\\WatchLists\\checkpoints\\best-checkpoint-v9.ckpt\" as top 1\n"
     ]
    },
    {
     "name": "stdout",
     "output_type": "stream",
     "text": [
      "Epoch 10: 100%|██████████| 53/53 [00:00<00:00, 129.06it/s, loss=0.0334, v_num=0, val_loss=0.0463, train_loss=0.00266]"
     ]
    },
    {
     "name": "stderr",
     "output_type": "stream",
     "text": [
      "Epoch 10, step 142: val_loss was not in top 1\n"
     ]
    },
    {
     "name": "stdout",
     "output_type": "stream",
     "text": [
      "Epoch 11: 100%|██████████| 53/53 [00:00<00:00, 120.38it/s, loss=0.0333, v_num=0, val_loss=0.0458, train_loss=0.0032] "
     ]
    },
    {
     "name": "stderr",
     "output_type": "stream",
     "text": [
      "Epoch 11, step 155: val_loss was not in top 1\n"
     ]
    },
    {
     "name": "stdout",
     "output_type": "stream",
     "text": [
      "Epoch 12: 100%|██████████| 53/53 [00:00<00:00, 128.86it/s, loss=0.0334, v_num=0, val_loss=0.0446, train_loss=0.00255]"
     ]
    },
    {
     "name": "stderr",
     "output_type": "stream",
     "text": [
      "Epoch 12, step 168: val_loss was not in top 1\n"
     ]
    },
    {
     "name": "stdout",
     "output_type": "stream",
     "text": [
      "Epoch 13: 100%|██████████| 53/53 [00:00<00:00, 123.34it/s, loss=0.0334, v_num=0, val_loss=0.0436, train_loss=0.0026] "
     ]
    },
    {
     "name": "stderr",
     "output_type": "stream",
     "text": [
      "Epoch 13, step 181: val_loss was not in top 1\n"
     ]
    },
    {
     "name": "stdout",
     "output_type": "stream",
     "text": [
      "Epoch 14: 100%|██████████| 53/53 [00:00<00:00, 122.29it/s, loss=0.0331, v_num=0, val_loss=0.0423, train_loss=0.00252]"
     ]
    },
    {
     "name": "stderr",
     "output_type": "stream",
     "text": [
      "Epoch 14, global step 194: val_loss reached 0.04231 (best 0.04231), saving model to \"C:\\Users\\THETANG\\Documents\\GitHub\\2-Jan2022\\WatchLists\\checkpoints\\best-checkpoint-v9.ckpt\" as top 1\n"
     ]
    },
    {
     "name": "stdout",
     "output_type": "stream",
     "text": [
      "Epoch 15: 100%|██████████| 53/53 [00:00<00:00, 126.21it/s, loss=0.033, v_num=0, val_loss=0.0435, train_loss=0.00239] "
     ]
    },
    {
     "name": "stderr",
     "output_type": "stream",
     "text": [
      "Epoch 15, step 207: val_loss was not in top 1\n"
     ]
    },
    {
     "name": "stdout",
     "output_type": "stream",
     "text": [
      "Epoch 16: 100%|██████████| 53/53 [00:00<00:00, 119.92it/s, loss=0.0325, v_num=0, val_loss=0.0428, train_loss=0.00285]"
     ]
    },
    {
     "name": "stderr",
     "output_type": "stream",
     "text": [
      "Epoch 16, step 220: val_loss was not in top 1\n"
     ]
    },
    {
     "name": "stdout",
     "output_type": "stream",
     "text": [
      "Epoch 17: 100%|██████████| 53/53 [00:00<00:00, 113.01it/s, loss=0.0328, v_num=0, val_loss=0.0442, train_loss=0.00267]"
     ]
    },
    {
     "name": "stderr",
     "output_type": "stream",
     "text": [
      "Epoch 17, step 233: val_loss was not in top 1\n"
     ]
    },
    {
     "name": "stdout",
     "output_type": "stream",
     "text": [
      "Epoch 18: 100%|██████████| 53/53 [00:00<00:00, 106.20it/s, loss=0.0323, v_num=0, val_loss=0.0409, train_loss=0.00199]"
     ]
    },
    {
     "name": "stderr",
     "output_type": "stream",
     "text": [
      "Epoch 18, global step 246: val_loss reached 0.04094 (best 0.04094), saving model to \"C:\\Users\\THETANG\\Documents\\GitHub\\2-Jan2022\\WatchLists\\checkpoints\\best-checkpoint-v9.ckpt\" as top 1\n"
     ]
    },
    {
     "name": "stdout",
     "output_type": "stream",
     "text": [
      "Epoch 19: 100%|██████████| 53/53 [00:00<00:00, 117.10it/s, loss=0.0324, v_num=0, val_loss=0.0448, train_loss=0.00285]"
     ]
    },
    {
     "name": "stderr",
     "output_type": "stream",
     "text": [
      "Epoch 19, step 259: val_loss was not in top 1\n"
     ]
    },
    {
     "name": "stdout",
     "output_type": "stream",
     "text": [
      "Epoch 20: 100%|██████████| 53/53 [00:00<00:00, 120.34it/s, loss=0.0321, v_num=0, val_loss=0.0422, train_loss=0.00231]"
     ]
    },
    {
     "name": "stderr",
     "output_type": "stream",
     "text": [
      "Epoch 20, step 272: val_loss was not in top 1\n"
     ]
    },
    {
     "name": "stdout",
     "output_type": "stream",
     "text": [
      "Epoch 21: 100%|██████████| 53/53 [00:00<00:00, 116.16it/s, loss=0.0321, v_num=0, val_loss=0.041, train_loss=0.00227] "
     ]
    },
    {
     "name": "stderr",
     "output_type": "stream",
     "text": [
      "Epoch 21, step 285: val_loss was not in top 1\n"
     ]
    },
    {
     "name": "stdout",
     "output_type": "stream",
     "text": [
      "Epoch 22: 100%|██████████| 53/53 [00:00<00:00, 123.18it/s, loss=0.0321, v_num=0, val_loss=0.0413, train_loss=0.00206]"
     ]
    },
    {
     "name": "stderr",
     "output_type": "stream",
     "text": [
      "Epoch 22, step 298: val_loss was not in top 1\n"
     ]
    },
    {
     "name": "stdout",
     "output_type": "stream",
     "text": [
      "Epoch 23: 100%|██████████| 53/53 [00:00<00:00, 116.26it/s, loss=0.0317, v_num=0, val_loss=0.0403, train_loss=0.00184]"
     ]
    },
    {
     "name": "stderr",
     "output_type": "stream",
     "text": [
      "Epoch 23, global step 311: val_loss reached 0.04030 (best 0.04030), saving model to \"C:\\Users\\THETANG\\Documents\\GitHub\\2-Jan2022\\WatchLists\\checkpoints\\best-checkpoint-v9.ckpt\" as top 1\n"
     ]
    },
    {
     "name": "stdout",
     "output_type": "stream",
     "text": [
      "Epoch 24: 100%|██████████| 53/53 [00:00<00:00, 108.97it/s, loss=0.0319, v_num=0, val_loss=0.0421, train_loss=0.00195]"
     ]
    },
    {
     "name": "stderr",
     "output_type": "stream",
     "text": [
      "Epoch 24, step 324: val_loss was not in top 1\n"
     ]
    },
    {
     "name": "stdout",
     "output_type": "stream",
     "text": [
      "Epoch 25: 100%|██████████| 53/53 [00:00<00:00, 119.23it/s, loss=0.0319, v_num=0, val_loss=0.0432, train_loss=0.0027] "
     ]
    },
    {
     "name": "stderr",
     "output_type": "stream",
     "text": [
      "Epoch 25, step 337: val_loss was not in top 1\n"
     ]
    },
    {
     "name": "stdout",
     "output_type": "stream",
     "text": [
      "Epoch 26: 100%|██████████| 53/53 [00:00<00:00, 117.69it/s, loss=0.0317, v_num=0, val_loss=0.0424, train_loss=0.00252]"
     ]
    },
    {
     "name": "stderr",
     "output_type": "stream",
     "text": [
      "Epoch 26, step 350: val_loss was not in top 1\n"
     ]
    },
    {
     "name": "stdout",
     "output_type": "stream",
     "text": [
      "Epoch 27: 100%|██████████| 53/53 [00:00<00:00, 113.54it/s, loss=0.0317, v_num=0, val_loss=0.0415, train_loss=0.00203]"
     ]
    },
    {
     "name": "stderr",
     "output_type": "stream",
     "text": [
      "Epoch 27, step 363: val_loss was not in top 1\n"
     ]
    },
    {
     "name": "stdout",
     "output_type": "stream",
     "text": [
      "Epoch 28: 100%|██████████| 53/53 [00:00<00:00, 112.78it/s, loss=0.0319, v_num=0, val_loss=0.0425, train_loss=0.00231]"
     ]
    },
    {
     "name": "stderr",
     "output_type": "stream",
     "text": [
      "Epoch 28, step 376: val_loss was not in top 1\n"
     ]
    },
    {
     "name": "stdout",
     "output_type": "stream",
     "text": [
      "Epoch 28: 100%|██████████| 53/53 [00:00<00:00, 110.43it/s, loss=0.0319, v_num=0, val_loss=0.0425, train_loss=0.00231]\n"
     ]
    },
    {
     "data": {
      "text/plain": [
       "1"
      ]
     },
     "execution_count": 472,
     "metadata": {},
     "output_type": "execute_result"
    }
   ],
   "source": [
    "trainer.fit(model, data_module)"
   ]
  },
  {
   "cell_type": "markdown",
   "metadata": {},
   "source": [
    "# Evaluation"
   ]
  },
  {
   "cell_type": "markdown",
   "metadata": {},
   "source": [
    "## Load trained model"
   ]
  },
  {
   "cell_type": "code",
   "execution_count": 390,
   "metadata": {},
   "outputs": [],
   "source": [
    "trained_model = PricePredictor.load_from_checkpoint(\n",
    "    \"checkpoints/best-checkpoint-v7.ckpt\",\n",
    "    n_features=train_df.shape[1]\n",
    ")"
   ]
  },
  {
   "cell_type": "code",
   "execution_count": 391,
   "metadata": {},
   "outputs": [],
   "source": [
    "trained_model.freeze()"
   ]
  },
  {
   "cell_type": "markdown",
   "metadata": {},
   "source": [
    "## Predictions"
   ]
  },
  {
   "cell_type": "code",
   "execution_count": 392,
   "metadata": {},
   "outputs": [
    {
     "data": {
      "application/vnd.jupyter.widget-view+json": {
       "model_id": "064aa3629ef04ecf8846468a08b2ee76",
       "version_major": 2,
       "version_minor": 0
      },
      "text/plain": [
       "  0%|          | 0/159 [00:00<?, ?it/s]"
      ]
     },
     "metadata": {},
     "output_type": "display_data"
    }
   ],
   "source": [
    "test_dataset = TS_Dataset(test_sequences)\n",
    "\n",
    "predictions = []\n",
    "labels = []\n",
    "\n",
    "for item in tqdm(test_dataset):\n",
    "    sequence = item['sequence']\n",
    "    label = item['label']\n",
    "\n",
    "    _, output = trained_model(sequence.unsqueeze(dim=0))\n",
    "    predictions.append(output.item())\n",
    "    labels.append(label.item())"
   ]
  },
  {
   "cell_type": "code",
   "execution_count": 393,
   "metadata": {},
   "outputs": [
    {
     "data": {
      "text/plain": [
       "(159, 189)"
      ]
     },
     "execution_count": 393,
     "metadata": {},
     "output_type": "execute_result"
    }
   ],
   "source": [
    "len(predictions), len(test_df)-SEQUENCE_LENGTH"
   ]
  },
  {
   "cell_type": "code",
   "execution_count": 394,
   "metadata": {},
   "outputs": [
    {
     "name": "stdout",
     "output_type": "stream",
     "text": [
      "[2.39607834815979, 2.396507740020752, 2.3966965675354004, 2.393723487854004, 2.392395257949829]\n"
     ]
    }
   ],
   "source": [
    "print(predictions[:5])"
   ]
  },
  {
   "cell_type": "markdown",
   "metadata": {},
   "source": [
    "## Descale"
   ]
  },
  {
   "cell_type": "code",
   "execution_count": 395,
   "metadata": {},
   "outputs": [],
   "source": [
    "def descale(descaler, values):\n",
    "    values_2d = np.array(values)[:, np.newaxis]\n",
    "    return descaler.inverse_transform(values_2d).flatten()"
   ]
  },
  {
   "cell_type": "code",
   "execution_count": 396,
   "metadata": {},
   "outputs": [
    {
     "name": "stdout",
     "output_type": "stream",
     "text": [
      "[-1.0, -1.0666666666666669, -1.03921568627451, -1.181818181818182, 0.3888808245028305, -3.0029264214046822]\n"
     ]
    }
   ],
   "source": [
    "print(scaler.min_)"
   ]
  },
  {
   "cell_type": "code",
   "execution_count": 397,
   "metadata": {},
   "outputs": [
    {
     "name": "stdout",
     "output_type": "stream",
     "text": [
      "-3.0029264214046822 0.0004180602006688\n",
      "Predictions:  [12914.4194088  12915.44651413 12915.89818955 12908.78658295\n",
      " 12905.60945702]\n",
      "Labels:  [13008.99978447 13044.99979782 13056.00026131 13082.9998436\n",
      " 13084.00014496]\n"
     ]
    }
   ],
   "source": [
    "descaler = MinMaxScaler()\n",
    "descaler.min_, descaler.scale_ = scaler.min_[-1], scaler.scale_[-1]\n",
    "print(scaler.min_[-1], scaler.scale_[-1])\n",
    "\n",
    "\n",
    "predictions_descaled = descale(descaler, predictions)\n",
    "labels_descaled = descale(descaler, labels)\n",
    "\n",
    "print(\"Predictions: \", predictions_descaled[:5])\n",
    "print(\"Labels: \", labels_descaled[:5])"
   ]
  },
  {
   "cell_type": "markdown",
   "metadata": {},
   "source": [
    "## Plot graph"
   ]
  },
  {
   "cell_type": "code",
   "execution_count": 398,
   "metadata": {},
   "outputs": [
    {
     "name": "stdout",
     "output_type": "stream",
     "text": [
      "(219, 4)\n",
      "(219, 6)\n"
     ]
    }
   ],
   "source": [
    "# train_data = watch[:train_size]\n",
    "test_data = watch[train_size:]\n",
    "print(test_data.shape)\n",
    "print(test_df.shape)"
   ]
  },
  {
   "cell_type": "code",
   "execution_count": 399,
   "metadata": {},
   "outputs": [
    {
     "name": "stdout",
     "output_type": "stream",
     "text": [
      "(189, 4)\n"
     ]
    }
   ],
   "source": [
    "test_sequences_data = test_data.iloc[SEQUENCE_LENGTH:]\n",
    "print(test_sequences_data.shape)"
   ]
  },
  {
   "cell_type": "code",
   "execution_count": 400,
   "metadata": {},
   "outputs": [
    {
     "data": {
      "image/png": "[encoded data removed]",
      "text/plain": [
       "<Figure size 864x576 with 1 Axes>"
      ]
     },
     "metadata": {
      "image/png": {
       "height": 501,
       "width": 730
      }
     },
     "output_type": "display_data"
    }
   ],
   "source": [
    "test_dates = matplotlib.dates.date2num(test_sequences_data.Date.tolist())\n",
    "all_dates = matplotlib.dates.date2num(watch.Date.tolist())\n",
    "plt.plot_date(test_dates[DAYS_PREDICTION:], predictions_descaled, '-', label='predicted')\n",
    "plt.plot_date(all_dates, watch.Price.tolist(), '-', label='real')\n",
    "\n",
    "# i = 185\n",
    "# plt.plot_date([test_dates[i-SEQUENCE_LENGTH], test_dates[i], test_dates[DAYS_PREDICTION+i]], \n",
    "# [labels_descaled[i-DAYS_PREDICTION-SEQUENCE_LENGTH], labels_descaled[i-DAYS_PREDICTION], predictions_descaled[i]], '-', label='PREDICTION_1')\n",
    "\n",
    "# i = 250\n",
    "# plt.plot_date([test_dates[i-SEQUENCE_LENGTH], test_dates[i], test_dates[DAYS_PREDICTION+i]], \n",
    "# [labels_descaled[i-DAYS_PREDICTION-SEQUENCE_LENGTH], labels_descaled[i-DAYS_PREDICTION], predictions_descaled[i]], '-', label='PREDICTION_2')\n",
    "\n",
    "# i = 620\n",
    "# plt.plot_date([test_dates[i-SEQUENCE_LENGTH], test_dates[i], test_dates[DAYS_PREDICTION+i]], \n",
    "# [labels_descaled[i-DAYS_PREDICTION-SEQUENCE_LENGTH], labels_descaled[i-DAYS_PREDICTION], predictions_descaled[i]], '-', label='PREDICTION_3')\n",
    "\n",
    "plt.xticks(rotation=45)\n",
    "# plt.legend()\n",
    "plt.show()"
   ]
  },
  {
   "cell_type": "markdown",
   "metadata": {},
   "source": [
    "# Evalution function"
   ]
  },
  {
   "cell_type": "code",
   "execution_count": 401,
   "metadata": {},
   "outputs": [],
   "source": [
    "# class prediction:\n",
    "#     def __init__(self, model_path, n_features):\n",
    "#         self.trained_model = PricePredictor.load_from_checkpoint(\n",
    "#             model_path,\n",
    "#             n_features=n_features\n",
    "#         )\n",
    "#         self.trained_model.freeze()\n",
    "\n",
    "#     def get_result(self, sequence, days):\n",
    "#         _, predictions = trained_model(sequence.unsqueeze(dim=0))\n",
    "        \n"
   ]
  },
  {
   "cell_type": "code",
   "execution_count": 402,
   "metadata": {},
   "outputs": [
    {
     "data": {
      "text/html": [
       "<div>\n",
       "<style scoped>\n",
       "    .dataframe tbody tr th:only-of-type {\n",
       "        vertical-align: middle;\n",
       "    }\n",
       "\n",
       "    .dataframe tbody tr th {\n",
       "        vertical-align: top;\n",
       "    }\n",
       "\n",
       "    .dataframe thead th {\n",
       "        text-align: right;\n",
       "    }\n",
       "</style>\n",
       "<table border=\"1\" class=\"dataframe\">\n",
       "  <thead>\n",
       "    <tr style=\"text-align: right;\">\n",
       "      <th></th>\n",
       "      <th>min</th>\n",
       "      <th>scale</th>\n",
       "    </tr>\n",
       "  </thead>\n",
       "  <tbody>\n",
       "    <tr>\n",
       "      <th>0</th>\n",
       "      <td>-1.000000</td>\n",
       "      <td>0.333333</td>\n",
       "    </tr>\n",
       "    <tr>\n",
       "      <th>1</th>\n",
       "      <td>-1.066667</td>\n",
       "      <td>0.066667</td>\n",
       "    </tr>\n",
       "    <tr>\n",
       "      <th>2</th>\n",
       "      <td>-1.039216</td>\n",
       "      <td>0.039216</td>\n",
       "    </tr>\n",
       "    <tr>\n",
       "      <th>3</th>\n",
       "      <td>-1.181818</td>\n",
       "      <td>0.181818</td>\n",
       "    </tr>\n",
       "    <tr>\n",
       "      <th>4</th>\n",
       "      <td>0.388881</td>\n",
       "      <td>0.000290</td>\n",
       "    </tr>\n",
       "  </tbody>\n",
       "</table>\n",
       "</div>"
      ],
      "text/plain": [
       "        min     scale\n",
       "0 -1.000000  0.333333\n",
       "1 -1.066667  0.066667\n",
       "2 -1.039216  0.039216\n",
       "3 -1.181818  0.181818\n",
       "4  0.388881  0.000290"
      ]
     },
     "execution_count": 402,
     "metadata": {},
     "output_type": "execute_result"
    }
   ],
   "source": [
    "df = pd.DataFrame()\n",
    "df['min'] = scaler.min_\n",
    "df['scale'] = scaler.scale_\n",
    "df.to_csv('checkpoints/scale.csv')\n",
    "df.head()"
   ]
  },
  {
   "cell_type": "code",
   "execution_count": null,
   "metadata": {},
   "outputs": [],
   "source": []
  },
  {
   "cell_type": "code",
   "execution_count": null,
   "metadata": {},
   "outputs": [],
   "source": []
  }
 ],
 "metadata": {
  "interpreter": {
   "hash": "54d292b6f3ca4ff13f504c55e6e4b729c6c0a14070d37d9d8c8aca786423add6"
  },
  "kernelspec": {
   "display_name": "Python 3.8.10 ('base')",
   "language": "python",
   "name": "python3"
  },
  "language_info": {
   "codemirror_mode": {
    "name": "ipython",
    "version": 3
   },
   "file_extension": ".py",
   "mimetype": "text/x-python",
   "name": "python",
   "nbconvert_exporter": "python",
   "pygments_lexer": "ipython3",
   "version": "3.8.12"
  },
  "orig_nbformat": 4
 },
 "nbformat": 4,
 "nbformat_minor": 2
}
