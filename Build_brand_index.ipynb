{
 "cells": [
  {
   "cell_type": "code",
   "execution_count": 1,
   "metadata": {},
   "outputs": [],
   "source": [
    "import pandas as pd\n",
    "import os\n",
    "import glob\n"
   ]
  },
  {
   "cell_type": "code",
   "execution_count": 59,
   "metadata": {},
   "outputs": [
    {
     "data": {
      "text/html": [
       "<div>\n",
       "<style scoped>\n",
       "    .dataframe tbody tr th:only-of-type {\n",
       "        vertical-align: middle;\n",
       "    }\n",
       "\n",
       "    .dataframe tbody tr th {\n",
       "        vertical-align: top;\n",
       "    }\n",
       "\n",
       "    .dataframe thead th {\n",
       "        text-align: right;\n",
       "    }\n",
       "</style>\n",
       "<table border=\"1\" class=\"dataframe\">\n",
       "  <thead>\n",
       "    <tr style=\"text-align: right;\">\n",
       "      <th></th>\n",
       "      <th>brand_index</th>\n",
       "      <th>Brand</th>\n",
       "      <th>Date</th>\n",
       "    </tr>\n",
       "  </thead>\n",
       "  <tbody>\n",
       "    <tr>\n",
       "      <th>0</th>\n",
       "      <td>32,449</td>\n",
       "      <td>A. Lange &amp; Söhne</td>\n",
       "      <td>2019-03-27</td>\n",
       "    </tr>\n",
       "    <tr>\n",
       "      <th>1</th>\n",
       "      <td>32,449</td>\n",
       "      <td>A. Lange &amp; Söhne</td>\n",
       "      <td>2019-03-28</td>\n",
       "    </tr>\n",
       "    <tr>\n",
       "      <th>2</th>\n",
       "      <td>32,449</td>\n",
       "      <td>A. Lange &amp; Söhne</td>\n",
       "      <td>2019-03-29</td>\n",
       "    </tr>\n",
       "    <tr>\n",
       "      <th>3</th>\n",
       "      <td>32,449</td>\n",
       "      <td>A. Lange &amp; Söhne</td>\n",
       "      <td>2019-03-30</td>\n",
       "    </tr>\n",
       "    <tr>\n",
       "      <th>4</th>\n",
       "      <td>32,449</td>\n",
       "      <td>A. Lange &amp; Söhne</td>\n",
       "      <td>2019-03-31</td>\n",
       "    </tr>\n",
       "  </tbody>\n",
       "</table>\n",
       "</div>"
      ],
      "text/plain": [
       "  brand_index             Brand       Date\n",
       "0      32,449  A. Lange & Söhne 2019-03-27\n",
       "1      32,449  A. Lange & Söhne 2019-03-28\n",
       "2      32,449  A. Lange & Söhne 2019-03-29\n",
       "3      32,449  A. Lange & Söhne 2019-03-30\n",
       "4      32,449  A. Lange & Söhne 2019-03-31"
      ]
     },
     "execution_count": 59,
     "metadata": {},
     "output_type": "execute_result"
    }
   ],
   "source": [
    "datasets_path = \"Datasets\\index\"\n",
    "\n",
    "dir_list = os.listdir(datasets_path)\n",
    "Model_Price_df = pd.DataFrame()\n",
    "\n",
    "for brand_path in glob.glob(datasets_path+\"\\*.csv\"):\n",
    "    df = pd.read_csv(brand_path, index_col=0, header=None)\n",
    "    df.columns = [\"brand_index\"]\n",
    "    df.index = pd.to_datetime(df.index, dayfirst=True)\n",
    "    df = df.resample('D', convention='s').min()\n",
    "    df.fillna(method='ffill', inplace=True)\n",
    "    brand_list = brand_path.split('\\\\')\n",
    "    brand = brand_list[-1].replace(\".csv\",\"\")\n",
    "    df[\"Brand\"] = brand\n",
    "    df[\"Date\"] = df.index\n",
    "    Model_Price_df = pd.concat([Model_Price_df, df], ignore_index=True)\n",
    "\n",
    "Model_Price_df.to_csv(\"Datasets\\For_visuallization\\Brand_Index.csv\", index=None)\n",
    "df.head()\n",
    "Model_Price_df.head()"
   ]
  },
  {
   "cell_type": "code",
   "execution_count": null,
   "metadata": {},
   "outputs": [],
   "source": []
  }
 ],
 "metadata": {
  "interpreter": {
   "hash": "e3529ad4e6f24ed55ce841983967ed178ebcded6f18a8fa1fd9fd5091a1d4700"
  },
  "kernelspec": {
   "display_name": "Python 3.8.12 ('BIA_env')",
   "language": "python",
   "name": "python3"
  },
  "language_info": {
   "codemirror_mode": {
    "name": "ipython",
    "version": 3
   },
   "file_extension": ".py",
   "mimetype": "text/x-python",
   "name": "python",
   "nbconvert_exporter": "python",
   "pygments_lexer": "ipython3",
   "version": "3.8.12"
  },
  "orig_nbformat": 4
 },
 "nbformat": 4,
 "nbformat_minor": 2
}
