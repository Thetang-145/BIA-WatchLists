{
 "cells": [
  {
   "cell_type": "code",
   "execution_count": 75,
   "metadata": {},
   "outputs": [],
   "source": [
    "import numpy as np\n",
    "import pandas as pd\n",
    "import matplotlib.pyplot as plt\n",
    "import seaborn as sns\n"
   ]
  },
  {
   "cell_type": "code",
   "execution_count": 76,
   "metadata": {},
   "outputs": [
    {
     "name": "stderr",
     "output_type": "stream",
     "text": [
      "C:\\Users\\THETANG\\AppData\\Local\\Temp\\ipykernel_14968\\1334029618.py:3: SettingWithCopyWarning: \n",
      "A value is trying to be set on a copy of a slice from a DataFrame\n",
      "\n",
      "See the caveats in the documentation: https://pandas.pydata.org/pandas-docs/stable/user_guide/indexing.html#returning-a-view-versus-a-copy\n",
      "  error_df.Predition[error_df.Predition == \"Next 30D\"] = '1M Prediction'\n",
      "C:\\Users\\THETANG\\AppData\\Local\\Temp\\ipykernel_14968\\1334029618.py:4: SettingWithCopyWarning: \n",
      "A value is trying to be set on a copy of a slice from a DataFrame\n",
      "\n",
      "See the caveats in the documentation: https://pandas.pydata.org/pandas-docs/stable/user_guide/indexing.html#returning-a-view-versus-a-copy\n",
      "  error_df.Predition[error_df.Predition == \"Next 90D\"] = '3M Prediction'\n"
     ]
    },
    {
     "data": {
      "text/html": [
       "<div>\n",
       "<style scoped>\n",
       "    .dataframe tbody tr th:only-of-type {\n",
       "        vertical-align: middle;\n",
       "    }\n",
       "\n",
       "    .dataframe tbody tr th {\n",
       "        vertical-align: top;\n",
       "    }\n",
       "\n",
       "    .dataframe thead th {\n",
       "        text-align: right;\n",
       "    }\n",
       "</style>\n",
       "<table border=\"1\" class=\"dataframe\">\n",
       "  <thead>\n",
       "    <tr style=\"text-align: right;\">\n",
       "      <th></th>\n",
       "      <th>Model</th>\n",
       "      <th>Predition</th>\n",
       "      <th>%Error</th>\n",
       "      <th>Unnamed: 3</th>\n",
       "      <th>Unnamed: 4</th>\n",
       "      <th>Unnamed: 5</th>\n",
       "    </tr>\n",
       "  </thead>\n",
       "  <tbody>\n",
       "    <tr>\n",
       "      <th>0</th>\n",
       "      <td>A. Lange &amp; Söhne 140.029</td>\n",
       "      <td>1M Prediction</td>\n",
       "      <td>2.891240</td>\n",
       "      <td>NaN</td>\n",
       "      <td>Next 30D</td>\n",
       "      <td>Next 90D</td>\n",
       "    </tr>\n",
       "    <tr>\n",
       "      <th>1</th>\n",
       "      <td>A. Lange &amp; Söhne 140.029</td>\n",
       "      <td>1M Prediction</td>\n",
       "      <td>2.953358</td>\n",
       "      <td>max</td>\n",
       "      <td>34.44470758</td>\n",
       "      <td>48.22971643</td>\n",
       "    </tr>\n",
       "    <tr>\n",
       "      <th>2</th>\n",
       "      <td>A. Lange &amp; Söhne 140.029</td>\n",
       "      <td>1M Prediction</td>\n",
       "      <td>3.015724</td>\n",
       "      <td>mean</td>\n",
       "      <td>6.604995748</td>\n",
       "      <td>11.74199977</td>\n",
       "    </tr>\n",
       "    <tr>\n",
       "      <th>3</th>\n",
       "      <td>A. Lange &amp; Söhne 140.029</td>\n",
       "      <td>1M Prediction</td>\n",
       "      <td>3.063079</td>\n",
       "      <td>NaN</td>\n",
       "      <td>NaN</td>\n",
       "      <td>NaN</td>\n",
       "    </tr>\n",
       "    <tr>\n",
       "      <th>4</th>\n",
       "      <td>A. Lange &amp; Söhne 140.029</td>\n",
       "      <td>1M Prediction</td>\n",
       "      <td>3.083076</td>\n",
       "      <td>NaN</td>\n",
       "      <td>NaN</td>\n",
       "      <td>NaN</td>\n",
       "    </tr>\n",
       "    <tr>\n",
       "      <th>...</th>\n",
       "      <td>...</td>\n",
       "      <td>...</td>\n",
       "      <td>...</td>\n",
       "      <td>...</td>\n",
       "      <td>...</td>\n",
       "      <td>...</td>\n",
       "    </tr>\n",
       "    <tr>\n",
       "      <th>15737</th>\n",
       "      <td>Vacheron Constantin 7900V110A-B334</td>\n",
       "      <td>3M Prediction</td>\n",
       "      <td>29.250224</td>\n",
       "      <td>NaN</td>\n",
       "      <td>NaN</td>\n",
       "      <td>NaN</td>\n",
       "    </tr>\n",
       "    <tr>\n",
       "      <th>15738</th>\n",
       "      <td>Vacheron Constantin 7900V110A-B334</td>\n",
       "      <td>3M Prediction</td>\n",
       "      <td>35.803871</td>\n",
       "      <td>NaN</td>\n",
       "      <td>NaN</td>\n",
       "      <td>NaN</td>\n",
       "    </tr>\n",
       "    <tr>\n",
       "      <th>15739</th>\n",
       "      <td>Vacheron Constantin 7900V110A-B334</td>\n",
       "      <td>3M Prediction</td>\n",
       "      <td>34.269666</td>\n",
       "      <td>NaN</td>\n",
       "      <td>NaN</td>\n",
       "      <td>NaN</td>\n",
       "    </tr>\n",
       "    <tr>\n",
       "      <th>15740</th>\n",
       "      <td>Vacheron Constantin 7900V110A-B334</td>\n",
       "      <td>3M Prediction</td>\n",
       "      <td>34.263465</td>\n",
       "      <td>NaN</td>\n",
       "      <td>NaN</td>\n",
       "      <td>NaN</td>\n",
       "    </tr>\n",
       "    <tr>\n",
       "      <th>15741</th>\n",
       "      <td>Vacheron Constantin 7900V110A-B334</td>\n",
       "      <td>3M Prediction</td>\n",
       "      <td>34.274747</td>\n",
       "      <td>NaN</td>\n",
       "      <td>NaN</td>\n",
       "      <td>NaN</td>\n",
       "    </tr>\n",
       "  </tbody>\n",
       "</table>\n",
       "<p>15742 rows × 6 columns</p>\n",
       "</div>"
      ],
      "text/plain": [
       "                                    Model      Predition     %Error  \\\n",
       "0                A. Lange & Söhne 140.029  1M Prediction   2.891240   \n",
       "1                A. Lange & Söhne 140.029  1M Prediction   2.953358   \n",
       "2                A. Lange & Söhne 140.029  1M Prediction   3.015724   \n",
       "3                A. Lange & Söhne 140.029  1M Prediction   3.063079   \n",
       "4                A. Lange & Söhne 140.029  1M Prediction   3.083076   \n",
       "...                                   ...            ...        ...   \n",
       "15737  Vacheron Constantin 7900V110A-B334  3M Prediction  29.250224   \n",
       "15738  Vacheron Constantin 7900V110A-B334  3M Prediction  35.803871   \n",
       "15739  Vacheron Constantin 7900V110A-B334  3M Prediction  34.269666   \n",
       "15740  Vacheron Constantin 7900V110A-B334  3M Prediction  34.263465   \n",
       "15741  Vacheron Constantin 7900V110A-B334  3M Prediction  34.274747   \n",
       "\n",
       "      Unnamed: 3   Unnamed: 4   Unnamed: 5  \n",
       "0            NaN     Next 30D     Next 90D  \n",
       "1            max  34.44470758  48.22971643  \n",
       "2           mean  6.604995748  11.74199977  \n",
       "3            NaN          NaN          NaN  \n",
       "4            NaN          NaN          NaN  \n",
       "...          ...          ...          ...  \n",
       "15737        NaN          NaN          NaN  \n",
       "15738        NaN          NaN          NaN  \n",
       "15739        NaN          NaN          NaN  \n",
       "15740        NaN          NaN          NaN  \n",
       "15741        NaN          NaN          NaN  \n",
       "\n",
       "[15742 rows x 6 columns]"
      ]
     },
     "execution_count": 76,
     "metadata": {},
     "output_type": "execute_result"
    }
   ],
   "source": [
    "error_df = pd.read_csv(\"results\\error.csv\")\n",
    "# ['1M Prediction', '3M Prediction']\n",
    "error_df.Predition[error_df.Predition == \"Next 30D\"] = '1M Prediction'\n",
    "error_df.Predition[error_df.Predition == \"Next 90D\"] = '3M Prediction'\n",
    "error_df"
   ]
  },
  {
   "cell_type": "code",
   "execution_count": 78,
   "metadata": {},
   "outputs": [],
   "source": [
    "sns.set_theme(style=\"ticks\", palette=\"pastel\")\n",
    "pic_path = \"results\\Error\\\\\""
   ]
  },
  {
   "cell_type": "code",
   "execution_count": 79,
   "metadata": {},
   "outputs": [
    {
     "data": {
      "image/png": "[encoded data removed]",
      "text/plain": [
       "<Figure size 1080x360 with 1 Axes>"
      ]
     },
     "metadata": {},
     "output_type": "display_data"
    }
   ],
   "source": [
    "sns.set(rc={'figure.figsize':(15, 5)})\n",
    "sns.set_theme(style=\"ticks\", palette=\"pastel\")\n",
    "\n",
    "ax = sns.boxplot(x=\"Model\", y=\"%Error\", data=error_df[error_df.Predition == \"1M Prediction\"])\n",
    "ax.set(xticklabels=[])\n",
    "ax.tick_params(bottom=False)\n",
    "plt.grid(True, axis='y')\n",
    "plt.title('1M Prediction', fontsize=15)\n",
    "plt.xlabel(\"Watch models\")\n",
    "sns.despine(offset=10, trim=True)\n",
    "plt.savefig(pic_path+'1M_Prediction.png')\n",
    "\n",
    "\n",
    "plt.show()"
   ]
  },
  {
   "cell_type": "code",
   "execution_count": 80,
   "metadata": {},
   "outputs": [
    {
     "data": {
      "image/png": "[encoded data removed]",
      "text/plain": [
       "<Figure size 1080x360 with 1 Axes>"
      ]
     },
     "metadata": {},
     "output_type": "display_data"
    }
   ],
   "source": [
    "sns.set(rc={'figure.figsize':(15, 5)})\n",
    "sns.set_theme(style=\"ticks\", palette=\"pastel\")\n",
    "\n",
    "ax = sns.boxplot(x=\"Model\", y=\"%Error\", data=error_df[error_df.Predition == \"3M Prediction\"])\n",
    "ax.set(xticklabels=[])\n",
    "ax.tick_params(bottom=False)\n",
    "plt.grid(True, axis='y')\n",
    "plt.title('3M Prediction', fontsize=15)\n",
    "plt.xlabel(\"Watch models\")\n",
    "sns.despine(offset=10, trim=True)\n",
    "plt.savefig(pic_path+'3M_Prediction.png')\n",
    "\n",
    "\n",
    "plt.show()"
   ]
  },
  {
   "cell_type": "code",
   "execution_count": 81,
   "metadata": {},
   "outputs": [
    {
     "data": {
      "image/png": "[encoded data removed]",
      "text/plain": [
       "<Figure size 288x288 with 1 Axes>"
      ]
     },
     "metadata": {},
     "output_type": "display_data"
    }
   ],
   "source": [
    "sns.set(rc={'figure.figsize':(4, 4)})\n",
    "sns.set_theme(style=\"ticks\", palette=\"pastel\")\n",
    "\n",
    "ax = sns.boxplot(x=\"Predition\", y=\"%Error\", hue=\"Predition\", data=error_df)\n",
    "ax.set(xticklabels=[])\n",
    "ax.tick_params(bottom=False)\n",
    "plt.grid(True, axis='y')\n",
    "plt.title('Overall Prediction', fontsize=15)\n",
    "sns.despine(offset=10, trim=True)\n",
    "plt.xlabel(None)\n",
    "ax.tick_params()\n",
    "plt.savefig(pic_path+'Overall_Prediction.png')\n",
    "\n",
    "plt.show()"
   ]
  },
  {
   "cell_type": "code",
   "execution_count": 82,
   "metadata": {},
   "outputs": [
    {
     "data": {
      "text/html": [
       "<div>\n",
       "<style scoped>\n",
       "    .dataframe tbody tr th:only-of-type {\n",
       "        vertical-align: middle;\n",
       "    }\n",
       "\n",
       "    .dataframe tbody tr th {\n",
       "        vertical-align: top;\n",
       "    }\n",
       "\n",
       "    .dataframe thead tr th {\n",
       "        text-align: left;\n",
       "    }\n",
       "\n",
       "    .dataframe thead tr:last-of-type th {\n",
       "        text-align: right;\n",
       "    }\n",
       "</style>\n",
       "<table border=\"1\" class=\"dataframe\">\n",
       "  <thead>\n",
       "    <tr>\n",
       "      <th></th>\n",
       "      <th colspan=\"3\" halign=\"left\">%Error</th>\n",
       "    </tr>\n",
       "    <tr>\n",
       "      <th></th>\n",
       "      <th>min</th>\n",
       "      <th>mean</th>\n",
       "      <th>max</th>\n",
       "    </tr>\n",
       "    <tr>\n",
       "      <th>Predition</th>\n",
       "      <th></th>\n",
       "      <th></th>\n",
       "      <th></th>\n",
       "    </tr>\n",
       "  </thead>\n",
       "  <tbody>\n",
       "    <tr>\n",
       "      <th>1M Prediction</th>\n",
       "      <td>0.001852</td>\n",
       "      <td>6.604996</td>\n",
       "      <td>34.444708</td>\n",
       "    </tr>\n",
       "    <tr>\n",
       "      <th>3M Prediction</th>\n",
       "      <td>0.000244</td>\n",
       "      <td>11.742000</td>\n",
       "      <td>48.229716</td>\n",
       "    </tr>\n",
       "  </tbody>\n",
       "</table>\n",
       "</div>"
      ],
      "text/plain": [
       "                 %Error                      \n",
       "                    min       mean        max\n",
       "Predition                                    \n",
       "1M Prediction  0.001852   6.604996  34.444708\n",
       "3M Prediction  0.000244  11.742000  48.229716"
      ]
     },
     "execution_count": 82,
     "metadata": {},
     "output_type": "execute_result"
    }
   ],
   "source": [
    "sum_err = error_df.groupby(['Predition'],0).agg(\n",
    "    {'%Error':['min', 'mean', 'max']})\n",
    "sum_err"
   ]
  },
  {
   "cell_type": "code",
   "execution_count": 83,
   "metadata": {},
   "outputs": [
    {
     "data": {
      "text/html": [
       "<div>\n",
       "<style scoped>\n",
       "    .dataframe tbody tr th:only-of-type {\n",
       "        vertical-align: middle;\n",
       "    }\n",
       "\n",
       "    .dataframe tbody tr th {\n",
       "        vertical-align: top;\n",
       "    }\n",
       "\n",
       "    .dataframe thead tr th {\n",
       "        text-align: left;\n",
       "    }\n",
       "\n",
       "    .dataframe thead tr:last-of-type th {\n",
       "        text-align: right;\n",
       "    }\n",
       "</style>\n",
       "<table border=\"1\" class=\"dataframe\">\n",
       "  <thead>\n",
       "    <tr>\n",
       "      <th></th>\n",
       "      <th colspan=\"3\" halign=\"left\">%Error</th>\n",
       "    </tr>\n",
       "    <tr>\n",
       "      <th></th>\n",
       "      <th>min</th>\n",
       "      <th>mean</th>\n",
       "      <th>max</th>\n",
       "    </tr>\n",
       "    <tr>\n",
       "      <th>Predition</th>\n",
       "      <th></th>\n",
       "      <th></th>\n",
       "      <th></th>\n",
       "    </tr>\n",
       "  </thead>\n",
       "  <tbody>\n",
       "    <tr>\n",
       "      <th>1M Prediction</th>\n",
       "      <td>0.68</td>\n",
       "      <td>6.26</td>\n",
       "      <td>22.02</td>\n",
       "    </tr>\n",
       "    <tr>\n",
       "      <th>3M Prediction</th>\n",
       "      <td>0.60</td>\n",
       "      <td>11.31</td>\n",
       "      <td>41.07</td>\n",
       "    </tr>\n",
       "  </tbody>\n",
       "</table>\n",
       "</div>"
      ],
      "text/plain": [
       "              %Error              \n",
       "                 min   mean    max\n",
       "Predition                         \n",
       "1M Prediction   0.68   6.26  22.02\n",
       "3M Prediction   0.60  11.31  41.07"
      ]
     },
     "execution_count": 83,
     "metadata": {},
     "output_type": "execute_result"
    }
   ],
   "source": [
    "sum_err = error_df.groupby(['Model', 'Predition'],0).agg(\n",
    "    {'%Error':['mean']})\n",
    "sum_err = sum_err.droplevel(1, axis=1)\n",
    "sum_err = sum_err.reset_index()\n",
    "sum_err = sum_err.groupby(['Predition'],0).agg(\n",
    "    {'%Error':['min', 'mean', 'max']})\n",
    "sum_err = np.round(sum_err, decimals = 2)\n",
    "sum_err"
   ]
  },
  {
   "cell_type": "code",
   "execution_count": null,
   "metadata": {},
   "outputs": [],
   "source": []
  }
 ],
 "metadata": {
  "interpreter": {
   "hash": "e3529ad4e6f24ed55ce841983967ed178ebcded6f18a8fa1fd9fd5091a1d4700"
  },
  "kernelspec": {
   "display_name": "Python 3.8.12 ('BIA_env')",
   "language": "python",
   "name": "python3"
  },
  "language_info": {
   "codemirror_mode": {
    "name": "ipython",
    "version": 3
   },
   "file_extension": ".py",
   "mimetype": "text/x-python",
   "name": "python",
   "nbconvert_exporter": "python",
   "pygments_lexer": "ipython3",
   "version": "3.8.12"
  },
  "orig_nbformat": 4
 },
 "nbformat": 4,
 "nbformat_minor": 2
}
